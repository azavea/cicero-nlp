{
  "cells": [
    {
      "cell_type": "markdown",
      "metadata": {
        "id": "UbDlCCmnt8Dc"
      },
      "source": [
        "## Summary"
      ]
    },
    {
      "cell_type": "markdown",
      "metadata": {
        "id": "hqBAneo7xWr9"
      },
      "source": [
        "This code is the runnable python notebook version of `bio_tagging_address.py`"
      ]
    },
    {
      "cell_type": "markdown",
      "metadata": {
        "id": "fu9fWXcWxUCX"
      },
      "source": [
        "This file is used to BIO tagging on the address information. One synthetic dataset will be created."
      ]
    },
    {
      "cell_type": "markdown",
      "metadata": {
        "id": "EVgCS-fYymV9"
      },
      "source": [
        "The output file will be in the format of spaCy Doc file."
      ]
    },
    {
      "cell_type": "markdown",
      "metadata": {
        "id": "Zg8WUFxzxmnH"
      },
      "source": [
        "special tricks applied: \n",
        "1. insert the address together into the essays in the [Hewlett ASAP essay dataset](https://www.kaggle.com/competitions/asap-aes/overview) dataset.\n",
        "2. insert the entities from the [CoNLL 2003 dataset](https://www.clips.uantwerpen.be/conll2003/ner/) entities dataset into the essays in the essay dataset, to increase the difficulty of the task.\n"
      ]
    },
    {
      "cell_type": "markdown",
      "metadata": {
        "id": "uZXzPph_MM5M"
      },
      "source": [
        "special dependencies:\n",
        "1. Hewlett ASAP essay dataset\n",
        "2. CoNLL 2003 dataset "
      ]
    },
    {
      "cell_type": "markdown",
      "metadata": {
        "id": "DhdO0xCLt88N"
      },
      "source": [
        "## Import"
      ]
    },
    {
      "cell_type": "code",
      "execution_count": null,
      "metadata": {
        "id": "BhrcO56Ot4a6"
      },
      "outputs": [],
      "source": [
        "import collections\n",
        "import os\n",
        "import random\n",
        "import re\n",
        "from pathlib import Path\n",
        "from random import randrange\n",
        "\n",
        "import numpy as np\n",
        "import pandas as pd\n",
        "import spacy\n",
        "from sklearn.model_selection import train_test_split\n",
        "from spacy.tokens import Doc, DocBin\n",
        "from spacy.util import filter_spans\n",
        "from tqdm import tqdm"
      ]
    },
    {
      "cell_type": "markdown",
      "metadata": {
        "id": "yR_HgmGvuF17"
      },
      "source": [
        "## Load Data"
      ]
    },
    {
      "cell_type": "code",
      "execution_count": null,
      "metadata": {},
      "outputs": [],
      "source": [
        "# your own path to cicero data\n",
        "CICERO_DATA_PATH = ''\n",
        "\n",
        "# your own path to one essay tsv file in the Hewlett dataset\n",
        "ESSAY_FILE_PATH = ''\n",
        "\n",
        "# your own path to the CONLL folder\n",
        "CONLL_PATH = ''"
      ]
    },
    {
      "cell_type": "code",
      "execution_count": null,
      "metadata": {
        "id": "M569HBvHuUye"
      },
      "outputs": [],
      "source": [
        "# load the Cicero data\n",
        "cicero_df = pd.read_csv('CICERO_DATA_PATH',\\\n",
        "                  error_bad_lines=False)"
      ]
    },
    {
      "cell_type": "code",
      "execution_count": null,
      "metadata": {
        "id": "36HQTy1gQx7w"
      },
      "outputs": [],
      "source": [
        "# load the essay dataset\n",
        "essay = pd.read_table('ESSAY_FILE_PATH', encoding='mac_roman')"
      ]
    },
    {
      "cell_type": "code",
      "execution_count": null,
      "metadata": {
        "id": "24tx5RBi7mJC"
      },
      "outputs": [],
      "source": [
        "conll = Path(\"CONLL_PATH\")"
      ]
    },
    {
      "cell_type": "code",
      "execution_count": null,
      "metadata": {
        "id": "5pgbkZn27gUU"
      },
      "outputs": [],
      "source": [
        "# load the CoNLL 2003 dataset\n",
        "doc_bin = DocBin().from_disk(conll/\"train.spacy\")\n",
        "nlp = spacy.load('en_core_web_sm')\n",
        "conll_docs = list(doc_bin.get_docs(nlp.vocab))\n",
        "conll_ents = [n.ents for n in conll_docs if len(n.ents)>0 ]"
      ]
    },
    {
      "cell_type": "markdown",
      "metadata": {
        "id": "RTzRXLF2uIQl"
      },
      "source": [
        "## Bio tagging"
      ]
    },
    {
      "cell_type": "code",
      "execution_count": null,
      "metadata": {
        "id": "ce_v76IXwQ1w"
      },
      "outputs": [],
      "source": [
        "output = Path(\"./address/\")"
      ]
    },
    {
      "cell_type": "code",
      "execution_count": null,
      "metadata": {
        "id": "aY-1HxPpxALe"
      },
      "outputs": [],
      "source": [
        "# detect if the output directory exists\n",
        "if not os.path.exists(output):\n",
        "    os.makedirs(output)"
      ]
    },
    {
      "cell_type": "code",
      "execution_count": null,
      "metadata": {
        "colab": {
          "base_uri": "https://localhost:8080/"
        },
        "id": "4BUWo_NHuFYb",
        "outputId": "4d67565d-7caf-4e31-863a-89944e4f63ac"
      },
      "outputs": [
        {
          "name": "stderr",
          "output_type": "stream",
          "text": [
            "  4%|▍         | 79/1919 [00:14<05:45,  5.33it/s]/usr/local/lib/python3.8/dist-packages/spacy/pipeline/span_ruler.py:507: UserWarning: [W036] The component 'span_ruler' does not have any patterns defined.\n",
            "  warnings.warn(Warnings.W036.format(name=self.name))\n",
            "  4%|▍         | 81/1919 [00:14<05:02,  6.07it/s]/usr/local/lib/python3.8/dist-packages/spacy/pipeline/span_ruler.py:507: UserWarning: [W036] The component 'span_ruler' does not have any patterns defined.\n",
            "  warnings.warn(Warnings.W036.format(name=self.name))\n",
            "  4%|▍         | 84/1919 [00:15<05:24,  5.65it/s]/usr/local/lib/python3.8/dist-packages/spacy/pipeline/span_ruler.py:507: UserWarning: [W036] The component 'span_ruler' does not have any patterns defined.\n",
            "  warnings.warn(Warnings.W036.format(name=self.name))\n",
            "  5%|▌         | 105/1919 [00:19<05:54,  5.11it/s]/usr/local/lib/python3.8/dist-packages/spacy/pipeline/span_ruler.py:507: UserWarning: [W036] The component 'span_ruler' does not have any patterns defined.\n",
            "  warnings.warn(Warnings.W036.format(name=self.name))\n",
            " 10%|▉         | 188/1919 [00:32<05:02,  5.72it/s]/usr/local/lib/python3.8/dist-packages/spacy/pipeline/span_ruler.py:507: UserWarning: [W036] The component 'span_ruler' does not have any patterns defined.\n",
            "  warnings.warn(Warnings.W036.format(name=self.name))\n",
            " 11%|█▏        | 219/1919 [00:38<04:57,  5.72it/s]/usr/local/lib/python3.8/dist-packages/spacy/pipeline/span_ruler.py:507: UserWarning: [W036] The component 'span_ruler' does not have any patterns defined.\n",
            "  warnings.warn(Warnings.W036.format(name=self.name))\n",
            " 12%|█▏        | 221/1919 [00:38<04:38,  6.09it/s]/usr/local/lib/python3.8/dist-packages/spacy/pipeline/span_ruler.py:507: UserWarning: [W036] The component 'span_ruler' does not have any patterns defined.\n",
            "  warnings.warn(Warnings.W036.format(name=self.name))\n",
            " 15%|█▌        | 294/1919 [00:51<04:03,  6.67it/s]/usr/local/lib/python3.8/dist-packages/spacy/pipeline/span_ruler.py:507: UserWarning: [W036] The component 'span_ruler' does not have any patterns defined.\n",
            "  warnings.warn(Warnings.W036.format(name=self.name))\n",
            " 17%|█▋        | 324/1919 [00:56<04:50,  5.50it/s]/usr/local/lib/python3.8/dist-packages/spacy/pipeline/span_ruler.py:507: UserWarning: [W036] The component 'span_ruler' does not have any patterns defined.\n",
            "  warnings.warn(Warnings.W036.format(name=self.name))\n",
            " 17%|█▋        | 326/1919 [00:56<04:45,  5.59it/s]/usr/local/lib/python3.8/dist-packages/spacy/pipeline/span_ruler.py:507: UserWarning: [W036] The component 'span_ruler' does not have any patterns defined.\n",
            "  warnings.warn(Warnings.W036.format(name=self.name))\n",
            " 18%|█▊        | 353/1919 [01:01<04:26,  5.87it/s]/usr/local/lib/python3.8/dist-packages/spacy/pipeline/span_ruler.py:507: UserWarning: [W036] The component 'span_ruler' does not have any patterns defined.\n",
            "  warnings.warn(Warnings.W036.format(name=self.name))\n",
            " 18%|█▊        | 354/1919 [01:01<04:12,  6.19it/s]/usr/local/lib/python3.8/dist-packages/spacy/pipeline/span_ruler.py:507: UserWarning: [W036] The component 'span_ruler' does not have any patterns defined.\n",
            "  warnings.warn(Warnings.W036.format(name=self.name))\n",
            " 19%|█▉        | 363/1919 [01:02<03:42,  6.98it/s]/usr/local/lib/python3.8/dist-packages/spacy/pipeline/span_ruler.py:507: UserWarning: [W036] The component 'span_ruler' does not have any patterns defined.\n",
            "  warnings.warn(Warnings.W036.format(name=self.name))\n",
            " 20%|█▉        | 376/1919 [01:04<04:12,  6.12it/s]/usr/local/lib/python3.8/dist-packages/spacy/pipeline/span_ruler.py:507: UserWarning: [W036] The component 'span_ruler' does not have any patterns defined.\n",
            "  warnings.warn(Warnings.W036.format(name=self.name))\n",
            " 24%|██▎       | 454/1919 [01:17<04:16,  5.71it/s]/usr/local/lib/python3.8/dist-packages/spacy/pipeline/span_ruler.py:507: UserWarning: [W036] The component 'span_ruler' does not have any patterns defined.\n",
            "  warnings.warn(Warnings.W036.format(name=self.name))\n",
            " 24%|██▍       | 469/1919 [01:20<03:30,  6.89it/s]/usr/local/lib/python3.8/dist-packages/spacy/pipeline/span_ruler.py:507: UserWarning: [W036] The component 'span_ruler' does not have any patterns defined.\n",
            "  warnings.warn(Warnings.W036.format(name=self.name))\n",
            " 24%|██▍       | 470/1919 [01:20<03:34,  6.76it/s]/usr/local/lib/python3.8/dist-packages/spacy/pipeline/span_ruler.py:507: UserWarning: [W036] The component 'span_ruler' does not have any patterns defined.\n",
            "  warnings.warn(Warnings.W036.format(name=self.name))\n",
            " 26%|██▌       | 499/1919 [01:25<03:24,  6.94it/s]/usr/local/lib/python3.8/dist-packages/spacy/pipeline/span_ruler.py:507: UserWarning: [W036] The component 'span_ruler' does not have any patterns defined.\n",
            "  warnings.warn(Warnings.W036.format(name=self.name))\n",
            " 26%|██▌       | 502/1919 [01:25<04:12,  5.62it/s]/usr/local/lib/python3.8/dist-packages/spacy/pipeline/span_ruler.py:507: UserWarning: [W036] The component 'span_ruler' does not have any patterns defined.\n",
            "  warnings.warn(Warnings.W036.format(name=self.name))\n",
            " 27%|██▋       | 511/1919 [01:27<04:11,  5.59it/s]/usr/local/lib/python3.8/dist-packages/spacy/pipeline/span_ruler.py:507: UserWarning: [W036] The component 'span_ruler' does not have any patterns defined.\n",
            "  warnings.warn(Warnings.W036.format(name=self.name))\n",
            " 27%|██▋       | 527/1919 [01:29<03:48,  6.10it/s]/usr/local/lib/python3.8/dist-packages/spacy/pipeline/span_ruler.py:507: UserWarning: [W036] The component 'span_ruler' does not have any patterns defined.\n",
            "  warnings.warn(Warnings.W036.format(name=self.name))\n",
            " 32%|███▏      | 615/1919 [01:44<02:43,  7.99it/s]/usr/local/lib/python3.8/dist-packages/spacy/pipeline/span_ruler.py:507: UserWarning: [W036] The component 'span_ruler' does not have any patterns defined.\n",
            "  warnings.warn(Warnings.W036.format(name=self.name))\n",
            " 35%|███▍      | 663/1919 [01:51<03:14,  6.46it/s]/usr/local/lib/python3.8/dist-packages/spacy/pipeline/span_ruler.py:507: UserWarning: [W036] The component 'span_ruler' does not have any patterns defined.\n",
            "  warnings.warn(Warnings.W036.format(name=self.name))\n",
            " 36%|███▋      | 700/1919 [01:57<03:18,  6.14it/s]/usr/local/lib/python3.8/dist-packages/spacy/pipeline/span_ruler.py:507: UserWarning: [W036] The component 'span_ruler' does not have any patterns defined.\n",
            "  warnings.warn(Warnings.W036.format(name=self.name))\n",
            " 37%|███▋      | 706/1919 [01:58<03:55,  5.15it/s]/usr/local/lib/python3.8/dist-packages/spacy/pipeline/span_ruler.py:507: UserWarning: [W036] The component 'span_ruler' does not have any patterns defined.\n",
            "  warnings.warn(Warnings.W036.format(name=self.name))\n",
            " 38%|███▊      | 729/1919 [02:02<02:59,  6.62it/s]/usr/local/lib/python3.8/dist-packages/spacy/pipeline/span_ruler.py:507: UserWarning: [W036] The component 'span_ruler' does not have any patterns defined.\n",
            "  warnings.warn(Warnings.W036.format(name=self.name))\n",
            " 41%|████▏     | 796/1919 [02:14<03:31,  5.30it/s]/usr/local/lib/python3.8/dist-packages/spacy/pipeline/span_ruler.py:507: UserWarning: [W036] The component 'span_ruler' does not have any patterns defined.\n",
            "  warnings.warn(Warnings.W036.format(name=self.name))\n",
            " 42%|████▏     | 807/1919 [02:15<02:47,  6.62it/s]/usr/local/lib/python3.8/dist-packages/spacy/pipeline/span_ruler.py:507: UserWarning: [W036] The component 'span_ruler' does not have any patterns defined.\n",
            "  warnings.warn(Warnings.W036.format(name=self.name))\n",
            " 44%|████▎     | 838/1919 [02:21<03:42,  4.85it/s]/usr/local/lib/python3.8/dist-packages/spacy/pipeline/span_ruler.py:507: UserWarning: [W036] The component 'span_ruler' does not have any patterns defined.\n",
            "  warnings.warn(Warnings.W036.format(name=self.name))\n",
            " 45%|████▍     | 861/1919 [02:25<03:08,  5.60it/s]/usr/local/lib/python3.8/dist-packages/spacy/pipeline/span_ruler.py:507: UserWarning: [W036] The component 'span_ruler' does not have any patterns defined.\n",
            "  warnings.warn(Warnings.W036.format(name=self.name))\n",
            " 45%|████▌     | 873/1919 [02:27<03:03,  5.70it/s]/usr/local/lib/python3.8/dist-packages/spacy/pipeline/span_ruler.py:507: UserWarning: [W036] The component 'span_ruler' does not have any patterns defined.\n",
            "  warnings.warn(Warnings.W036.format(name=self.name))\n",
            " 46%|████▌     | 877/1919 [02:28<02:32,  6.85it/s]/usr/local/lib/python3.8/dist-packages/spacy/pipeline/span_ruler.py:507: UserWarning: [W036] The component 'span_ruler' does not have any patterns defined.\n",
            "  warnings.warn(Warnings.W036.format(name=self.name))\n",
            " 49%|████▉     | 937/1919 [02:38<02:42,  6.03it/s]/usr/local/lib/python3.8/dist-packages/spacy/pipeline/span_ruler.py:507: UserWarning: [W036] The component 'span_ruler' does not have any patterns defined.\n",
            "  warnings.warn(Warnings.W036.format(name=self.name))\n",
            " 52%|█████▏    | 992/1919 [02:48<03:12,  4.82it/s]/usr/local/lib/python3.8/dist-packages/spacy/pipeline/span_ruler.py:507: UserWarning: [W036] The component 'span_ruler' does not have any patterns defined.\n",
            "  warnings.warn(Warnings.W036.format(name=self.name))\n",
            " 52%|█████▏    | 1004/1919 [02:51<02:34,  5.91it/s]/usr/local/lib/python3.8/dist-packages/spacy/pipeline/span_ruler.py:507: UserWarning: [W036] The component 'span_ruler' does not have any patterns defined.\n",
            "  warnings.warn(Warnings.W036.format(name=self.name))\n",
            " 68%|██████▊   | 1306/1919 [03:33<00:46, 13.21it/s]/usr/local/lib/python3.8/dist-packages/spacy/pipeline/span_ruler.py:507: UserWarning: [W036] The component 'span_ruler' does not have any patterns defined.\n",
            "  warnings.warn(Warnings.W036.format(name=self.name))\n",
            " 68%|██████▊   | 1314/1919 [03:34<00:52, 11.47it/s]/usr/local/lib/python3.8/dist-packages/spacy/pipeline/span_ruler.py:507: UserWarning: [W036] The component 'span_ruler' does not have any patterns defined.\n",
            "  warnings.warn(Warnings.W036.format(name=self.name))\n",
            " 73%|███████▎  | 1399/1919 [03:42<00:50, 10.37it/s]/usr/local/lib/python3.8/dist-packages/spacy/pipeline/span_ruler.py:507: UserWarning: [W036] The component 'span_ruler' does not have any patterns defined.\n",
            "  warnings.warn(Warnings.W036.format(name=self.name))\n",
            " 79%|███████▉  | 1523/1919 [03:53<00:39,  9.98it/s]/usr/local/lib/python3.8/dist-packages/spacy/pipeline/span_ruler.py:507: UserWarning: [W036] The component 'span_ruler' does not have any patterns defined.\n",
            "  warnings.warn(Warnings.W036.format(name=self.name))\n",
            " 81%|████████  | 1558/1919 [03:56<00:38,  9.44it/s]/usr/local/lib/python3.8/dist-packages/spacy/pipeline/span_ruler.py:507: UserWarning: [W036] The component 'span_ruler' does not have any patterns defined.\n",
            "  warnings.warn(Warnings.W036.format(name=self.name))\n",
            " 82%|████████▏ | 1568/1919 [03:57<00:29, 11.72it/s]/usr/local/lib/python3.8/dist-packages/spacy/pipeline/span_ruler.py:507: UserWarning: [W036] The component 'span_ruler' does not have any patterns defined.\n",
            "  warnings.warn(Warnings.W036.format(name=self.name))\n",
            " 84%|████████▍ | 1610/1919 [04:01<00:28, 10.76it/s]/usr/local/lib/python3.8/dist-packages/spacy/pipeline/span_ruler.py:507: UserWarning: [W036] The component 'span_ruler' does not have any patterns defined.\n",
            "  warnings.warn(Warnings.W036.format(name=self.name))\n",
            " 87%|████████▋ | 1664/1919 [04:05<00:22, 11.09it/s]/usr/local/lib/python3.8/dist-packages/spacy/pipeline/span_ruler.py:507: UserWarning: [W036] The component 'span_ruler' does not have any patterns defined.\n",
            "  warnings.warn(Warnings.W036.format(name=self.name))\n",
            " 90%|█████████ | 1728/1919 [04:10<00:15, 12.49it/s]/usr/local/lib/python3.8/dist-packages/spacy/pipeline/span_ruler.py:507: UserWarning: [W036] The component 'span_ruler' does not have any patterns defined.\n",
            "  warnings.warn(Warnings.W036.format(name=self.name))\n",
            " 92%|█████████▏| 1766/1919 [04:14<00:15, 10.19it/s]/usr/local/lib/python3.8/dist-packages/spacy/pipeline/span_ruler.py:507: UserWarning: [W036] The component 'span_ruler' does not have any patterns defined.\n",
            "  warnings.warn(Warnings.W036.format(name=self.name))\n",
            " 93%|█████████▎| 1778/1919 [04:15<00:11, 11.81it/s]/usr/local/lib/python3.8/dist-packages/spacy/pipeline/span_ruler.py:507: UserWarning: [W036] The component 'span_ruler' does not have any patterns defined.\n",
            "  warnings.warn(Warnings.W036.format(name=self.name))\n",
            " 96%|█████████▋| 1850/1919 [04:21<00:06, 10.27it/s]/usr/local/lib/python3.8/dist-packages/spacy/pipeline/span_ruler.py:507: UserWarning: [W036] The component 'span_ruler' does not have any patterns defined.\n",
            "  warnings.warn(Warnings.W036.format(name=self.name))\n",
            " 97%|█████████▋| 1866/1919 [04:23<00:04, 11.90it/s]/usr/local/lib/python3.8/dist-packages/spacy/pipeline/span_ruler.py:507: UserWarning: [W036] The component 'span_ruler' does not have any patterns defined.\n",
            "  warnings.warn(Warnings.W036.format(name=self.name))\n",
            "100%|██████████| 1919/1919 [04:27<00:00,  7.17it/s]\n"
          ]
        }
      ],
      "source": [
        "# inserting and bio tagging\n",
        "# the output will be stored in the list first and then save as the spaCy Doc file\n",
        "inserted_data = []\n",
        "for n in tqdm(range(len(cicero_df))):\n",
        "    attribute_list = list(cicero_df.iloc[n].dropna())\n",
        "    attribute_dict = dict(cicero_df.iloc[n].dropna())\n",
        "\n",
        "    # randomly select 6 entities from the CoNLL 2003 dataset\n",
        "    random_ents = [list(n) for n in random.choices(conll_ents, k=6)]\n",
        "\n",
        "    raw_essay = essay.iloc[n]['essay']\n",
        "\n",
        "    address_list = []\n",
        "    address1 = attribute_dict.get('primary_address_1')\n",
        "    if address1:\n",
        "        address_list.append(address1)\n",
        "    address2 = attribute_dict.get('primary_address_2')\n",
        "    if address2:\n",
        "        address_list.append(address2)\n",
        "    address3 = attribute_dict.get('primary_address_3')\n",
        "    if address3:\n",
        "        address_list.append(address3)\n",
        "    # reverse the address list since the primary address 3 is the beginning of the address\n",
        "    address_list = address_list[::-1]\n",
        "\n",
        "    essay_sentences = [str(s) for s in nlp(raw_essay).sents]\n",
        "\n",
        "    ruler = nlp.add_pipe(\"span_ruler\")\n",
        "    bio_tag_pattern_list = []\n",
        "\n",
        "    chance = random.uniform(0, 1)\n",
        "\n",
        "    # 5% chance to insert the address scattedly into the essay\n",
        "    if chance <= 0.05:\n",
        "        random_ents = [str(n) for n in sum(random_ents, [])]\n",
        "        attribute_list += random_ents\n",
        "\n",
        "        # insert the address into the essay\n",
        "        for m in range(len(attribute_list)):\n",
        "            random_index = randrange(len(essay_sentences))\n",
        "            essay_sentences = essay_sentences[:random_index] + [\n",
        "                attribute_list[m]\n",
        "            ] + essay_sentences[random_index:]\n",
        "\n",
        "        if 'primary_address_1' in attribute_dict:\n",
        "            bio_tag_pattern_list.append({\n",
        "                \"label\": 'ADDRESS',\n",
        "                'pattern': attribute_dict['primary_address_1']\n",
        "            })\n",
        "        if 'primary_address_2' in attribute_dict:\n",
        "            bio_tag_pattern_list.append({\n",
        "                \"label\": 'ADDRESS',\n",
        "                'pattern': attribute_dict['primary_address_2']\n",
        "            })\n",
        "        if 'primary_address_3' in attribute_dict:\n",
        "            bio_tag_pattern_list.append({\n",
        "                \"label\": 'ADDRESS',\n",
        "                'pattern': attribute_dict['primary_address_3']\n",
        "            })\n",
        "    # 95% chance to insert the address together into the essay\n",
        "    else:\n",
        "        attribute_list = list(set(attribute_list) - set(address_list))\n",
        "        random_ents = [str(n) for n in sum(random_ents, [])]\n",
        "        #split the entities from conll into three arrays\n",
        "        ent_array = np.array_split(random_ents, 3)\n",
        "        #convert the three arrays into three strings\n",
        "        long_ent = [' '.join(n) for n in ent_array]\n",
        "        attribute_list = attribute_list + long_ent\n",
        "\n",
        "        for m in range(len(attribute_list)):\n",
        "            random_index = randrange(len(essay_sentences))\n",
        "            essay_sentences = essay_sentences[:random_index] + [\n",
        "                attribute_list[m]\n",
        "            ] + essay_sentences[random_index:]\n",
        "\n",
        "        if address_list:\n",
        "            address = ' '.join(address_list)\n",
        "            random_index = randrange(len(essay_sentences))\n",
        "            essay_sentences = essay_sentences[:random_index] + [\n",
        "                address\n",
        "            ] + essay_sentences[random_index:]\n",
        "            bio_tag_pattern_list.append({\n",
        "                \"label\": 'ADDRESS',\n",
        "                'pattern': address\n",
        "            })\n",
        "\n",
        "    ruler.add_patterns(bio_tag_pattern_list)\n",
        "    essay_sentences = [str(n) for n in essay_sentences]\n",
        "    text = ' '.join(essay_sentences)\n",
        "    doc = nlp(text)\n",
        "    doc.ents = filter_spans(doc.spans[\"ruler\"])\n",
        "    inserted_data.append(doc)\n",
        "\n",
        "    # remove the ruler and initialize a new one for each politician/data point\n",
        "    nlp.remove_pipe(\"span_ruler\")"
      ]
    },
    {
      "cell_type": "code",
      "execution_count": null,
      "metadata": {
        "id": "OWGcPmgoUw06"
      },
      "outputs": [],
      "source": [
        "# remove the empty data point\n",
        "tagged_data = [doc for doc in inserted_data if len(doc) > 0]"
      ]
    },
    {
      "cell_type": "code",
      "execution_count": null,
      "metadata": {
        "id": "qmVn5k_6VRHQ"
      },
      "outputs": [],
      "source": [
        "# split the tagged data into training set and test set\n",
        "train, dev = train_test_split(inserted_data, test_size = 0.1, random_state=42)"
      ]
    },
    {
      "cell_type": "code",
      "execution_count": null,
      "metadata": {
        "id": "yKF0LEjhVXAN"
      },
      "outputs": [],
      "source": [
        "train_db = DocBin()\n",
        "for n in train:\n",
        "    train_db.add(n)\n",
        "train_db.to_disk(output / \"train.spacy\")"
      ]
    },
    {
      "cell_type": "code",
      "execution_count": null,
      "metadata": {
        "id": "fqXSg2yjVgsK"
      },
      "outputs": [],
      "source": [
        "dev_db = DocBin()\n",
        "for n in dev:\n",
        "    dev_db.add(n)\n",
        "dev_db.to_disk(output / \"dev.spacy\")"
      ]
    }
  ],
  "metadata": {
    "colab": {
      "provenance": []
    },
    "kernelspec": {
      "display_name": "Python 3.9.6 64-bit",
      "language": "python",
      "name": "python3"
    },
    "language_info": {
      "name": "python",
      "version": "3.9.6"
    },
    "vscode": {
      "interpreter": {
        "hash": "31f2aee4e71d21fbe5cf8b01ff0e069b9275f58929596ceb00d14d90e3e16cd6"
      }
    }
  },
  "nbformat": 4,
  "nbformat_minor": 0
}
