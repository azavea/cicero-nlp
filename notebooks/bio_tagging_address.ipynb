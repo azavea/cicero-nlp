{
  "nbformat": 4,
  "nbformat_minor": 0,
  "metadata": {
    "colab": {
      "provenance": []
    },
    "kernelspec": {
      "name": "python3",
      "display_name": "Python 3"
    },
    "language_info": {
      "name": "python"
    }
  },
  "cells": [
    {
      "cell_type": "markdown",
      "source": [
        "## Summary"
      ],
      "metadata": {
        "id": "UbDlCCmnt8Dc"
      }
    },
    {
      "cell_type": "markdown",
      "source": [
        "This code is the runnable python notebook version of `bio_tagging_address.py`"
      ],
      "metadata": {
        "id": "hqBAneo7xWr9"
      }
    },
    {
      "cell_type": "markdown",
      "source": [
        "This file is used to BIO tagging on the address information. One customized dataset will be created."
      ],
      "metadata": {
        "id": "fu9fWXcWxUCX"
      }
    },
    {
      "cell_type": "markdown",
      "source": [
        "The output file will be in the format of spaCy Doc file."
      ],
      "metadata": {
        "id": "EVgCS-fYymV9"
      }
    },
    {
      "cell_type": "markdown",
      "source": [
        "special tricks applied: \n",
        "1. insert the address together into the essays in the essay dataset\n",
        "2. insert the entites from the CoNLL 2003 entities dataset into the essays in the essay dataset, to increase the difficulty of the task\n"
      ],
      "metadata": {
        "id": "Zg8WUFxzxmnH"
      }
    },
    {
      "cell_type": "markdown",
      "source": [
        "special dependencies:\n",
        "1. one essay dataset `essay.tsv`\n",
        "2. CoNLL 2003 entities dataset `conll2003`"
      ],
      "metadata": {
        "id": "uZXzPph_MM5M"
      }
    },
    {
      "cell_type": "markdown",
      "source": [
        "## Import"
      ],
      "metadata": {
        "id": "DhdO0xCLt88N"
      }
    },
    {
      "cell_type": "code",
      "execution_count": 13,
      "metadata": {
        "id": "BhrcO56Ot4a6"
      },
      "outputs": [],
      "source": [
        "import os\n",
        "import random\n",
        "from random import randrange\n",
        "import numpy as np\n",
        "import spacy\n",
        "from spacy.util import filter_spans\n",
        "from spacy.tokens import Doc, DocBin\n",
        "import collections\n",
        "from tqdm import tqdm\n",
        "import re\n",
        "import pandas as pd\n",
        "from sklearn.model_selection import train_test_split\n",
        "from pathlib import Path"
      ]
    },
    {
      "cell_type": "markdown",
      "source": [
        "## Load Data"
      ],
      "metadata": {
        "id": "yR_HgmGvuF17"
      }
    },
    {
      "cell_type": "code",
      "source": [
        "# load the Cicero data\n",
        "cicero_df = pd.read_csv('/content/drive/MyDrive/Cicero/cicero_officials_sample_2022-09-08.csv',\\\n",
        "                  error_bad_lines=False)"
      ],
      "metadata": {
        "id": "M569HBvHuUye"
      },
      "execution_count": null,
      "outputs": []
    },
    {
      "cell_type": "code",
      "source": [
        "# load the essay dataset\n",
        "essay = pd.read_table('/content/drive/MyDrive/spaCy Address Model/test_set.tsv', encoding='mac_roman')"
      ],
      "metadata": {
        "id": "36HQTy1gQx7w"
      },
      "execution_count": 3,
      "outputs": []
    },
    {
      "cell_type": "code",
      "source": [
        "conll = Path(\"/content/drive/MyDrive/workdata_10092022/conll2003/\")"
      ],
      "metadata": {
        "id": "24tx5RBi7mJC"
      },
      "execution_count": 4,
      "outputs": []
    },
    {
      "cell_type": "code",
      "source": [
        "# load the CoNLL 2003 dataset\n",
        "doc_bin = DocBin().from_disk(conll/\"train.spacy\")\n",
        "nlp = spacy.load('en_core_web_sm')\n",
        "conll_docs = list(doc_bin.get_docs(nlp.vocab))\n",
        "conll_ents = [n.ents for n in conll_docs if len(n.ents)>0 ]"
      ],
      "metadata": {
        "id": "5pgbkZn27gUU"
      },
      "execution_count": 6,
      "outputs": []
    },
    {
      "cell_type": "markdown",
      "source": [
        "## Bio tagging"
      ],
      "metadata": {
        "id": "RTzRXLF2uIQl"
      }
    },
    {
      "cell_type": "code",
      "source": [
        "output = Path(\"./address/\")"
      ],
      "metadata": {
        "id": "ce_v76IXwQ1w"
      },
      "execution_count": 7,
      "outputs": []
    },
    {
      "cell_type": "code",
      "source": [
        "# detect if the output directory exists\n",
        "if not os.path.exists(output):\n",
        "    os.makedirs(output)"
      ],
      "metadata": {
        "id": "aY-1HxPpxALe"
      },
      "execution_count": 9,
      "outputs": []
    },
    {
      "cell_type": "code",
      "source": [
        "# inserting and bio tagging\n",
        "# the output will be stored in the list first and then save as the spaCy Doc file\n",
        "inserted_data = []\n",
        "for n in tqdm(range(len(cicero_df))):\n",
        "    attribute_list = list(cicero_df.iloc[n].dropna())\n",
        "    attribute_dict = dict(cicero_df.iloc[n].dropna())\n",
        "\n",
        "    # randomly select 6 entities from the CoNLL 2003 dataset\n",
        "    random_ents = [list(n) for n in random.choices(conll_ents, k=6)]\n",
        "\n",
        "    raw_essay = essay.iloc[n]['essay']\n",
        "\n",
        "    address_list = []\n",
        "    address1 = attribute_dict.get('primary_address_1')\n",
        "    if address1: \n",
        "        address_list.append(address1)\n",
        "    address2 = attribute_dict.get('primary_address_2')\n",
        "    if address2: \n",
        "        address_list.append(address2)\n",
        "    address3 = attribute_dict.get('primary_address_3')\n",
        "    if address3: \n",
        "        address_list.append(address3)\n",
        "    # reverse the address list since the primary address 3 is the beginning of the address    \n",
        "    address_list = address_list[::-1]\n",
        "\n",
        "    essay_sentences = [str(s) for s in nlp(raw_essay).sents]\n",
        "\n",
        "    ruler = nlp.add_pipe(\"span_ruler\")\n",
        "    bio_tag_pattern_list = []\n",
        "\n",
        "    chance = random.uniform(0,1)\n",
        "\n",
        "    # 5% chance to insert the address scattedly into the essay    \n",
        "    if chance<=0.05:\n",
        "        random_ents = [str(n) for n in sum(random_ents, [])]\n",
        "        attribute_list += random_ents\n",
        "\n",
        "        # insert the address into the essay\n",
        "        for m in range(len(attribute_list)):\n",
        "            random_index = randrange(len(essay_sentences))\n",
        "            essay_sentences = essay_sentences[:random_index] + [attribute_list[m]] + essay_sentences[random_index:]\n",
        "\n",
        "        if 'primary_address_1' in attribute_dict:\n",
        "            bio_tag_pattern_list.append({\"label\":'ADDRESS', 'pattern':attribute_dict['primary_address_1']})\n",
        "        if 'primary_address_2' in attribute_dict:\n",
        "            bio_tag_pattern_list.append({\"label\":'ADDRESS', 'pattern':attribute_dict['primary_address_2']})\n",
        "        if 'primary_address_3' in attribute_dict:\n",
        "            bio_tag_pattern_list.append({\"label\":'ADDRESS', 'pattern':attribute_dict['primary_address_3']})\n",
        "    # 95% chance to insert the address together into the essay\n",
        "    else:\n",
        "        attribute_list = list(set(attribute_list) - set(address_list))\n",
        "        random_ents = [str(n) for n in sum(random_ents, [])]\n",
        "        #split the entities from conll into three arraies\n",
        "        ent_array = np.array_split(random_ents,3)\n",
        "        #convert the three arries into three strings\n",
        "        long_ent = [' '.join(n) for n in ent_array]\n",
        "        attribute_list = attribute_list + long_ent\n",
        "\n",
        "        for m in range(len(attribute_list)):\n",
        "            random_index = randrange(len(essay_sentences))\n",
        "            essay_sentences = essay_sentences[:random_index] + [attribute_list[m]] + essay_sentences[random_index:]\n",
        "\n",
        "        if address_list:\n",
        "            address = ' '.join(address_list)\n",
        "            random_index=randrange(len(essay_sentences))\n",
        "            essay_sentences = essay_sentences[:random_index] + [address] + essay_sentences[random_index:]\n",
        "            bio_tag_pattern_list.append({\"label\":'ADDRESS', 'pattern':address})\n",
        "\n",
        "    ruler.add_patterns(bio_tag_pattern_list)\n",
        "    essay_sentences = [str(n) for n in essay_sentences]\n",
        "    text = ' '.join(essay_sentences)\n",
        "    doc = nlp(text)\n",
        "    doc.ents = filter_spans(doc.spans[\"ruler\"])\n",
        "    inserted_data.append(doc)\n",
        "\n",
        "    # remove the ruler and initialize a new one for each politician/data point\n",
        "    nlp.remove_pipe(\"span_ruler\")"
      ],
      "metadata": {
        "colab": {
          "base_uri": "https://localhost:8080/"
        },
        "id": "4BUWo_NHuFYb",
        "outputId": "7419ac28-9c93-49ff-f03b-0a452dcf500f"
      },
      "execution_count": 29,
      "outputs": [
        {
          "output_type": "stream",
          "name": "stderr",
          "text": [
            "  4%|▍         | 79/1919 [00:14<06:09,  4.98it/s]/usr/local/lib/python3.8/dist-packages/spacy/pipeline/span_ruler.py:507: UserWarning: [W036] The component 'span_ruler' does not have any patterns defined.\n",
            "  warnings.warn(Warnings.W036.format(name=self.name))\n",
            "  4%|▍         | 81/1919 [00:15<05:38,  5.43it/s]/usr/local/lib/python3.8/dist-packages/spacy/pipeline/span_ruler.py:507: UserWarning: [W036] The component 'span_ruler' does not have any patterns defined.\n",
            "  warnings.warn(Warnings.W036.format(name=self.name))\n",
            "  4%|▍         | 84/1919 [00:15<05:43,  5.34it/s]/usr/local/lib/python3.8/dist-packages/spacy/pipeline/span_ruler.py:507: UserWarning: [W036] The component 'span_ruler' does not have any patterns defined.\n",
            "  warnings.warn(Warnings.W036.format(name=self.name))\n",
            "  5%|▌         | 105/1919 [00:19<06:07,  4.94it/s]/usr/local/lib/python3.8/dist-packages/spacy/pipeline/span_ruler.py:507: UserWarning: [W036] The component 'span_ruler' does not have any patterns defined.\n",
            "  warnings.warn(Warnings.W036.format(name=self.name))\n",
            " 10%|▉         | 188/1919 [00:36<05:20,  5.39it/s]/usr/local/lib/python3.8/dist-packages/spacy/pipeline/span_ruler.py:507: UserWarning: [W036] The component 'span_ruler' does not have any patterns defined.\n",
            "  warnings.warn(Warnings.W036.format(name=self.name))\n",
            " 11%|█▏        | 219/1919 [00:42<05:18,  5.34it/s]/usr/local/lib/python3.8/dist-packages/spacy/pipeline/span_ruler.py:507: UserWarning: [W036] The component 'span_ruler' does not have any patterns defined.\n",
            "  warnings.warn(Warnings.W036.format(name=self.name))\n",
            " 12%|█▏        | 221/1919 [00:42<04:57,  5.71it/s]/usr/local/lib/python3.8/dist-packages/spacy/pipeline/span_ruler.py:507: UserWarning: [W036] The component 'span_ruler' does not have any patterns defined.\n",
            "  warnings.warn(Warnings.W036.format(name=self.name))\n",
            " 15%|█▌        | 294/1919 [00:55<04:28,  6.04it/s]/usr/local/lib/python3.8/dist-packages/spacy/pipeline/span_ruler.py:507: UserWarning: [W036] The component 'span_ruler' does not have any patterns defined.\n",
            "  warnings.warn(Warnings.W036.format(name=self.name))\n",
            " 17%|█▋        | 324/1919 [01:01<05:08,  5.16it/s]/usr/local/lib/python3.8/dist-packages/spacy/pipeline/span_ruler.py:507: UserWarning: [W036] The component 'span_ruler' does not have any patterns defined.\n",
            "  warnings.warn(Warnings.W036.format(name=self.name))\n",
            " 17%|█▋        | 326/1919 [01:01<05:42,  4.65it/s]/usr/local/lib/python3.8/dist-packages/spacy/pipeline/span_ruler.py:507: UserWarning: [W036] The component 'span_ruler' does not have any patterns defined.\n",
            "  warnings.warn(Warnings.W036.format(name=self.name))\n",
            " 18%|█▊        | 353/1919 [01:06<05:00,  5.21it/s]/usr/local/lib/python3.8/dist-packages/spacy/pipeline/span_ruler.py:507: UserWarning: [W036] The component 'span_ruler' does not have any patterns defined.\n",
            "  warnings.warn(Warnings.W036.format(name=self.name))\n",
            " 18%|█▊        | 354/1919 [01:06<04:32,  5.74it/s]/usr/local/lib/python3.8/dist-packages/spacy/pipeline/span_ruler.py:507: UserWarning: [W036] The component 'span_ruler' does not have any patterns defined.\n",
            "  warnings.warn(Warnings.W036.format(name=self.name))\n",
            " 19%|█▉        | 363/1919 [01:08<04:00,  6.47it/s]/usr/local/lib/python3.8/dist-packages/spacy/pipeline/span_ruler.py:507: UserWarning: [W036] The component 'span_ruler' does not have any patterns defined.\n",
            "  warnings.warn(Warnings.W036.format(name=self.name))\n",
            " 20%|█▉        | 376/1919 [01:10<04:35,  5.59it/s]/usr/local/lib/python3.8/dist-packages/spacy/pipeline/span_ruler.py:507: UserWarning: [W036] The component 'span_ruler' does not have any patterns defined.\n",
            "  warnings.warn(Warnings.W036.format(name=self.name))\n",
            " 24%|██▎       | 454/1919 [01:24<04:37,  5.27it/s]/usr/local/lib/python3.8/dist-packages/spacy/pipeline/span_ruler.py:507: UserWarning: [W036] The component 'span_ruler' does not have any patterns defined.\n",
            "  warnings.warn(Warnings.W036.format(name=self.name))\n",
            " 24%|██▍       | 469/1919 [01:27<03:49,  6.31it/s]/usr/local/lib/python3.8/dist-packages/spacy/pipeline/span_ruler.py:507: UserWarning: [W036] The component 'span_ruler' does not have any patterns defined.\n",
            "  warnings.warn(Warnings.W036.format(name=self.name))\n",
            " 24%|██▍       | 470/1919 [01:27<03:48,  6.34it/s]/usr/local/lib/python3.8/dist-packages/spacy/pipeline/span_ruler.py:507: UserWarning: [W036] The component 'span_ruler' does not have any patterns defined.\n",
            "  warnings.warn(Warnings.W036.format(name=self.name))\n",
            " 26%|██▌       | 499/1919 [01:32<03:51,  6.13it/s]/usr/local/lib/python3.8/dist-packages/spacy/pipeline/span_ruler.py:507: UserWarning: [W036] The component 'span_ruler' does not have any patterns defined.\n",
            "  warnings.warn(Warnings.W036.format(name=self.name))\n",
            " 26%|██▌       | 502/1919 [01:33<04:37,  5.10it/s]/usr/local/lib/python3.8/dist-packages/spacy/pipeline/span_ruler.py:507: UserWarning: [W036] The component 'span_ruler' does not have any patterns defined.\n",
            "  warnings.warn(Warnings.W036.format(name=self.name))\n",
            " 27%|██▋       | 511/1919 [01:35<04:36,  5.09it/s]/usr/local/lib/python3.8/dist-packages/spacy/pipeline/span_ruler.py:507: UserWarning: [W036] The component 'span_ruler' does not have any patterns defined.\n",
            "  warnings.warn(Warnings.W036.format(name=self.name))\n",
            " 27%|██▋       | 527/1919 [01:38<04:17,  5.42it/s]/usr/local/lib/python3.8/dist-packages/spacy/pipeline/span_ruler.py:507: UserWarning: [W036] The component 'span_ruler' does not have any patterns defined.\n",
            "  warnings.warn(Warnings.W036.format(name=self.name))\n",
            " 32%|███▏      | 615/1919 [01:53<03:05,  7.04it/s]/usr/local/lib/python3.8/dist-packages/spacy/pipeline/span_ruler.py:507: UserWarning: [W036] The component 'span_ruler' does not have any patterns defined.\n",
            "  warnings.warn(Warnings.W036.format(name=self.name))\n",
            " 35%|███▍      | 663/1919 [02:02<03:38,  5.75it/s]/usr/local/lib/python3.8/dist-packages/spacy/pipeline/span_ruler.py:507: UserWarning: [W036] The component 'span_ruler' does not have any patterns defined.\n",
            "  warnings.warn(Warnings.W036.format(name=self.name))\n",
            " 36%|███▋      | 700/1919 [02:08<03:34,  5.69it/s]/usr/local/lib/python3.8/dist-packages/spacy/pipeline/span_ruler.py:507: UserWarning: [W036] The component 'span_ruler' does not have any patterns defined.\n",
            "  warnings.warn(Warnings.W036.format(name=self.name))\n",
            " 37%|███▋      | 706/1919 [02:09<04:11,  4.82it/s]/usr/local/lib/python3.8/dist-packages/spacy/pipeline/span_ruler.py:507: UserWarning: [W036] The component 'span_ruler' does not have any patterns defined.\n",
            "  warnings.warn(Warnings.W036.format(name=self.name))\n",
            " 38%|███▊      | 729/1919 [02:14<03:20,  5.93it/s]/usr/local/lib/python3.8/dist-packages/spacy/pipeline/span_ruler.py:507: UserWarning: [W036] The component 'span_ruler' does not have any patterns defined.\n",
            "  warnings.warn(Warnings.W036.format(name=self.name))\n",
            " 41%|████▏     | 796/1919 [02:27<03:47,  4.93it/s]/usr/local/lib/python3.8/dist-packages/spacy/pipeline/span_ruler.py:507: UserWarning: [W036] The component 'span_ruler' does not have any patterns defined.\n",
            "  warnings.warn(Warnings.W036.format(name=self.name))\n",
            " 42%|████▏     | 807/1919 [02:28<03:08,  5.89it/s]/usr/local/lib/python3.8/dist-packages/spacy/pipeline/span_ruler.py:507: UserWarning: [W036] The component 'span_ruler' does not have any patterns defined.\n",
            "  warnings.warn(Warnings.W036.format(name=self.name))\n",
            " 44%|████▎     | 838/1919 [02:35<04:09,  4.34it/s]/usr/local/lib/python3.8/dist-packages/spacy/pipeline/span_ruler.py:507: UserWarning: [W036] The component 'span_ruler' does not have any patterns defined.\n",
            "  warnings.warn(Warnings.W036.format(name=self.name))\n",
            " 45%|████▍     | 861/1919 [02:39<03:36,  4.88it/s]/usr/local/lib/python3.8/dist-packages/spacy/pipeline/span_ruler.py:507: UserWarning: [W036] The component 'span_ruler' does not have any patterns defined.\n",
            "  warnings.warn(Warnings.W036.format(name=self.name))\n",
            " 45%|████▌     | 873/1919 [02:42<03:24,  5.11it/s]/usr/local/lib/python3.8/dist-packages/spacy/pipeline/span_ruler.py:507: UserWarning: [W036] The component 'span_ruler' does not have any patterns defined.\n",
            "  warnings.warn(Warnings.W036.format(name=self.name))\n",
            " 46%|████▌     | 876/1919 [02:42<03:16,  5.30it/s]/usr/local/lib/python3.8/dist-packages/spacy/pipeline/span_ruler.py:507: UserWarning: [W036] The component 'span_ruler' does not have any patterns defined.\n",
            "  warnings.warn(Warnings.W036.format(name=self.name))\n",
            " 49%|████▉     | 937/1919 [02:53<03:07,  5.24it/s]/usr/local/lib/python3.8/dist-packages/spacy/pipeline/span_ruler.py:507: UserWarning: [W036] The component 'span_ruler' does not have any patterns defined.\n",
            "  warnings.warn(Warnings.W036.format(name=self.name))\n",
            " 52%|█████▏    | 992/1919 [03:04<03:29,  4.43it/s]/usr/local/lib/python3.8/dist-packages/spacy/pipeline/span_ruler.py:507: UserWarning: [W036] The component 'span_ruler' does not have any patterns defined.\n",
            "  warnings.warn(Warnings.W036.format(name=self.name))\n",
            " 52%|█████▏    | 1004/1919 [03:06<02:49,  5.39it/s]/usr/local/lib/python3.8/dist-packages/spacy/pipeline/span_ruler.py:507: UserWarning: [W036] The component 'span_ruler' does not have any patterns defined.\n",
            "  warnings.warn(Warnings.W036.format(name=self.name))\n",
            " 68%|██████▊   | 1307/1919 [03:52<00:49, 12.32it/s]/usr/local/lib/python3.8/dist-packages/spacy/pipeline/span_ruler.py:507: UserWarning: [W036] The component 'span_ruler' does not have any patterns defined.\n",
            "  warnings.warn(Warnings.W036.format(name=self.name))\n",
            " 68%|██████▊   | 1313/1919 [03:52<01:00, 10.07it/s]/usr/local/lib/python3.8/dist-packages/spacy/pipeline/span_ruler.py:507: UserWarning: [W036] The component 'span_ruler' does not have any patterns defined.\n",
            "  warnings.warn(Warnings.W036.format(name=self.name))\n",
            " 73%|███████▎  | 1399/1919 [04:01<00:54,  9.59it/s]/usr/local/lib/python3.8/dist-packages/spacy/pipeline/span_ruler.py:507: UserWarning: [W036] The component 'span_ruler' does not have any patterns defined.\n",
            "  warnings.warn(Warnings.W036.format(name=self.name))\n",
            " 79%|███████▉  | 1523/1919 [04:13<00:42,  9.42it/s]/usr/local/lib/python3.8/dist-packages/spacy/pipeline/span_ruler.py:507: UserWarning: [W036] The component 'span_ruler' does not have any patterns defined.\n",
            "  warnings.warn(Warnings.W036.format(name=self.name))\n",
            " 81%|████████  | 1559/1919 [04:18<01:00,  5.95it/s]/usr/local/lib/python3.8/dist-packages/spacy/pipeline/span_ruler.py:507: UserWarning: [W036] The component 'span_ruler' does not have any patterns defined.\n",
            "  warnings.warn(Warnings.W036.format(name=self.name))\n",
            " 82%|████████▏ | 1567/1919 [04:18<00:37,  9.40it/s]/usr/local/lib/python3.8/dist-packages/spacy/pipeline/span_ruler.py:507: UserWarning: [W036] The component 'span_ruler' does not have any patterns defined.\n",
            "  warnings.warn(Warnings.W036.format(name=self.name))\n",
            " 84%|████████▍ | 1610/1919 [04:23<00:31,  9.87it/s]/usr/local/lib/python3.8/dist-packages/spacy/pipeline/span_ruler.py:507: UserWarning: [W036] The component 'span_ruler' does not have any patterns defined.\n",
            "  warnings.warn(Warnings.W036.format(name=self.name))\n",
            " 87%|████████▋ | 1663/1919 [04:28<00:24, 10.25it/s]/usr/local/lib/python3.8/dist-packages/spacy/pipeline/span_ruler.py:507: UserWarning: [W036] The component 'span_ruler' does not have any patterns defined.\n",
            "  warnings.warn(Warnings.W036.format(name=self.name))\n",
            " 90%|█████████ | 1729/1919 [04:34<00:16, 11.34it/s]/usr/local/lib/python3.8/dist-packages/spacy/pipeline/span_ruler.py:507: UserWarning: [W036] The component 'span_ruler' does not have any patterns defined.\n",
            "  warnings.warn(Warnings.W036.format(name=self.name))\n",
            " 92%|█████████▏| 1766/1919 [04:38<00:17,  8.63it/s]/usr/local/lib/python3.8/dist-packages/spacy/pipeline/span_ruler.py:507: UserWarning: [W036] The component 'span_ruler' does not have any patterns defined.\n",
            "  warnings.warn(Warnings.W036.format(name=self.name))\n",
            " 93%|█████████▎| 1778/1919 [04:39<00:13, 10.73it/s]/usr/local/lib/python3.8/dist-packages/spacy/pipeline/span_ruler.py:507: UserWarning: [W036] The component 'span_ruler' does not have any patterns defined.\n",
            "  warnings.warn(Warnings.W036.format(name=self.name))\n",
            " 96%|█████████▋| 1850/1919 [04:46<00:07,  9.76it/s]/usr/local/lib/python3.8/dist-packages/spacy/pipeline/span_ruler.py:507: UserWarning: [W036] The component 'span_ruler' does not have any patterns defined.\n",
            "  warnings.warn(Warnings.W036.format(name=self.name))\n",
            " 97%|█████████▋| 1867/1919 [04:47<00:05,  9.72it/s]/usr/local/lib/python3.8/dist-packages/spacy/pipeline/span_ruler.py:507: UserWarning: [W036] The component 'span_ruler' does not have any patterns defined.\n",
            "  warnings.warn(Warnings.W036.format(name=self.name))\n",
            "100%|██████████| 1919/1919 [04:53<00:00,  6.55it/s]\n"
          ]
        }
      ]
    },
    {
      "cell_type": "code",
      "source": [
        "# remove the empty data point\n",
        "tagged_data = [doc for doc in inserted_data if len(doc) > 0]"
      ],
      "metadata": {
        "id": "OWGcPmgoUw06"
      },
      "execution_count": 31,
      "outputs": []
    },
    {
      "cell_type": "code",
      "source": [
        "# split the tagged data into training set and test set\n",
        "train, dev = train_test_split(inserted_data, test_size = 0.1, random_state=42)"
      ],
      "metadata": {
        "id": "qmVn5k_6VRHQ"
      },
      "execution_count": 32,
      "outputs": []
    },
    {
      "cell_type": "code",
      "source": [
        "train_db = DocBin()\n",
        "for n in train:\n",
        "    train_db.add(n)\n",
        "train_db.to_disk(output / \"train.spacy\")"
      ],
      "metadata": {
        "id": "yKF0LEjhVXAN"
      },
      "execution_count": 33,
      "outputs": []
    },
    {
      "cell_type": "code",
      "source": [
        "dev_db = DocBin()\n",
        "for n in dev:\n",
        "    dev_db.add(n)\n",
        "dev_db.to_disk(output / \"dev.spacy\")"
      ],
      "metadata": {
        "id": "fqXSg2yjVgsK"
      },
      "execution_count": 34,
      "outputs": []
    }
  ]
}