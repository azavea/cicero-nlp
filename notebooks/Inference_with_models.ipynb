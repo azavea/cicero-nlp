{
  "nbformat": 4,
  "nbformat_minor": 0,
  "metadata": {
    "colab": {
      "provenance": []
    },
    "kernelspec": {
      "name": "python3",
      "display_name": "Python 3"
    },
    "language_info": {
      "name": "python"
    }
  },
  "cells": [
    {
      "cell_type": "markdown",
      "source": [
        "## Install and Import"
      ],
      "metadata": {
        "id": "ZNAOL-6qNIGf"
      }
    },
    {
      "cell_type": "code",
      "execution_count": null,
      "metadata": {
        "id": "dpdL4rvC5cpO"
      },
      "outputs": [],
      "source": [
        "!pip install wandb"
      ]
    },
    {
      "cell_type": "code",
      "source": [
        "!pip install spacy-transformers"
      ],
      "metadata": {
        "colab": {
          "base_uri": "https://localhost:8080/"
        },
        "id": "AJcmj1Ey5oKc",
        "outputId": "d54dbfaa-3db7-4cfc-bcf2-35381dcae805"
      },
      "execution_count": 2,
      "outputs": [
        {
          "output_type": "stream",
          "name": "stdout",
          "text": [
            "Installing collected packages: tokenizers, huggingface-hub, transformers, spacy-alignments, spacy-transformers\n",
            "Successfully installed huggingface-hub-0.11.1 spacy-alignments-0.8.6 spacy-transformers-1.1.8 tokenizers-0.12.1 transformers-4.21.3\n"
          ]
        }
      ]
    },
    {
      "cell_type": "code",
      "source": [
        "import json\n",
        "import random\n",
        "import re"
      ],
      "metadata": {
        "id": "lN4c7apkNcqS"
      },
      "execution_count": 42,
      "outputs": []
    },
    {
      "cell_type": "code",
      "source": [
        "from spacy_transformers import Transformer, TransformerModel\n",
        "from spacy_transformers.annotation_setters import null_annotation_setter\n",
        "from spacy_transformers.span_getters import get_doc_spans\n",
        "import spacy\n",
        "from spacy import displacy"
      ],
      "metadata": {
        "colab": {
          "base_uri": "https://localhost:8080/"
        },
        "id": "zW--BbHc6cr6",
        "outputId": "bde51365-bac8-4892-acc4-816da9b17371"
      },
      "execution_count": 4,
      "outputs": [
        {
          "output_type": "stream",
          "name": "stderr",
          "text": [
            "/usr/local/lib/python3.8/dist-packages/torch/cuda/__init__.py:497: UserWarning: Can't initialize NVML\n",
            "  warnings.warn(\"Can't initialize NVML\")\n"
          ]
        }
      ]
    },
    {
      "cell_type": "markdown",
      "source": [
        "## Load the texts for inference"
      ],
      "metadata": {
        "id": "FfGSYY2aNMsg"
      }
    },
    {
      "cell_type": "code",
      "source": [
        "with open(\"/content/drive/MyDrive/cicero-nlp/2022_11_11/cleaned_texts/pure_texts.json\", 'r') as f:\n",
        "  pure_text_dict = json.load(f)"
      ],
      "metadata": {
        "id": "FhlMmc1_NgTj"
      },
      "execution_count": 7,
      "outputs": []
    },
    {
      "cell_type": "code",
      "source": [
        "inference_sample = random.choice(list(pure_text_dict.values()))"
      ],
      "metadata": {
        "id": "Mj4lHLFsNTya"
      },
      "execution_count": 32,
      "outputs": []
    },
    {
      "cell_type": "code",
      "source": [
        "inference_sample"
      ],
      "metadata": {
        "colab": {
          "base_uri": "https://localhost:8080/",
          "height": 157
        },
        "id": "M9AKdHSPNzq1",
        "outputId": "bb5a442e-c141-46f6-84c9-27085c5f8d69"
      },
      "execution_count": 33,
      "outputs": [
        {
          "output_type": "execute_result",
          "data": {
            "text/plain": [
              "\"Representative Marvin W. Lucas - Biography - North Carolina General Assembly Employee Portal | Find Your Legislators | Contact Info Bill SEARCH: All Bill Text LOOKUP: Bill Members House Senate Audio House Chamber House Audio Archives Senate Chamber Finance Committee Room (544 LOB) Appropriations Committee Room (643 LOB) Committee Room 1027 LB Committee Room 1124 LB Committee Room 1228 LB Committee Room 415 LOB Committee Room 421 LOB Committee Room 423 LOB Press Conference Room Auditorium (LB) Audio Page Calendars House Calendar Senate Calendar Legislative Calendar Calendars Page Committees House Standing Committees Senate Standing Committees Non-Standing, Interim and Study Committees Committees Page Gov Ops Bills & Laws General Statutes General Statutes Table of Contents Session Laws Votes on Bills North Carolina Constitution Bills & Laws Page Divisions Legislative Library Fiscal Research Legislative Drafting Legislative Analysis General Assembly Police Divisions Page Legislative Publications Redistricting About About the Legislature Contact Info Visitor Info Careers Help News Educational Resources SEARCH Menu Bill SEARCH: All Bill Text LOOKUP: Bill Members MAIN House Senate Audio Calendars Committees Gov Ops Bills & Laws Divisions Legislative Publications Find Your Legislators Redistricting ABOUT About the NCGA Employee Portal Contact Info Visitor Info Careers Help News Educational Resources Home House Member List Representative Marvin W. Lucas Representative Marvin W. Lucas (Dem) Biography Introduced Bills Votes Committees 2021-2022 Session Democrat - District 42 Cumberland Legislative Office: 300 N. Salisbury Street, Rm. 402 Raleigh, NC 27603-5925 919-733-5775 Mailing Address: 3318 Hedgemoor Cir Spring Lake, NC 28390 Terms in House: 11 ( 0 in Senate ) Occupation: Retired Principal Main Phone: 910-497-2733 Member's Email: Marvin.Lucas@ncleg.gov Legislative Assistant: Thelma Utley North Carolina General Assembly Legislative Building 16 West Jones Street Raleigh, NC 27601 (919) 733-4111 (Main) (919) 715-7586 (Fax) MAIN House Senate Audio Calendars Committees Gov Ops Bills & Laws Divisions Legislative Publications Find Your Legislators Redistricting ABOUT About the NCGA Contact Info Visitor Info Careers Help News Educational Resources Disclaimer Privacy Website Support Subscribe Webservices Sitemap\""
            ],
            "application/vnd.google.colaboratory.intrinsic+json": {
              "type": "string"
            }
          },
          "metadata": {},
          "execution_count": 33
        }
      ]
    },
    {
      "cell_type": "markdown",
      "source": [
        "## Merge Model A"
      ],
      "metadata": {
        "id": "PW2vCWWXOKc5"
      }
    },
    {
      "cell_type": "markdown",
      "source": [
        "the inference process for Merge Model B and Address Model should be extract same"
      ],
      "metadata": {
        "id": "pEqHC47gR4ON"
      }
    },
    {
      "cell_type": "code",
      "source": [
        "mergeModelA = spacy.load(\"/content/drive/MyDrive/cicero-nlp/modelCheckpoints/mergeModelA/20221207T103058/model-best\")"
      ],
      "metadata": {
        "id": "wwPMA_Cz6dAt"
      },
      "execution_count": 5,
      "outputs": []
    },
    {
      "cell_type": "code",
      "source": [
        "result = mergeModelA(inference_sample)"
      ],
      "metadata": {
        "id": "_h_Z3QNk6iKK"
      },
      "execution_count": 52,
      "outputs": []
    },
    {
      "cell_type": "code",
      "source": [
        "# to visualized the inference results\n",
        "displacy.render(result, style=\"ent\", jupyter=True)"
      ],
      "metadata": {
        "colab": {
          "base_uri": "https://localhost:8080/",
          "height": 542
        },
        "id": "nYsJWmmaO6h2",
        "outputId": "5835eaf4-0ad2-431e-a0e9-abb17bde163f"
      },
      "execution_count": 53,
      "outputs": [
        {
          "output_type": "display_data",
          "data": {
            "text/plain": [
              "<IPython.core.display.HTML object>"
            ],
            "text/html": [
              "<span class=\"tex2jax_ignore\"><div class=\"entities\" style=\"line-height: 2.5; direction: ltr\">Representative \n",
              "<mark class=\"entity\" style=\"background: #ddd; padding: 0.45em 0.6em; margin: 0 0.25em; line-height: 1; border-radius: 0.35em;\">\n",
              "    Marvin\n",
              "    <span style=\"font-size: 0.8em; font-weight: bold; line-height: 1; border-radius: 0.35em; vertical-align: middle; margin-left: 0.5rem\">NAME</span>\n",
              "</mark>\n",
              " W. \n",
              "<mark class=\"entity\" style=\"background: #ddd; padding: 0.45em 0.6em; margin: 0 0.25em; line-height: 1; border-radius: 0.35em;\">\n",
              "    Lucas\n",
              "    <span style=\"font-size: 0.8em; font-weight: bold; line-height: 1; border-radius: 0.35em; vertical-align: middle; margin-left: 0.5rem\">NAME</span>\n",
              "</mark>\n",
              " - Biography - North Carolina General Assembly Employee Portal | Find Your Legislators | Contact Info Bill SEARCH: All Bill Text LOOKUP: Bill Members House Senate Audio House Chamber House Audio Archives Senate Chamber Finance Committee Room (544 LOB) Appropriations Committee Room (643 LOB) Committee Room 1027 LB Committee Room 1124 LB Committee Room 1228 LB Committee Room 415 LOB Committee Room 421 LOB Committee Room 423 LOB Press Conference Room Auditorium (LB) Audio Page Calendars House Calendar Senate Calendar Legislative Calendar Calendars Page Committees House Standing Committees Senate Standing Committees Non-Standing, Interim and Study Committees Committees Page Gov Ops Bills &amp; Laws General Statutes General Statutes Table of Contents Session Laws Votes on Bills North Carolina Constitution Bills &amp; Laws Page Divisions Legislative Library Fiscal Research Legislative Drafting Legislative Analysis General Assembly Police Divisions Page Legislative Publications Redistricting About About the Legislature Contact Info Visitor Info Careers Help News Educational Resources SEARCH Menu Bill SEARCH: All Bill Text LOOKUP: Bill Members MAIN House Senate Audio Calendars Committees Gov Ops Bills &amp; Laws Divisions Legislative Publications Find Your Legislators Redistricting ABOUT About the NCGA Employee Portal Contact Info Visitor Info Careers Help News Educational Resources Home House Member List Representative \n",
              "<mark class=\"entity\" style=\"background: #ddd; padding: 0.45em 0.6em; margin: 0 0.25em; line-height: 1; border-radius: 0.35em;\">\n",
              "    Marvin\n",
              "    <span style=\"font-size: 0.8em; font-weight: bold; line-height: 1; border-radius: 0.35em; vertical-align: middle; margin-left: 0.5rem\">NAME</span>\n",
              "</mark>\n",
              " W. \n",
              "<mark class=\"entity\" style=\"background: #ddd; padding: 0.45em 0.6em; margin: 0 0.25em; line-height: 1; border-radius: 0.35em;\">\n",
              "    Lucas\n",
              "    <span style=\"font-size: 0.8em; font-weight: bold; line-height: 1; border-radius: 0.35em; vertical-align: middle; margin-left: 0.5rem\">NAME</span>\n",
              "</mark>\n",
              " Representative \n",
              "<mark class=\"entity\" style=\"background: #ddd; padding: 0.45em 0.6em; margin: 0 0.25em; line-height: 1; border-radius: 0.35em;\">\n",
              "    Marvin\n",
              "    <span style=\"font-size: 0.8em; font-weight: bold; line-height: 1; border-radius: 0.35em; vertical-align: middle; margin-left: 0.5rem\">NAME</span>\n",
              "</mark>\n",
              " W. \n",
              "<mark class=\"entity\" style=\"background: #ddd; padding: 0.45em 0.6em; margin: 0 0.25em; line-height: 1; border-radius: 0.35em;\">\n",
              "    Lucas\n",
              "    <span style=\"font-size: 0.8em; font-weight: bold; line-height: 1; border-radius: 0.35em; vertical-align: middle; margin-left: 0.5rem\">NAME</span>\n",
              "</mark>\n",
              " (Dem) Biography Introduced Bills Votes Committees 2021-2022 Session Democrat - District 42 Cumberland Legislative Office: 300 N. Salisbury Street, Rm. 402 Raleigh, NC 27603-5925 \n",
              "<mark class=\"entity\" style=\"background: #ddd; padding: 0.45em 0.6em; margin: 0 0.25em; line-height: 1; border-radius: 0.35em;\">\n",
              "    919-733-5775\n",
              "    <span style=\"font-size: 0.8em; font-weight: bold; line-height: 1; border-radius: 0.35em; vertical-align: middle; margin-left: 0.5rem\">PHONE</span>\n",
              "</mark>\n",
              " Mailing Address: 3318 Hedgemoor Cir Spring Lake, NC 28390 Terms in House: 11 ( 0 in Senate ) Occupation: Retired Principal Main Phone: \n",
              "<mark class=\"entity\" style=\"background: #ddd; padding: 0.45em 0.6em; margin: 0 0.25em; line-height: 1; border-radius: 0.35em;\">\n",
              "    910-497-2733\n",
              "    <span style=\"font-size: 0.8em; font-weight: bold; line-height: 1; border-radius: 0.35em; vertical-align: middle; margin-left: 0.5rem\">PHONE</span>\n",
              "</mark>\n",
              " Member's Email: Marvin.Lucas@ncleg.gov Legislative Assistant: Thelma Utley North Carolina General Assembly Legislative Building 16 West Jones Street Raleigh, NC 27601 (919) 733-4111 (Main) (919) 715-7586 (Fax) MAIN House Senate Audio Calendars Committees Gov Ops Bills &amp; Laws Divisions Legislative Publications Find Your Legislators Redistricting ABOUT About the NCGA Contact Info Visitor Info Careers Help News Educational Resources Disclaimer Privacy Website Support Subscribe Webservices Sitemap</div></span>"
            ]
          },
          "metadata": {}
        }
      ]
    },
    {
      "cell_type": "code",
      "source": [
        "# get the extracted entities\n",
        "predictions = result.ents\n",
        "predictions"
      ],
      "metadata": {
        "id": "iFf2sYChN9fW"
      },
      "execution_count": 36,
      "outputs": []
    },
    {
      "cell_type": "code",
      "source": [
        "# get the labels for the entities\n",
        "labels = [n.label_ for n in predictions]"
      ],
      "metadata": {
        "id": "qqj4a3D8Oavn"
      },
      "execution_count": 38,
      "outputs": []
    },
    {
      "cell_type": "code",
      "source": [
        "# get the extracted entities with labels\n",
        "predicitions_with_labels = list(zip(predictions, labels))\n",
        "predicitions_with_labels"
      ],
      "metadata": {
        "id": "dAdvFBKVOiA6"
      },
      "execution_count": 39,
      "outputs": []
    },
    {
      "cell_type": "markdown",
      "source": [
        "## Email"
      ],
      "metadata": {
        "id": "9fAKx_EtPjAQ"
      }
    },
    {
      "cell_type": "markdown",
      "source": [
        "the inference for email is different and it is dependent on the results of Merge Model A"
      ],
      "metadata": {
        "id": "kqT_dMiYSbCk"
      }
    },
    {
      "cell_type": "code",
      "source": [
        "def extract_email_from_text(text):\n",
        "  pattern = re.compile(\"[a-zA-Z0-9_.+-]+@[a-zA-Z0-9-]+\\.[a-zA-Z0-9-.]+\")\n",
        "  return re.findall(pattern, text)"
      ],
      "metadata": {
        "id": "W1q8RAOKPif2"
      },
      "execution_count": 41,
      "outputs": []
    },
    {
      "cell_type": "code",
      "source": [
        "# create the input for the email model, which should contains two parts\n",
        "# (1) the extracted possible emails from the text by using Regex\n",
        "# (2) the name entity predictions generated from Merge Model A\n",
        "emails = extract_email_from_text(inference_sample)\n",
        "email_input = \" \".join(['Marvin', 'Lucas'] + emails)"
      ],
      "metadata": {
        "id": "_mOplXlqOyIL"
      },
      "execution_count": 55,
      "outputs": []
    },
    {
      "cell_type": "markdown",
      "source": [
        "In this case, we only have one email here.<br>\n",
        "But in some cases, there might be multiple email found by using regex and not of them are the emails for the politican."
      ],
      "metadata": {
        "id": "E31kJTuuTFU1"
      }
    },
    {
      "cell_type": "code",
      "source": [
        "email_input"
      ],
      "metadata": {
        "colab": {
          "base_uri": "https://localhost:8080/",
          "height": 35
        },
        "id": "UvNWrUPjP-jx",
        "outputId": "1f34e039-2aef-423a-e557-39575aa3c906"
      },
      "execution_count": 56,
      "outputs": [
        {
          "output_type": "execute_result",
          "data": {
            "text/plain": [
              "'Marvin Lucas Marvin.Lucas@ncleg.gov'"
            ],
            "application/vnd.google.colaboratory.intrinsic+json": {
              "type": "string"
            }
          },
          "metadata": {},
          "execution_count": 56
        }
      ]
    },
    {
      "cell_type": "code",
      "source": [
        "email_model = spacy.load(\"/content/drive/MyDrive/cicero-nlp/modelCheckpoints/email/20221208T211024/model-best\")"
      ],
      "metadata": {
        "id": "zsGPnqjjP_kx"
      },
      "execution_count": 45,
      "outputs": []
    },
    {
      "cell_type": "code",
      "source": [
        "result = email_model(email_input)"
      ],
      "metadata": {
        "id": "BHJUEJI6QfUU"
      },
      "execution_count": 57,
      "outputs": []
    },
    {
      "cell_type": "code",
      "source": [
        "# to visualized the inference results\n",
        "displacy.render(result, style=\"ent\", jupyter=True)"
      ],
      "metadata": {
        "colab": {
          "base_uri": "https://localhost:8080/",
          "height": 52
        },
        "id": "EcMDln_IQlHE",
        "outputId": "e0cf29a2-ee21-4db6-d5b7-2673c2361446"
      },
      "execution_count": 58,
      "outputs": [
        {
          "output_type": "display_data",
          "data": {
            "text/plain": [
              "<IPython.core.display.HTML object>"
            ],
            "text/html": [
              "<span class=\"tex2jax_ignore\"><div class=\"entities\" style=\"line-height: 2.5; direction: ltr\">Marvin Lucas \n",
              "<mark class=\"entity\" style=\"background: #ddd; padding: 0.45em 0.6em; margin: 0 0.25em; line-height: 1; border-radius: 0.35em;\">\n",
              "    Marvin.Lucas@ncleg.gov\n",
              "    <span style=\"font-size: 0.8em; font-weight: bold; line-height: 1; border-radius: 0.35em; vertical-align: middle; margin-left: 0.5rem\">EMAIL</span>\n",
              "</mark>\n",
              "</div></span>"
            ]
          },
          "metadata": {}
        }
      ]
    },
    {
      "cell_type": "code",
      "source": [
        "# get the extracted entities\n",
        "predictions = result.ents\n",
        "predictions"
      ],
      "metadata": {
        "colab": {
          "base_uri": "https://localhost:8080/"
        },
        "id": "gFQuUi34TZhS",
        "outputId": "bfa1f57d-86d1-4a78-bfd4-a8f61888fc7c"
      },
      "execution_count": 59,
      "outputs": [
        {
          "output_type": "execute_result",
          "data": {
            "text/plain": [
              "(Marvin.Lucas@ncleg.gov,)"
            ]
          },
          "metadata": {},
          "execution_count": 59
        }
      ]
    },
    {
      "cell_type": "code",
      "source": [
        "# get the labels for the entities\n",
        "labels = [n.label_ for n in predictions]"
      ],
      "metadata": {
        "id": "L_9eB2paThaB"
      },
      "execution_count": 60,
      "outputs": []
    },
    {
      "cell_type": "code",
      "source": [
        "# get the extracted entities with labels\n",
        "predicitions_with_labels = list(zip(predictions, labels))\n",
        "predicitions_with_labels"
      ],
      "metadata": {
        "id": "L0LiikumTjA-",
        "outputId": "13a506d8-f5b7-4643-cad9-85cdc877e16d",
        "colab": {
          "base_uri": "https://localhost:8080/"
        }
      },
      "execution_count": 61,
      "outputs": [
        {
          "output_type": "execute_result",
          "data": {
            "text/plain": [
              "[(Marvin.Lucas@ncleg.gov, 'EMAIL')]"
            ]
          },
          "metadata": {},
          "execution_count": 61
        }
      ]
    }
  ]
}