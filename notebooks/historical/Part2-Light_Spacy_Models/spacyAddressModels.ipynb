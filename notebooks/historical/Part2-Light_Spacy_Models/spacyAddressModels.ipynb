{
  "nbformat": 4,
  "nbformat_minor": 0,
  "metadata": {
    "colab": {
      "provenance": [],
      "toc_visible": true
    },
    "kernelspec": {
      "name": "python3",
      "display_name": "Python 3"
    },
    "language_info": {
      "name": "python"
    }
  },
  "cells": [
    {
      "cell_type": "markdown",
      "source": [
        "# Summary"
      ],
      "metadata": {
        "id": "vOw8fNdF4iSc"
      }
    },
    {
      "cell_type": "markdown",
      "source": [
        "This notebook demonstrates the current progress of training light machine learning models on customized datasets with the spaCy framework.<br>\n",
        "The detailed information of the dataset and models will be documented below or in separate notebooks.<br>"
      ],
      "metadata": {
        "id": "9EzflB_C4RJk"
      }
    },
    {
      "cell_type": "markdown",
      "source": [
        "A sample notebook showing the procedure of creating the dataset (inserting) and training the model can be accessed at https://github.com/azavea/cicero-nlp/blob/vanilaNER/Part2-Light_Spacy_Models/TrainSpacy_traing6.ipynb"
      ],
      "metadata": {
        "id": "k6hn6C0HArN1"
      }
    },
    {
      "cell_type": "markdown",
      "source": [
        "## load data"
      ],
      "metadata": {
        "id": "OsI6_nMI9Bl-"
      }
    },
    {
      "cell_type": "markdown",
      "source": [
        "load the data for demonstration purposes. <br>\n",
        "Please note that the loaded data here is different from the training datasets for most models, except model 2.<br>"
      ],
      "metadata": {
        "id": "of7Lzz4Z4mZa"
      }
    },
    {
      "cell_type": "code",
      "execution_count": 1,
      "metadata": {
        "id": "MQqhfNAtOSeA"
      },
      "outputs": [],
      "source": [
        "from bs4 import BeautifulSoup\n",
        "import collections\n",
        "from tqdm import tqdm\n",
        "import pandas as pd"
      ]
    },
    {
      "cell_type": "code",
      "source": [
        "def remove_tags(html):\n",
        "  \n",
        "    # parse html content\n",
        "    soup = BeautifulSoup(html, \"html.parser\")\n",
        "  \n",
        "    for data in soup(['style', 'script']):\n",
        "        # Remove tags\n",
        "        data.decompose()\n",
        "  \n",
        "    # return data by retrieving the tag content\n",
        "    return ' '.join(soup.stripped_strings)"
      ],
      "metadata": {
        "id": "x1BoYdNp9c2L"
      },
      "execution_count": 2,
      "outputs": []
    },
    {
      "cell_type": "code",
      "source": [
        "import os, glob\n",
        "result_dict = collections.defaultdict()\n",
        "path = '/content/drive/MyDrive/Cicero/webpages'\n",
        "for filename in tqdm(glob.glob(os.path.join(path, '*.html'))):\n",
        "   with open(filename, 'r') as f: # open in readonly mode\n",
        "      id = str(os.path.splitext(filename)[0].split('/')[-1])\n",
        "      page = f.read()\n",
        "      content = remove_tags(page)\n",
        "      result_dict[id] = content"
      ],
      "metadata": {
        "colab": {
          "base_uri": "https://localhost:8080/"
        },
        "id": "JJtZb7_89XS7",
        "outputId": "08ca29ea-4c74-4543-ee57-b2bbc706c80e"
      },
      "execution_count": 3,
      "outputs": [
        {
          "output_type": "stream",
          "name": "stderr",
          "text": [
            "100%|██████████| 1548/1548 [02:08<00:00, 12.07it/s]\n"
          ]
        }
      ]
    },
    {
      "cell_type": "code",
      "source": [
        "sample = pd.read_csv('/content/drive/MyDrive/Cicero/cicero_officials_sample_2022-09-08.csv', \\\n",
        "                       error_bad_lines=False)"
      ],
      "metadata": {
        "colab": {
          "base_uri": "https://localhost:8080/"
        },
        "id": "lk1eg3fR-Yxv",
        "outputId": "050ab874-66f1-4815-bf3e-45faf7f8bd1a"
      },
      "execution_count": 4,
      "outputs": [
        {
          "output_type": "stream",
          "name": "stderr",
          "text": [
            "/usr/local/lib/python3.7/dist-packages/IPython/core/interactiveshell.py:3326: FutureWarning: The error_bad_lines argument has been deprecated and will be removed in a future version.\n",
            "\n",
            "\n",
            "  exec(code_obj, self.user_global_ns, self.user_ns)\n",
            "b'Skipping line 13: expected 55 fields, saw 60\\nSkipping line 34: expected 55 fields, saw 59\\nSkipping line 110: expected 55 fields, saw 60\\nSkipping line 125: expected 55 fields, saw 60\\nSkipping line 127: expected 55 fields, saw 60\\nSkipping line 171: expected 55 fields, saw 60\\nSkipping line 175: expected 55 fields, saw 65\\nSkipping line 181: expected 55 fields, saw 60\\nSkipping line 196: expected 55 fields, saw 60\\nSkipping line 197: expected 55 fields, saw 58\\nSkipping line 206: expected 55 fields, saw 60\\nSkipping line 220: expected 55 fields, saw 60\\nSkipping line 261: expected 55 fields, saw 60\\nSkipping line 272: expected 55 fields, saw 63\\nSkipping line 279: expected 55 fields, saw 60\\nSkipping line 353: expected 55 fields, saw 58\\nSkipping line 356: expected 55 fields, saw 59\\nSkipping line 407: expected 55 fields, saw 57\\nSkipping line 429: expected 55 fields, saw 60\\nSkipping line 446: expected 55 fields, saw 69\\nSkipping line 507: expected 55 fields, saw 60\\nSkipping line 528: expected 55 fields, saw 60\\nSkipping line 529: expected 55 fields, saw 56\\nSkipping line 541: expected 55 fields, saw 60\\nSkipping line 556: expected 55 fields, saw 56\\nSkipping line 570: expected 55 fields, saw 75\\nSkipping line 572: expected 55 fields, saw 60\\nSkipping line 582: expected 55 fields, saw 60\\nSkipping line 583: expected 55 fields, saw 60\\nSkipping line 588: expected 55 fields, saw 78\\nSkipping line 666: expected 55 fields, saw 62\\nSkipping line 737: expected 55 fields, saw 60\\nSkipping line 763: expected 55 fields, saw 79\\nSkipping line 771: expected 55 fields, saw 60\\nSkipping line 785: expected 55 fields, saw 65\\nSkipping line 790: expected 55 fields, saw 63\\nSkipping line 841: expected 55 fields, saw 63\\nSkipping line 931: expected 55 fields, saw 60\\nSkipping line 978: expected 55 fields, saw 69\\nSkipping line 1024: expected 55 fields, saw 60\\nSkipping line 1025: expected 55 fields, saw 63\\nSkipping line 1038: expected 55 fields, saw 60\\nSkipping line 1094: expected 55 fields, saw 58\\nSkipping line 1122: expected 55 fields, saw 60\\nSkipping line 1130: expected 55 fields, saw 56\\nSkipping line 1171: expected 55 fields, saw 58\\nSkipping line 1172: expected 55 fields, saw 60\\nSkipping line 1177: expected 55 fields, saw 56\\nSkipping line 1197: expected 55 fields, saw 60\\nSkipping line 1233: expected 55 fields, saw 60\\nSkipping line 1252: expected 55 fields, saw 60\\nSkipping line 1273: expected 55 fields, saw 60\\nSkipping line 1283: expected 55 fields, saw 60\\nSkipping line 1284: expected 55 fields, saw 60\\nSkipping line 1426: expected 55 fields, saw 60\\nSkipping line 1455: expected 55 fields, saw 56\\nSkipping line 1477: expected 55 fields, saw 60\\nSkipping line 1482: expected 55 fields, saw 60\\nSkipping line 1484: expected 55 fields, saw 61\\nSkipping line 1487: expected 55 fields, saw 60\\nSkipping line 1493: expected 55 fields, saw 57\\nSkipping line 1548: expected 55 fields, saw 58\\nSkipping line 1559: expected 55 fields, saw 60\\nSkipping line 1591: expected 55 fields, saw 60\\nSkipping line 1599: expected 55 fields, saw 91\\nSkipping line 1627: expected 55 fields, saw 60\\nSkipping line 1646: expected 55 fields, saw 60\\nSkipping line 1647: expected 55 fields, saw 60\\nSkipping line 1672: expected 55 fields, saw 60\\nSkipping line 1717: expected 55 fields, saw 69\\nSkipping line 1737: expected 55 fields, saw 78\\nSkipping line 1751: expected 55 fields, saw 60\\nSkipping line 1756: expected 55 fields, saw 60\\nSkipping line 1782: expected 55 fields, saw 60\\nSkipping line 1797: expected 55 fields, saw 60\\nSkipping line 1851: expected 55 fields, saw 60\\nSkipping line 1862: expected 55 fields, saw 60\\nSkipping line 1929: expected 55 fields, saw 60\\nSkipping line 1963: expected 55 fields, saw 60\\n'\n"
          ]
        }
      ]
    },
    {
      "cell_type": "code",
      "source": [
        "sample.iloc[0]['id']"
      ],
      "metadata": {
        "colab": {
          "base_uri": "https://localhost:8080/"
        },
        "id": "XbRQrayC-ZLf",
        "outputId": "252e83ac-e8ef-489a-8cd9-69601aa036e5"
      },
      "execution_count": 5,
      "outputs": [
        {
          "output_type": "execute_result",
          "data": {
            "text/plain": [
              "363085"
            ]
          },
          "metadata": {},
          "execution_count": 5
        }
      ]
    },
    {
      "cell_type": "code",
      "source": [
        "result_dict.get('363085')"
      ],
      "metadata": {
        "colab": {
          "base_uri": "https://localhost:8080/",
          "height": 365
        },
        "id": "G9xMbZLB-dD5",
        "outputId": "d5f016e2-5f9c-4309-a52a-0e3a05b97f81"
      },
      "execution_count": 6,
      "outputs": [
        {
          "output_type": "execute_result",
          "data": {
            "text/plain": [
              "\"West Virginia Senate skip navigation SENATE PRESIDENT SENATORS COMMITTEES DISTRICT MAPS VIDEO/AUDIO SENATE CLERK SENATE RULES HOUSE SPEAKER DELEGATES COMMITTEES DISTRICT MAPS VIDEO/AUDIO HOUSE CLERK HOUSE RULES JOINT INTERIM COMMITTEES ADMINISTRATION DIVISION JUDICIAL COMP. COMMISSION BUDGET DIVISION DIVISION OF REGULATORY AND FISCAL AFFAIRS CLAIMS COMMISSION CRIME VICTIMS LASD LEGISLATIVE SERVICES PERD POST AUDIT PUBLIC INFORMATION RULE-MAKING REVIEW SPECIAL INVESTIGATIONS JOINT RULES REDISTRICTING STAFF INFO BILL STATUS BILL STATUS BILL TRACKING STATE LAW WEST VIRGINIA CODE ACTS OF THE LEGISLATURE CODE OF 1931 WV CONSTITUTION US CONSTITUTION REPORTS AGENCY REPORTS AGENCY GRANT AWARDS PERFORMANCE EVALUATIONS POST AUDITS EDUCATIONAL CITIZEN’S GUIDE INTERNSHIP PROGRAM PAGE PROGRAM PUBLICATIONS PHOTO GALLERY CAPITOL HISTORY HOW A BILL BECOMES LAW CONTACT SENATE ROSTER HOUSE ROSTER PUBLIC INFO. WEBMASTER HELPFUL LINKS West Virginia State Senate House Roster | Senate Roster Find by Name Craig Blair Michael T. Azinger Stephen Baldwin Robert D. Beach Donna J. Boley Owens Brown Mike Caputo Charles H. Clements Hannah Geffert Amy N. Grady Bill Hamilton Glenn D. Jeffries Robert L. Karnes Richard D. Lindsay II Michael J. Maroney Patrick S. Martin Mark R. Maynard Eric Nelson Jr. Rupie Phillips Robert H. Plymale Rollan Roberts Michael J. Romano Patricia Puertas Rucker Randy E. Smith Ron D. Stollings David Stover Chandler Swope Dave Sypolt Tom Takubo Eric J. Tarr Charles S. Trump IV Ryan W. Weld Michael A. Woelfel Jack David Woodrum David Stover    (R - Wyoming, 09) CONTACT david.stover@wvsenate.gov Capitol Office: Room 213W, Building 1 State Capitol Complex Charleston, WV 25305 Capitol Phone: (304) 357-7807 District: P.O. Box 682 Mullens, WV 25882 Biography Circuit Clerk Born December 16, 1954, in Mullens, West Virginia Parents David J. Stover and P. Ruth (McGrady) Stover Children Dr. Justin N. Stover Education Mullens High School, 1973; Glenville State College, 1977 Legislative Service Elected to Senate 2020 Other Public Service Naturalist WV Park System Religion Baptist COMMITTEE ASSIGNMENTS VICE CHAIR: Interstate Cooperation VICE CHAIR: Natural Resources Economic Development Government Organization Health and Human Resources Judiciary INTERIM COMMITTEES: Children and Families Government Organization Health Interstate Cooperation Judiciary Parks, Recreation and Natural Resources Subcommittee Volunteer Fire Departments and Emergency Medical Services DISTRICT 09 District Counties: McDowell (part), Raleigh, Wyoming SPONSORED LEGISLATION, 2022 Senator Stover was the Lead Sponsor of 1 bills Bill Title Status Committee SB 191 Allowing poll workers to work full and half days Signed Bill Status | Bill Tracking | WV Code Entire | Session Calendar | District Maps | Senate Roster | House Roster | Releases | Blog | Links | Home This Web site is maintained by the West Virginia Legislature's Office of Reference & Information. | Terms of Use | Web Administrator | \\xa0  © 2022 West Virginia Legislature  **\""
            ],
            "application/vnd.google.colaboratory.intrinsic+json": {
              "type": "string"
            }
          },
          "metadata": {},
          "execution_count": 6
        }
      ]
    },
    {
      "cell_type": "markdown",
      "source": [
        "## Show Models"
      ],
      "metadata": {
        "id": "IZ4XigbH5ezg"
      }
    },
    {
      "cell_type": "code",
      "source": [
        "import spacy\n",
        "from spacy import displacy"
      ],
      "metadata": {
        "id": "55uyiLM9A-bb"
      },
      "execution_count": 12,
      "outputs": []
    },
    {
      "cell_type": "markdown",
      "source": [
        "test sample 1"
      ],
      "metadata": {
        "id": "oOAiJcVe6z-v"
      }
    },
    {
      "cell_type": "code",
      "source": [
        "sample.iloc[0]"
      ],
      "metadata": {
        "colab": {
          "base_uri": "https://localhost:8080/"
        },
        "id": "dE7Pw4tm8RL4",
        "outputId": "acba519b-5d9d-44d5-eb3f-7700860f55f8"
      },
      "execution_count": 19,
      "outputs": [
        {
          "output_type": "execute_result",
          "data": {
            "text/plain": [
              "id                                                                              363085\n",
              "party                                                                       Republican\n",
              "initial_term_start_date                                                            NaN\n",
              "initial_term_start_date_precision                                                  NaN\n",
              "valid_from                                                      2020-12-01 00:00:00+00\n",
              "valid_from_precision                                                                 D\n",
              "valid_to                                                        2022-12-01 00:00:00+00\n",
              "valid_to_precision                                                                   D\n",
              "first_name                                                                       David\n",
              "middle_initial                                                                    Bugs\n",
              "last_name                                                                       Stover\n",
              "name_suffix                                                                        NaN\n",
              "primary_address_1                                                State Capitol Complex\n",
              "primary_address_2                                                   Room 213W, Bldg. 1\n",
              "primary_address_3                                          1900 Kanawha Boulevard East\n",
              "primary_city                                                                Charleston\n",
              "primary_county                                                                     NaN\n",
              "primary_state                                                                       WV\n",
              "primary_postal_code                                                              25305\n",
              "primary_phone_1                                                         (304) 357-7807\n",
              "primary_phone_2                                                                    NaN\n",
              "primary_fax_1                                                                      NaN\n",
              "primary_fax_2                                                                      NaN\n",
              "secondary_address_1                                                       P.O. Box 682\n",
              "secondary_address_2                                                                NaN\n",
              "secondary_address_3                                                                NaN\n",
              "secondary_city                                                                 Mullens\n",
              "secondary_county                                                                   NaN\n",
              "secondary_state                                                                     WV\n",
              "secondary_postal_code                                                            25882\n",
              "secondary_phone_1                                                                  NaN\n",
              "secondary_phone_2                                                                  NaN\n",
              "secondary_fax_1                                                                    NaN\n",
              "secondary_fax_2                                                                    NaN\n",
              "email_1                                                      david.stover@wvsenate.gov\n",
              "email_2                                                                            NaN\n",
              "photo_origin_url                     https://www.wvlegislature.gov/images/members/2...\n",
              "description_1                        Circuit Clerk Born December 16, 1954, in Mulle...\n",
              "description_2                                                                      NaN\n",
              "notes                                                                              NaN\n",
              "url_1                                https://www.wvlegislature.gov/Senate1/lawmaker...\n",
              "url_2                                                                              NaN\n",
              "salutation                                                                         NaN\n",
              "web_form_url                                                                       NaN\n",
              "role                                                                           Senator\n",
              "trans_from                                               2022-04-05 16:48:18.847246+00\n",
              "last_update_user                                                                 THare\n",
              "trans_to                                                                           NaN\n",
              "is_staging                                                                           f\n",
              "sk                                                                              296755\n",
              "chamber_id                                                                        6265\n",
              "district_id                                                                     755755\n",
              "version                                                                              8\n",
              "preferred_name                                                                     NaN\n",
              "photo_cropping                                                                     NaN\n",
              "Name: 0, dtype: object"
            ]
          },
          "metadata": {},
          "execution_count": 19
        }
      ]
    },
    {
      "cell_type": "code",
      "source": [
        "sample.iloc[0]['url_1']"
      ],
      "metadata": {
        "colab": {
          "base_uri": "https://localhost:8080/",
          "height": 35
        },
        "id": "B32qE_Vx8XUg",
        "outputId": "03d1cfa6-dfb5-4810-c9d7-cdb90aea8c2f"
      },
      "execution_count": 21,
      "outputs": [
        {
          "output_type": "execute_result",
          "data": {
            "text/plain": [
              "'https://www.wvlegislature.gov/Senate1/lawmaker.cfm?member=Senator%20Stover'"
            ],
            "application/vnd.google.colaboratory.intrinsic+json": {
              "type": "string"
            }
          },
          "metadata": {},
          "execution_count": 21
        }
      ]
    },
    {
      "cell_type": "code",
      "source": [
        "sample1 = result_dict.get(str(sample.iloc[0]['id']))"
      ],
      "metadata": {
        "id": "6RULAE306wEW"
      },
      "execution_count": 8,
      "outputs": []
    },
    {
      "cell_type": "code",
      "source": [
        "sample1"
      ],
      "metadata": {
        "colab": {
          "base_uri": "https://localhost:8080/",
          "height": 365
        },
        "id": "Afc0Ft1F6ww3",
        "outputId": "8161f59a-b059-486f-8eb5-6198593b7bb0"
      },
      "execution_count": 9,
      "outputs": [
        {
          "output_type": "execute_result",
          "data": {
            "text/plain": [
              "\"West Virginia Senate skip navigation SENATE PRESIDENT SENATORS COMMITTEES DISTRICT MAPS VIDEO/AUDIO SENATE CLERK SENATE RULES HOUSE SPEAKER DELEGATES COMMITTEES DISTRICT MAPS VIDEO/AUDIO HOUSE CLERK HOUSE RULES JOINT INTERIM COMMITTEES ADMINISTRATION DIVISION JUDICIAL COMP. COMMISSION BUDGET DIVISION DIVISION OF REGULATORY AND FISCAL AFFAIRS CLAIMS COMMISSION CRIME VICTIMS LASD LEGISLATIVE SERVICES PERD POST AUDIT PUBLIC INFORMATION RULE-MAKING REVIEW SPECIAL INVESTIGATIONS JOINT RULES REDISTRICTING STAFF INFO BILL STATUS BILL STATUS BILL TRACKING STATE LAW WEST VIRGINIA CODE ACTS OF THE LEGISLATURE CODE OF 1931 WV CONSTITUTION US CONSTITUTION REPORTS AGENCY REPORTS AGENCY GRANT AWARDS PERFORMANCE EVALUATIONS POST AUDITS EDUCATIONAL CITIZEN’S GUIDE INTERNSHIP PROGRAM PAGE PROGRAM PUBLICATIONS PHOTO GALLERY CAPITOL HISTORY HOW A BILL BECOMES LAW CONTACT SENATE ROSTER HOUSE ROSTER PUBLIC INFO. WEBMASTER HELPFUL LINKS West Virginia State Senate House Roster | Senate Roster Find by Name Craig Blair Michael T. Azinger Stephen Baldwin Robert D. Beach Donna J. Boley Owens Brown Mike Caputo Charles H. Clements Hannah Geffert Amy N. Grady Bill Hamilton Glenn D. Jeffries Robert L. Karnes Richard D. Lindsay II Michael J. Maroney Patrick S. Martin Mark R. Maynard Eric Nelson Jr. Rupie Phillips Robert H. Plymale Rollan Roberts Michael J. Romano Patricia Puertas Rucker Randy E. Smith Ron D. Stollings David Stover Chandler Swope Dave Sypolt Tom Takubo Eric J. Tarr Charles S. Trump IV Ryan W. Weld Michael A. Woelfel Jack David Woodrum David Stover    (R - Wyoming, 09) CONTACT david.stover@wvsenate.gov Capitol Office: Room 213W, Building 1 State Capitol Complex Charleston, WV 25305 Capitol Phone: (304) 357-7807 District: P.O. Box 682 Mullens, WV 25882 Biography Circuit Clerk Born December 16, 1954, in Mullens, West Virginia Parents David J. Stover and P. Ruth (McGrady) Stover Children Dr. Justin N. Stover Education Mullens High School, 1973; Glenville State College, 1977 Legislative Service Elected to Senate 2020 Other Public Service Naturalist WV Park System Religion Baptist COMMITTEE ASSIGNMENTS VICE CHAIR: Interstate Cooperation VICE CHAIR: Natural Resources Economic Development Government Organization Health and Human Resources Judiciary INTERIM COMMITTEES: Children and Families Government Organization Health Interstate Cooperation Judiciary Parks, Recreation and Natural Resources Subcommittee Volunteer Fire Departments and Emergency Medical Services DISTRICT 09 District Counties: McDowell (part), Raleigh, Wyoming SPONSORED LEGISLATION, 2022 Senator Stover was the Lead Sponsor of 1 bills Bill Title Status Committee SB 191 Allowing poll workers to work full and half days Signed Bill Status | Bill Tracking | WV Code Entire | Session Calendar | District Maps | Senate Roster | House Roster | Releases | Blog | Links | Home This Web site is maintained by the West Virginia Legislature's Office of Reference & Information. | Terms of Use | Web Administrator | \\xa0  © 2022 West Virginia Legislature  **\""
            ],
            "application/vnd.google.colaboratory.intrinsic+json": {
              "type": "string"
            }
          },
          "metadata": {},
          "execution_count": 9
        }
      ]
    },
    {
      "cell_type": "markdown",
      "source": [
        "Model 1"
      ],
      "metadata": {
        "id": "ej7SNtK6AIWV"
      }
    },
    {
      "cell_type": "markdown",
      "source": [
        "The model 1 is trained on the cusutomized dataset with different attributes inserted and different attributes tagged."
      ],
      "metadata": {
        "id": "dnAJUP6I5nDH"
      }
    },
    {
      "cell_type": "code",
      "source": [
        "train1 = spacy.load(\"/content/drive/MyDrive/workdata_10 05 2022/model-best\")"
      ],
      "metadata": {
        "id": "ir5dfWmw-iJG"
      },
      "execution_count": 13,
      "outputs": []
    },
    {
      "cell_type": "code",
      "source": [
        "doc = train1(sample1)\n",
        "displacy.render(doc, style=\"ent\", jupyter=True)"
      ],
      "metadata": {
        "colab": {
          "base_uri": "https://localhost:8080/",
          "height": 752
        },
        "id": "frsvB2bc6o-e",
        "outputId": "9bba5f17-e264-49b3-839f-f75f31f3153a"
      },
      "execution_count": 14,
      "outputs": [
        {
          "output_type": "display_data",
          "data": {
            "text/plain": [
              "<IPython.core.display.HTML object>"
            ],
            "text/html": [
              "<span class=\"tex2jax_ignore\"><div class=\"entities\" style=\"line-height: 2.5; direction: ltr\">West Virginia Senate skip navigation SENATE PRESIDENT SENATORS COMMITTEES DISTRICT MAPS VIDEO/AUDIO SENATE CLERK SENATE RULES HOUSE SPEAKER DELEGATES COMMITTEES DISTRICT MAPS VIDEO/AUDIO \n",
              "<mark class=\"entity\" style=\"background: #ddd; padding: 0.45em 0.6em; margin: 0 0.25em; line-height: 1; border-radius: 0.35em;\">\n",
              "    HOUSE CLERK HOUSE RULES JOINT INTERIM COMMITTEES ADMINISTRATION DIVISION JUDICIAL COMP. COMMISSION BUDGET DIVISION DIVISION OF REGULATORY AND FISCAL AFFAIRS CLAIMS COMMISSION CRIME VICTIMS LASD LEGISLATIVE SERVICES PERD POST AUDIT PUBLIC INFORMATION RULE-MAKING REVIEW SPECIAL INVESTIGATIONS JOINT RULES REDISTRICTING STAFF INFO BILL STATUS BILL STATUS BILL TRACKING STATE LAW WEST VIRGINIA CODE ACTS OF THE LEGISLATURE CODE OF\n",
              "    <span style=\"font-size: 0.8em; font-weight: bold; line-height: 1; border-radius: 0.35em; vertical-align: middle; margin-left: 0.5rem\">ADDRESS</span>\n",
              "</mark>\n",
              " \n",
              "<mark class=\"entity\" style=\"background: #ddd; padding: 0.45em 0.6em; margin: 0 0.25em; line-height: 1; border-radius: 0.35em;\">\n",
              "    1931\n",
              "    <span style=\"font-size: 0.8em; font-weight: bold; line-height: 1; border-radius: 0.35em; vertical-align: middle; margin-left: 0.5rem\">STATE</span>\n",
              "</mark>\n",
              " \n",
              "<mark class=\"entity\" style=\"background: #ddd; padding: 0.45em 0.6em; margin: 0 0.25em; line-height: 1; border-radius: 0.35em;\">\n",
              "    WV\n",
              "    <span style=\"font-size: 0.8em; font-weight: bold; line-height: 1; border-radius: 0.35em; vertical-align: middle; margin-left: 0.5rem\">STATE</span>\n",
              "</mark>\n",
              " CONSTITUTION US CONSTITUTION REPORTS AGENCY REPORTS AGENCY GRANT AWARDS PERFORMANCE EVALUATIONS POST AUDITS EDUCATIONAL CITIZEN’S GUIDE INTERNSHIP PROGRAM PAGE PROGRAM PUBLICATIONS PHOTO GALLERY CAPITOL HISTORY HOW A BILL BECOMES \n",
              "<mark class=\"entity\" style=\"background: #ddd; padding: 0.45em 0.6em; margin: 0 0.25em; line-height: 1; border-radius: 0.35em;\">\n",
              "    LAW CONTACT SENATE ROSTER HOUSE ROSTER PUBLIC INFO. WEBMASTER HELPFUL LINKS West Virginia State Senate\n",
              "    <span style=\"font-size: 0.8em; font-weight: bold; line-height: 1; border-radius: 0.35em; vertical-align: middle; margin-left: 0.5rem\">ADDRESS</span>\n",
              "</mark>\n",
              " \n",
              "<mark class=\"entity\" style=\"background: #ddd; padding: 0.45em 0.6em; margin: 0 0.25em; line-height: 1; border-radius: 0.35em;\">\n",
              "    House Roster | Senate\n",
              "    <span style=\"font-size: 0.8em; font-weight: bold; line-height: 1; border-radius: 0.35em; vertical-align: middle; margin-left: 0.5rem\">ADDRESS</span>\n",
              "</mark>\n",
              " \n",
              "<mark class=\"entity\" style=\"background: #ddd; padding: 0.45em 0.6em; margin: 0 0.25em; line-height: 1; border-radius: 0.35em;\">\n",
              "    Roster\n",
              "    <span style=\"font-size: 0.8em; font-weight: bold; line-height: 1; border-radius: 0.35em; vertical-align: middle; margin-left: 0.5rem\">PCODE</span>\n",
              "</mark>\n",
              " Find by Name Craig Blair Michael T. Azinger Stephen \n",
              "<mark class=\"entity\" style=\"background: #ddd; padding: 0.45em 0.6em; margin: 0 0.25em; line-height: 1; border-radius: 0.35em;\">\n",
              "    Baldwin\n",
              "    <span style=\"font-size: 0.8em; font-weight: bold; line-height: 1; border-radius: 0.35em; vertical-align: middle; margin-left: 0.5rem\">PCODE</span>\n",
              "</mark>\n",
              " Robert D. Beach Donna J. Boley Owens \n",
              "<mark class=\"entity\" style=\"background: #ddd; padding: 0.45em 0.6em; margin: 0 0.25em; line-height: 1; border-radius: 0.35em;\">\n",
              "    Brown\n",
              "    <span style=\"font-size: 0.8em; font-weight: bold; line-height: 1; border-radius: 0.35em; vertical-align: middle; margin-left: 0.5rem\">PCODE</span>\n",
              "</mark>\n",
              " \n",
              "<mark class=\"entity\" style=\"background: #ddd; padding: 0.45em 0.6em; margin: 0 0.25em; line-height: 1; border-radius: 0.35em;\">\n",
              "    Mike Caputo Charles H. Clements Hannah Geffert\n",
              "    <span style=\"font-size: 0.8em; font-weight: bold; line-height: 1; border-radius: 0.35em; vertical-align: middle; margin-left: 0.5rem\">ADDRESS</span>\n",
              "</mark>\n",
              " \n",
              "<mark class=\"entity\" style=\"background: #ddd; padding: 0.45em 0.6em; margin: 0 0.25em; line-height: 1; border-radius: 0.35em;\">\n",
              "    Amy N. Grady Bill\n",
              "    <span style=\"font-size: 0.8em; font-weight: bold; line-height: 1; border-radius: 0.35em; vertical-align: middle; margin-left: 0.5rem\">ADDRESS</span>\n",
              "</mark>\n",
              " \n",
              "<mark class=\"entity\" style=\"background: #ddd; padding: 0.45em 0.6em; margin: 0 0.25em; line-height: 1; border-radius: 0.35em;\">\n",
              "    Hamilton\n",
              "    <span style=\"font-size: 0.8em; font-weight: bold; line-height: 1; border-radius: 0.35em; vertical-align: middle; margin-left: 0.5rem\">PCODE</span>\n",
              "</mark>\n",
              " Glenn D. Jeffries Robert L. Karnes Richard D. Lindsay II \n",
              "<mark class=\"entity\" style=\"background: #ddd; padding: 0.45em 0.6em; margin: 0 0.25em; line-height: 1; border-radius: 0.35em;\">\n",
              "    Michael J. Maroney Patrick S. Martin Mark R. Maynard Eric\n",
              "    <span style=\"font-size: 0.8em; font-weight: bold; line-height: 1; border-radius: 0.35em; vertical-align: middle; margin-left: 0.5rem\">ADDRESS</span>\n",
              "</mark>\n",
              " \n",
              "<mark class=\"entity\" style=\"background: #ddd; padding: 0.45em 0.6em; margin: 0 0.25em; line-height: 1; border-radius: 0.35em;\">\n",
              "    Nelson Jr. Rupie Phillips\n",
              "    <span style=\"font-size: 0.8em; font-weight: bold; line-height: 1; border-radius: 0.35em; vertical-align: middle; margin-left: 0.5rem\">ADDRESS</span>\n",
              "</mark>\n",
              " Robert H. Plymale Rollan Roberts \n",
              "<mark class=\"entity\" style=\"background: #ddd; padding: 0.45em 0.6em; margin: 0 0.25em; line-height: 1; border-radius: 0.35em;\">\n",
              "    Michael J. Romano Patricia Puertas Rucker Randy E. Smith Ron D. Stollings David Stover Chandler\n",
              "    <span style=\"font-size: 0.8em; font-weight: bold; line-height: 1; border-radius: 0.35em; vertical-align: middle; margin-left: 0.5rem\">ADDRESS</span>\n",
              "</mark>\n",
              " \n",
              "<mark class=\"entity\" style=\"background: #ddd; padding: 0.45em 0.6em; margin: 0 0.25em; line-height: 1; border-radius: 0.35em;\">\n",
              "    Swope Dave Sypolt Tom Takubo\n",
              "    <span style=\"font-size: 0.8em; font-weight: bold; line-height: 1; border-radius: 0.35em; vertical-align: middle; margin-left: 0.5rem\">ADDRESS</span>\n",
              "</mark>\n",
              " \n",
              "<mark class=\"entity\" style=\"background: #ddd; padding: 0.45em 0.6em; margin: 0 0.25em; line-height: 1; border-radius: 0.35em;\">\n",
              "    Eric J. Tarr Charles S. Trump\n",
              "    <span style=\"font-size: 0.8em; font-weight: bold; line-height: 1; border-radius: 0.35em; vertical-align: middle; margin-left: 0.5rem\">ADDRESS</span>\n",
              "</mark>\n",
              " \n",
              "<mark class=\"entity\" style=\"background: #ddd; padding: 0.45em 0.6em; margin: 0 0.25em; line-height: 1; border-radius: 0.35em;\">\n",
              "    IV\n",
              "    <span style=\"font-size: 0.8em; font-weight: bold; line-height: 1; border-radius: 0.35em; vertical-align: middle; margin-left: 0.5rem\">STATE</span>\n",
              "</mark>\n",
              " Ryan W. Weld Michael A. Woelfel Jack David Woodrum David Stover    \n",
              "<mark class=\"entity\" style=\"background: #ddd; padding: 0.45em 0.6em; margin: 0 0.25em; line-height: 1; border-radius: 0.35em;\">\n",
              "    (R - Wyoming, 09) CONTACT david.stover@wvsenate.gov Capitol Office: Room 213W, Building 1\n",
              "    <span style=\"font-size: 0.8em; font-weight: bold; line-height: 1; border-radius: 0.35em; vertical-align: middle; margin-left: 0.5rem\">ADDRESS</span>\n",
              "</mark>\n",
              " \n",
              "<mark class=\"entity\" style=\"background: #ddd; padding: 0.45em 0.6em; margin: 0 0.25em; line-height: 1; border-radius: 0.35em;\">\n",
              "    State Capitol Complex\n",
              "    <span style=\"font-size: 0.8em; font-weight: bold; line-height: 1; border-radius: 0.35em; vertical-align: middle; margin-left: 0.5rem\">ADDRESS</span>\n",
              "</mark>\n",
              " Charleston, WV \n",
              "<mark class=\"entity\" style=\"background: #ddd; padding: 0.45em 0.6em; margin: 0 0.25em; line-height: 1; border-radius: 0.35em;\">\n",
              "    25305\n",
              "    <span style=\"font-size: 0.8em; font-weight: bold; line-height: 1; border-radius: 0.35em; vertical-align: middle; margin-left: 0.5rem\">STATE</span>\n",
              "</mark>\n",
              " \n",
              "<mark class=\"entity\" style=\"background: #ddd; padding: 0.45em 0.6em; margin: 0 0.25em; line-height: 1; border-radius: 0.35em;\">\n",
              "    Capitol Phone: (\n",
              "    <span style=\"font-size: 0.8em; font-weight: bold; line-height: 1; border-radius: 0.35em; vertical-align: middle; margin-left: 0.5rem\">ADDRESS</span>\n",
              "</mark>\n",
              "\n",
              "<mark class=\"entity\" style=\"background: #ddd; padding: 0.45em 0.6em; margin: 0 0.25em; line-height: 1; border-radius: 0.35em;\">\n",
              "    304) 357-7807\n",
              "    <span style=\"font-size: 0.8em; font-weight: bold; line-height: 1; border-radius: 0.35em; vertical-align: middle; margin-left: 0.5rem\">ADDRESS</span>\n",
              "</mark>\n",
              " \n",
              "<mark class=\"entity\" style=\"background: #ddd; padding: 0.45em 0.6em; margin: 0 0.25em; line-height: 1; border-radius: 0.35em;\">\n",
              "    District: P.O. Box 682\n",
              "    <span style=\"font-size: 0.8em; font-weight: bold; line-height: 1; border-radius: 0.35em; vertical-align: middle; margin-left: 0.5rem\">ADDRESS</span>\n",
              "</mark>\n",
              " Mullens, WV \n",
              "<mark class=\"entity\" style=\"background: #ddd; padding: 0.45em 0.6em; margin: 0 0.25em; line-height: 1; border-radius: 0.35em;\">\n",
              "    25882 Biography Circuit Clerk\n",
              "    <span style=\"font-size: 0.8em; font-weight: bold; line-height: 1; border-radius: 0.35em; vertical-align: middle; margin-left: 0.5rem\">ADDRESS</span>\n",
              "</mark>\n",
              " Born December 16, 1954, in Mullens, West Virginia Parents David J. Stover and P. Ruth (McGrady) \n",
              "<mark class=\"entity\" style=\"background: #ddd; padding: 0.45em 0.6em; margin: 0 0.25em; line-height: 1; border-radius: 0.35em;\">\n",
              "    Stover\n",
              "    <span style=\"font-size: 0.8em; font-weight: bold; line-height: 1; border-radius: 0.35em; vertical-align: middle; margin-left: 0.5rem\">PCODE</span>\n",
              "</mark>\n",
              " Children Dr. Justin N. Stover Education \n",
              "<mark class=\"entity\" style=\"background: #ddd; padding: 0.45em 0.6em; margin: 0 0.25em; line-height: 1; border-radius: 0.35em;\">\n",
              "    Mullens High\n",
              "    <span style=\"font-size: 0.8em; font-weight: bold; line-height: 1; border-radius: 0.35em; vertical-align: middle; margin-left: 0.5rem\">ADDRESS</span>\n",
              "</mark>\n",
              " School, 1973; \n",
              "<mark class=\"entity\" style=\"background: #ddd; padding: 0.45em 0.6em; margin: 0 0.25em; line-height: 1; border-radius: 0.35em;\">\n",
              "    Glenville State\n",
              "    <span style=\"font-size: 0.8em; font-weight: bold; line-height: 1; border-radius: 0.35em; vertical-align: middle; margin-left: 0.5rem\">ADDRESS</span>\n",
              "</mark>\n",
              " \n",
              "<mark class=\"entity\" style=\"background: #ddd; padding: 0.45em 0.6em; margin: 0 0.25em; line-height: 1; border-radius: 0.35em;\">\n",
              "    College, 1977\n",
              "    <span style=\"font-size: 0.8em; font-weight: bold; line-height: 1; border-radius: 0.35em; vertical-align: middle; margin-left: 0.5rem\">PCODE</span>\n",
              "</mark>\n",
              " Legislative Service Elected to \n",
              "<mark class=\"entity\" style=\"background: #ddd; padding: 0.45em 0.6em; margin: 0 0.25em; line-height: 1; border-radius: 0.35em;\">\n",
              "    Senate\n",
              "    <span style=\"font-size: 0.8em; font-weight: bold; line-height: 1; border-radius: 0.35em; vertical-align: middle; margin-left: 0.5rem\">ADDRESS</span>\n",
              "</mark>\n",
              " \n",
              "<mark class=\"entity\" style=\"background: #ddd; padding: 0.45em 0.6em; margin: 0 0.25em; line-height: 1; border-radius: 0.35em;\">\n",
              "    2020\n",
              "    <span style=\"font-size: 0.8em; font-weight: bold; line-height: 1; border-radius: 0.35em; vertical-align: middle; margin-left: 0.5rem\">STATE</span>\n",
              "</mark>\n",
              " \n",
              "<mark class=\"entity\" style=\"background: #ddd; padding: 0.45em 0.6em; margin: 0 0.25em; line-height: 1; border-radius: 0.35em;\">\n",
              "    Other Public Service\n",
              "    <span style=\"font-size: 0.8em; font-weight: bold; line-height: 1; border-radius: 0.35em; vertical-align: middle; margin-left: 0.5rem\">ADDRESS</span>\n",
              "</mark>\n",
              " Naturalist \n",
              "<mark class=\"entity\" style=\"background: #ddd; padding: 0.45em 0.6em; margin: 0 0.25em; line-height: 1; border-radius: 0.35em;\">\n",
              "    WV Park System Religion\n",
              "    <span style=\"font-size: 0.8em; font-weight: bold; line-height: 1; border-radius: 0.35em; vertical-align: middle; margin-left: 0.5rem\">ADDRESS</span>\n",
              "</mark>\n",
              " \n",
              "<mark class=\"entity\" style=\"background: #ddd; padding: 0.45em 0.6em; margin: 0 0.25em; line-height: 1; border-radius: 0.35em;\">\n",
              "    Baptist\n",
              "    <span style=\"font-size: 0.8em; font-weight: bold; line-height: 1; border-radius: 0.35em; vertical-align: middle; margin-left: 0.5rem\">PCODE</span>\n",
              "</mark>\n",
              " COMMITTEE ASSIGNMENTS VICE CHAIR: Interstate Cooperation VICE CHAIR: Natural Resources Economic Development Government Organization Health and Human Resources Judiciary INTERIM COMMITTEES: Children and Families Government Organization \n",
              "<mark class=\"entity\" style=\"background: #ddd; padding: 0.45em 0.6em; margin: 0 0.25em; line-height: 1; border-radius: 0.35em;\">\n",
              "    Health Interstate Cooperation\n",
              "    <span style=\"font-size: 0.8em; font-weight: bold; line-height: 1; border-radius: 0.35em; vertical-align: middle; margin-left: 0.5rem\">ADDRESS</span>\n",
              "</mark>\n",
              " \n",
              "<mark class=\"entity\" style=\"background: #ddd; padding: 0.45em 0.6em; margin: 0 0.25em; line-height: 1; border-radius: 0.35em;\">\n",
              "    Judiciary Parks, Recreation\n",
              "    <span style=\"font-size: 0.8em; font-weight: bold; line-height: 1; border-radius: 0.35em; vertical-align: middle; margin-left: 0.5rem\">PCODE</span>\n",
              "</mark>\n",
              " and Natural Resources Subcommittee Volunteer Fire Departments and Emergency \n",
              "<mark class=\"entity\" style=\"background: #ddd; padding: 0.45em 0.6em; margin: 0 0.25em; line-height: 1; border-radius: 0.35em;\">\n",
              "    Medical Services DISTRICT 09 District Counties\n",
              "    <span style=\"font-size: 0.8em; font-weight: bold; line-height: 1; border-radius: 0.35em; vertical-align: middle; margin-left: 0.5rem\">ADDRESS</span>\n",
              "</mark>\n",
              ": McDowell (part), Raleigh, Wyoming SPONSORED LEGISLATION, 2022 \n",
              "<mark class=\"entity\" style=\"background: #ddd; padding: 0.45em 0.6em; margin: 0 0.25em; line-height: 1; border-radius: 0.35em;\">\n",
              "    Senator\n",
              "    <span style=\"font-size: 0.8em; font-weight: bold; line-height: 1; border-radius: 0.35em; vertical-align: middle; margin-left: 0.5rem\">PCODE</span>\n",
              "</mark>\n",
              " Stover was the Lead Sponsor of 1 bills Bill \n",
              "<mark class=\"entity\" style=\"background: #ddd; padding: 0.45em 0.6em; margin: 0 0.25em; line-height: 1; border-radius: 0.35em;\">\n",
              "    Title Status Committee\n",
              "    <span style=\"font-size: 0.8em; font-weight: bold; line-height: 1; border-radius: 0.35em; vertical-align: middle; margin-left: 0.5rem\">ADDRESS</span>\n",
              "</mark>\n",
              " \n",
              "<mark class=\"entity\" style=\"background: #ddd; padding: 0.45em 0.6em; margin: 0 0.25em; line-height: 1; border-radius: 0.35em;\">\n",
              "    SB\n",
              "    <span style=\"font-size: 0.8em; font-weight: bold; line-height: 1; border-radius: 0.35em; vertical-align: middle; margin-left: 0.5rem\">STATE</span>\n",
              "</mark>\n",
              " 191 Allowing poll workers to work full and half days \n",
              "<mark class=\"entity\" style=\"background: #ddd; padding: 0.45em 0.6em; margin: 0 0.25em; line-height: 1; border-radius: 0.35em;\">\n",
              "    Signed Bill Status\n",
              "    <span style=\"font-size: 0.8em; font-weight: bold; line-height: 1; border-radius: 0.35em; vertical-align: middle; margin-left: 0.5rem\">ADDRESS</span>\n",
              "</mark>\n",
              " | Bill Tracking | \n",
              "<mark class=\"entity\" style=\"background: #ddd; padding: 0.45em 0.6em; margin: 0 0.25em; line-height: 1; border-radius: 0.35em;\">\n",
              "    WV\n",
              "    <span style=\"font-size: 0.8em; font-weight: bold; line-height: 1; border-radius: 0.35em; vertical-align: middle; margin-left: 0.5rem\">STATE</span>\n",
              "</mark>\n",
              " \n",
              "<mark class=\"entity\" style=\"background: #ddd; padding: 0.45em 0.6em; margin: 0 0.25em; line-height: 1; border-radius: 0.35em;\">\n",
              "    Code Entire | Session Calendar | District Maps |\n",
              "    <span style=\"font-size: 0.8em; font-weight: bold; line-height: 1; border-radius: 0.35em; vertical-align: middle; margin-left: 0.5rem\">PCODE</span>\n",
              "</mark>\n",
              " \n",
              "<mark class=\"entity\" style=\"background: #ddd; padding: 0.45em 0.6em; margin: 0 0.25em; line-height: 1; border-radius: 0.35em;\">\n",
              "    Senate Roster |\n",
              "    <span style=\"font-size: 0.8em; font-weight: bold; line-height: 1; border-radius: 0.35em; vertical-align: middle; margin-left: 0.5rem\">ADDRESS</span>\n",
              "</mark>\n",
              " \n",
              "<mark class=\"entity\" style=\"background: #ddd; padding: 0.45em 0.6em; margin: 0 0.25em; line-height: 1; border-radius: 0.35em;\">\n",
              "    House Roster | Releases\n",
              "    <span style=\"font-size: 0.8em; font-weight: bold; line-height: 1; border-radius: 0.35em; vertical-align: middle; margin-left: 0.5rem\">ADDRESS</span>\n",
              "</mark>\n",
              " | Blog | Links | \n",
              "<mark class=\"entity\" style=\"background: #ddd; padding: 0.45em 0.6em; margin: 0 0.25em; line-height: 1; border-radius: 0.35em;\">\n",
              "    Home\n",
              "    <span style=\"font-size: 0.8em; font-weight: bold; line-height: 1; border-radius: 0.35em; vertical-align: middle; margin-left: 0.5rem\">PCODE</span>\n",
              "</mark>\n",
              " This Web site is maintained by the West Virginia Legislature's \n",
              "<mark class=\"entity\" style=\"background: #ddd; padding: 0.45em 0.6em; margin: 0 0.25em; line-height: 1; border-radius: 0.35em;\">\n",
              "    Office of Reference &amp; Information. | Terms of Use | Web Administrator |    © 2022 West Virginia Legislature\n",
              "    <span style=\"font-size: 0.8em; font-weight: bold; line-height: 1; border-radius: 0.35em; vertical-align: middle; margin-left: 0.5rem\">ADDRESS</span>\n",
              "</mark>\n",
              "  **</div></span>"
            ]
          },
          "metadata": {}
        }
      ]
    },
    {
      "cell_type": "markdown",
      "source": [
        "Model 2"
      ],
      "metadata": {
        "id": "ACEEF88iBGp8"
      }
    },
    {
      "cell_type": "markdown",
      "source": [
        "The model 2 is trained on the labeled dataset, which is extractly same as the demonstration data. \n",
        "Alought its result below looks nice, but this is beacuse the model is trained on it and just remembered the right answers (enven including the mis-labeled ones)."
      ],
      "metadata": {
        "id": "R3uLbJ3I7ImW"
      }
    },
    {
      "cell_type": "code",
      "source": [
        "train2 = spacy.load('/content/drive/MyDrive/worddata_10 08 2022/model-best')"
      ],
      "metadata": {
        "id": "cUKV0Ya1A8yO"
      },
      "execution_count": 15,
      "outputs": []
    },
    {
      "cell_type": "code",
      "source": [
        "doc = train2(sample1)\n",
        "displacy.render(doc, style=\"ent\", jupyter=True)"
      ],
      "metadata": {
        "colab": {
          "base_uri": "https://localhost:8080/",
          "height": 647
        },
        "id": "j0GeU3lD73CW",
        "outputId": "a4ef729e-4fa0-4eb1-aa7e-e182f810d1d0"
      },
      "execution_count": 16,
      "outputs": [
        {
          "output_type": "display_data",
          "data": {
            "text/plain": [
              "<IPython.core.display.HTML object>"
            ],
            "text/html": [
              "<span class=\"tex2jax_ignore\"><div class=\"entities\" style=\"line-height: 2.5; direction: ltr\">West Virginia Senate skip navigation SENATE PRESIDENT SENATORS COMMITTEES DISTRICT MAPS VIDEO/AUDIO SENATE CLERK SENATE RULES HOUSE SPEAKER DELEGATES COMMITTEES DISTRICT MAPS VIDEO/AUDIO HOUSE CLERK HOUSE RULES JOINT INTERIM COMMITTEES ADMINISTRATION DIVISION JUDICIAL COMP. COMMISSION BUDGET DIVISION DIVISION OF REGULATORY AND FISCAL AFFAIRS \n",
              "<mark class=\"entity\" style=\"background: #ddd; padding: 0.45em 0.6em; margin: 0 0.25em; line-height: 1; border-radius: 0.35em;\">\n",
              "    CLAIMS COMMISSION CRIME\n",
              "    <span style=\"font-size: 0.8em; font-weight: bold; line-height: 1; border-radius: 0.35em; vertical-align: middle; margin-left: 0.5rem\">ADDRESS</span>\n",
              "</mark>\n",
              " VICTIMS LASD LEGISLATIVE SERVICES PERD POST AUDIT PUBLIC INFORMATION RULE-MAKING REVIEW SPECIAL INVESTIGATIONS JOINT RULES REDISTRICTING STAFF INFO BILL STATUS BILL STATUS BILL TRACKING STATE LAW WEST VIRGINIA CODE ACTS OF THE LEGISLATURE CODE OF 1931 WV CONSTITUTION US CONSTITUTION REPORTS AGENCY REPORTS AGENCY GRANT AWARDS PERFORMANCE EVALUATIONS POST AUDITS EDUCATIONAL CITIZEN’S GUIDE INTERNSHIP PROGRAM PAGE PROGRAM PUBLICATIONS PHOTO GALLERY CAPITOL HISTORY HOW A BILL BECOMES LAW CONTACT SENATE ROSTER HOUSE ROSTER PUBLIC INFO. WEBMASTER HELPFUL LINKS West Virginia State Senate House Roster | Senate Roster Find by Name Craig Blair Michael T. Azinger Stephen Baldwin Robert D. Beach Donna J. Boley Owens Brown Mike Caputo Charles H. Clements Hannah Geffert Amy N. Grady Bill Hamilton Glenn D. Jeffries Robert L. Karnes Richard D. Lindsay II Michael J. Maroney Patrick S. Martin Mark R. Maynard Eric Nelson Jr. Rupie Phillips Robert H. Plymale Rollan Roberts Michael J. Romano Patricia Puertas Rucker Randy E. Smith Ron D. Stollings David Stover Chandler Swope Dave Sypolt Tom Takubo Eric J. Tarr Charles S. Trump IV Ryan W. Weld Michael A. Woelfel Jack David Woodrum David Stover    (R - Wyoming, 09) CONTACT david.stover@wvsenate.gov Capitol Office: Room \n",
              "<mark class=\"entity\" style=\"background: #ddd; padding: 0.45em 0.6em; margin: 0 0.25em; line-height: 1; border-radius: 0.35em;\">\n",
              "    213W, Building 1\n",
              "    <span style=\"font-size: 0.8em; font-weight: bold; line-height: 1; border-radius: 0.35em; vertical-align: middle; margin-left: 0.5rem\">ADDRESS</span>\n",
              "</mark>\n",
              " \n",
              "<mark class=\"entity\" style=\"background: #ddd; padding: 0.45em 0.6em; margin: 0 0.25em; line-height: 1; border-radius: 0.35em;\">\n",
              "    State Capitol Complex\n",
              "    <span style=\"font-size: 0.8em; font-weight: bold; line-height: 1; border-radius: 0.35em; vertical-align: middle; margin-left: 0.5rem\">ADDRESS</span>\n",
              "</mark>\n",
              " Charleston, WV 25305 Capitol Phone: (304) 357-7807 District: P.O. Box 682 Mullens, WV 25882 Biography Circuit Clerk Born December 16, 1954, in Mullens, West Virginia Parents David J. Stover and P. Ruth (McGrady) Stover Children Dr. Justin N. Stover Education Mullens High School, 1973; Glenville State College, 1977 Legislative Service Elected to Senate 2020 Other Public Service Naturalist WV Park System Religion Baptist COMMITTEE ASSIGNMENTS VICE CHAIR: Interstate Cooperation VICE CHAIR: Natural Resources Economic Development Government Organization Health and Human Resources Judiciary INTERIM COMMITTEES: Children and Families Government Organization Health Interstate Cooperation Judiciary Parks, Recreation and Natural Resources Subcommittee Volunteer Fire Departments and Emergency Medical Services DISTRICT 09 District Counties: McDowell (part), Raleigh, Wyoming SPONSORED LEGISLATION, 2022 Senator Stover was the Lead Sponsor of 1 bills Bill Title Status Committee SB 191 Allowing poll workers to work full and half days Signed Bill Status | Bill Tracking | WV Code Entire | Session Calendar | District Maps | Senate Roster | House Roster | Releases | Blog | Links | Home This Web site is maintained by the West Virginia Legislature's Office of Reference &amp; Information. | Terms of Use | Web Administrator |    © 2022 West Virginia Legislature  **</div></span>"
            ]
          },
          "metadata": {}
        }
      ]
    },
    {
      "cell_type": "markdown",
      "source": [
        "Model 3"
      ],
      "metadata": {
        "id": "cXdAVqDr7-92"
      }
    },
    {
      "cell_type": "markdown",
      "source": [
        "The model 3 is trained on the cusutomized dataset with different attributes inserted but only address attributes tagged."
      ],
      "metadata": {
        "id": "hD2P3H7o8ENe"
      }
    },
    {
      "cell_type": "code",
      "source": [
        "train3 = spacy.load('/content/drive/MyDrive/workdata_10 09 2022/model1/model-best')"
      ],
      "metadata": {
        "id": "aL4svqgIBE-g"
      },
      "execution_count": 17,
      "outputs": []
    },
    {
      "cell_type": "code",
      "source": [
        "doc = train3(sample1)\n",
        "displacy.render(doc, style=\"ent\", jupyter=True)"
      ],
      "metadata": {
        "colab": {
          "base_uri": "https://localhost:8080/",
          "height": 717
        },
        "id": "HgBEB8VK8J-e",
        "outputId": "d9e371f4-f3c9-4486-b125-bf6b4c76334b"
      },
      "execution_count": 18,
      "outputs": [
        {
          "output_type": "display_data",
          "data": {
            "text/plain": [
              "<IPython.core.display.HTML object>"
            ],
            "text/html": [
              "<span class=\"tex2jax_ignore\"><div class=\"entities\" style=\"line-height: 2.5; direction: ltr\">West \n",
              "<mark class=\"entity\" style=\"background: #ddd; padding: 0.45em 0.6em; margin: 0 0.25em; line-height: 1; border-radius: 0.35em;\">\n",
              "    Virginia Senate skip navigation SENATE\n",
              "    <span style=\"font-size: 0.8em; font-weight: bold; line-height: 1; border-radius: 0.35em; vertical-align: middle; margin-left: 0.5rem\">ADDRESS</span>\n",
              "</mark>\n",
              " PRESIDENT SENATORS COMMITTEES DISTRICT MAPS VIDEO/AUDIO \n",
              "<mark class=\"entity\" style=\"background: #ddd; padding: 0.45em 0.6em; margin: 0 0.25em; line-height: 1; border-radius: 0.35em;\">\n",
              "    SENATE CLERK SENATE\n",
              "    <span style=\"font-size: 0.8em; font-weight: bold; line-height: 1; border-radius: 0.35em; vertical-align: middle; margin-left: 0.5rem\">ADDRESS</span>\n",
              "</mark>\n",
              " RULES HOUSE SPEAKER \n",
              "<mark class=\"entity\" style=\"background: #ddd; padding: 0.45em 0.6em; margin: 0 0.25em; line-height: 1; border-radius: 0.35em;\">\n",
              "    DELEGATES COMMITTEES DISTRICT\n",
              "    <span style=\"font-size: 0.8em; font-weight: bold; line-height: 1; border-radius: 0.35em; vertical-align: middle; margin-left: 0.5rem\">ADDRESS</span>\n",
              "</mark>\n",
              " MAPS VIDEO/AUDIO HOUSE CLERK HOUSE RULES JOINT INTERIM COMMITTEES ADMINISTRATION DIVISION JUDICIAL COMP. COMMISSION BUDGET DIVISION DIVISION OF REGULATORY AND FISCAL AFFAIRS CLAIMS COMMISSION CRIME VICTIMS LASD LEGISLATIVE SERVICES PERD POST AUDIT PUBLIC INFORMATION RULE-MAKING REVIEW SPECIAL INVESTIGATIONS JOINT RULES REDISTRICTING STAFF INFO BILL STATUS BILL STATUS BILL TRACKING STATE LAW WEST VIRGINIA CODE ACTS OF THE LEGISLATURE CODE OF \n",
              "<mark class=\"entity\" style=\"background: #ddd; padding: 0.45em 0.6em; margin: 0 0.25em; line-height: 1; border-radius: 0.35em;\">\n",
              "    1931 WV\n",
              "    <span style=\"font-size: 0.8em; font-weight: bold; line-height: 1; border-radius: 0.35em; vertical-align: middle; margin-left: 0.5rem\">ADDRESS</span>\n",
              "</mark>\n",
              " CONSTITUTION US CONSTITUTION REPORTS AGENCY REPORTS AGENCY GRANT AWARDS PERFORMANCE EVALUATIONS POST AUDITS EDUCATIONAL CITIZEN’S GUIDE INTERNSHIP PROGRAM PAGE PROGRAM PUBLICATIONS PHOTO GALLERY CAPITOL HISTORY HOW A BILL BECOMES LAW CONTACT SENATE ROSTER HOUSE ROSTER PUBLIC INFO. WEBMASTER HELPFUL LINKS West \n",
              "<mark class=\"entity\" style=\"background: #ddd; padding: 0.45em 0.6em; margin: 0 0.25em; line-height: 1; border-radius: 0.35em;\">\n",
              "    Virginia State Senate\n",
              "    <span style=\"font-size: 0.8em; font-weight: bold; line-height: 1; border-radius: 0.35em; vertical-align: middle; margin-left: 0.5rem\">ADDRESS</span>\n",
              "</mark>\n",
              " House \n",
              "<mark class=\"entity\" style=\"background: #ddd; padding: 0.45em 0.6em; margin: 0 0.25em; line-height: 1; border-radius: 0.35em;\">\n",
              "    Roster | Senate\n",
              "    <span style=\"font-size: 0.8em; font-weight: bold; line-height: 1; border-radius: 0.35em; vertical-align: middle; margin-left: 0.5rem\">ADDRESS</span>\n",
              "</mark>\n",
              " Roster Find by Name Craig Blair Michael T. Azinger Stephen Baldwin Robert D. Beach Donna J. Boley Owens Brown Mike Caputo \n",
              "<mark class=\"entity\" style=\"background: #ddd; padding: 0.45em 0.6em; margin: 0 0.25em; line-height: 1; border-radius: 0.35em;\">\n",
              "    Charles H.\n",
              "    <span style=\"font-size: 0.8em; font-weight: bold; line-height: 1; border-radius: 0.35em; vertical-align: middle; margin-left: 0.5rem\">ADDRESS</span>\n",
              "</mark>\n",
              " Clements Hannah Geffert Amy N. Grady Bill Hamilton Glenn D. Jeffries Robert L. Karnes Richard D. Lindsay II Michael J. Maroney Patrick S. Martin Mark R. Maynard Eric Nelson Jr. Rupie Phillips Robert H. Plymale Rollan Roberts Michael J. Romano Patricia Puertas Rucker Randy E. Smith Ron D. Stollings David Stover Chandler Swope Dave Sypolt Tom Takubo Eric J. Tarr Charles \n",
              "<mark class=\"entity\" style=\"background: #ddd; padding: 0.45em 0.6em; margin: 0 0.25em; line-height: 1; border-radius: 0.35em;\">\n",
              "    S. Trump IV\n",
              "    <span style=\"font-size: 0.8em; font-weight: bold; line-height: 1; border-radius: 0.35em; vertical-align: middle; margin-left: 0.5rem\">ADDRESS</span>\n",
              "</mark>\n",
              " Ryan W. Weld Michael A. Woelfel Jack David Woodrum David Stover    (R - Wyoming, 09) CONTACT david.stover@wvsenate.gov \n",
              "<mark class=\"entity\" style=\"background: #ddd; padding: 0.45em 0.6em; margin: 0 0.25em; line-height: 1; border-radius: 0.35em;\">\n",
              "    Capitol Office: Room 213W, Building\n",
              "    <span style=\"font-size: 0.8em; font-weight: bold; line-height: 1; border-radius: 0.35em; vertical-align: middle; margin-left: 0.5rem\">ADDRESS</span>\n",
              "</mark>\n",
              " \n",
              "<mark class=\"entity\" style=\"background: #ddd; padding: 0.45em 0.6em; margin: 0 0.25em; line-height: 1; border-radius: 0.35em;\">\n",
              "    1 State Capitol Complex\n",
              "    <span style=\"font-size: 0.8em; font-weight: bold; line-height: 1; border-radius: 0.35em; vertical-align: middle; margin-left: 0.5rem\">ADDRESS</span>\n",
              "</mark>\n",
              " Charleston, WV \n",
              "<mark class=\"entity\" style=\"background: #ddd; padding: 0.45em 0.6em; margin: 0 0.25em; line-height: 1; border-radius: 0.35em;\">\n",
              "    25305 Capitol\n",
              "    <span style=\"font-size: 0.8em; font-weight: bold; line-height: 1; border-radius: 0.35em; vertical-align: middle; margin-left: 0.5rem\">ADDRESS</span>\n",
              "</mark>\n",
              " Phone: (304) 357-7807 District: \n",
              "<mark class=\"entity\" style=\"background: #ddd; padding: 0.45em 0.6em; margin: 0 0.25em; line-height: 1; border-radius: 0.35em;\">\n",
              "    P.O. Box 682\n",
              "    <span style=\"font-size: 0.8em; font-weight: bold; line-height: 1; border-radius: 0.35em; vertical-align: middle; margin-left: 0.5rem\">ADDRESS</span>\n",
              "</mark>\n",
              " Mullens, WV 25882 Biography \n",
              "<mark class=\"entity\" style=\"background: #ddd; padding: 0.45em 0.6em; margin: 0 0.25em; line-height: 1; border-radius: 0.35em;\">\n",
              "    Circuit Clerk\n",
              "    <span style=\"font-size: 0.8em; font-weight: bold; line-height: 1; border-radius: 0.35em; vertical-align: middle; margin-left: 0.5rem\">ADDRESS</span>\n",
              "</mark>\n",
              " Born December 16, 1954, in Mullens, West Virginia Parents \n",
              "<mark class=\"entity\" style=\"background: #ddd; padding: 0.45em 0.6em; margin: 0 0.25em; line-height: 1; border-radius: 0.35em;\">\n",
              "    David J.\n",
              "    <span style=\"font-size: 0.8em; font-weight: bold; line-height: 1; border-radius: 0.35em; vertical-align: middle; margin-left: 0.5rem\">ADDRESS</span>\n",
              "</mark>\n",
              " Stover and P. Ruth (McGrady) Stover Children Dr. Justin N. Stover Education \n",
              "<mark class=\"entity\" style=\"background: #ddd; padding: 0.45em 0.6em; margin: 0 0.25em; line-height: 1; border-radius: 0.35em;\">\n",
              "    Mullens High School, 1973; Glenville\n",
              "    <span style=\"font-size: 0.8em; font-weight: bold; line-height: 1; border-radius: 0.35em; vertical-align: middle; margin-left: 0.5rem\">ADDRESS</span>\n",
              "</mark>\n",
              " \n",
              "<mark class=\"entity\" style=\"background: #ddd; padding: 0.45em 0.6em; margin: 0 0.25em; line-height: 1; border-radius: 0.35em;\">\n",
              "    State College, 1977\n",
              "    <span style=\"font-size: 0.8em; font-weight: bold; line-height: 1; border-radius: 0.35em; vertical-align: middle; margin-left: 0.5rem\">ADDRESS</span>\n",
              "</mark>\n",
              " \n",
              "<mark class=\"entity\" style=\"background: #ddd; padding: 0.45em 0.6em; margin: 0 0.25em; line-height: 1; border-radius: 0.35em;\">\n",
              "    Legislative Service Elected to Senate\n",
              "    <span style=\"font-size: 0.8em; font-weight: bold; line-height: 1; border-radius: 0.35em; vertical-align: middle; margin-left: 0.5rem\">ADDRESS</span>\n",
              "</mark>\n",
              " 2020 \n",
              "<mark class=\"entity\" style=\"background: #ddd; padding: 0.45em 0.6em; margin: 0 0.25em; line-height: 1; border-radius: 0.35em;\">\n",
              "    Other Public Service Naturalist WV Park System\n",
              "    <span style=\"font-size: 0.8em; font-weight: bold; line-height: 1; border-radius: 0.35em; vertical-align: middle; margin-left: 0.5rem\">ADDRESS</span>\n",
              "</mark>\n",
              " Religion Baptist COMMITTEE ASSIGNMENTS VICE CHAIR: Interstate Cooperation VICE CHAIR: Natural Resources Economic Development Government Organization Health and Human \n",
              "<mark class=\"entity\" style=\"background: #ddd; padding: 0.45em 0.6em; margin: 0 0.25em; line-height: 1; border-radius: 0.35em;\">\n",
              "    Resources Judiciary\n",
              "    <span style=\"font-size: 0.8em; font-weight: bold; line-height: 1; border-radius: 0.35em; vertical-align: middle; margin-left: 0.5rem\">ADDRESS</span>\n",
              "</mark>\n",
              " INTERIM COMMITTEES: Children and Families \n",
              "<mark class=\"entity\" style=\"background: #ddd; padding: 0.45em 0.6em; margin: 0 0.25em; line-height: 1; border-radius: 0.35em;\">\n",
              "    Government Organization Health Interstate\n",
              "    <span style=\"font-size: 0.8em; font-weight: bold; line-height: 1; border-radius: 0.35em; vertical-align: middle; margin-left: 0.5rem\">ADDRESS</span>\n",
              "</mark>\n",
              " \n",
              "<mark class=\"entity\" style=\"background: #ddd; padding: 0.45em 0.6em; margin: 0 0.25em; line-height: 1; border-radius: 0.35em;\">\n",
              "    Cooperation Judiciary Parks, Recreation and Natural Resources Subcommittee\n",
              "    <span style=\"font-size: 0.8em; font-weight: bold; line-height: 1; border-radius: 0.35em; vertical-align: middle; margin-left: 0.5rem\">ADDRESS</span>\n",
              "</mark>\n",
              " \n",
              "<mark class=\"entity\" style=\"background: #ddd; padding: 0.45em 0.6em; margin: 0 0.25em; line-height: 1; border-radius: 0.35em;\">\n",
              "    Volunteer Fire Departments and Emergency Medical Services DISTRICT\n",
              "    <span style=\"font-size: 0.8em; font-weight: bold; line-height: 1; border-radius: 0.35em; vertical-align: middle; margin-left: 0.5rem\">ADDRESS</span>\n",
              "</mark>\n",
              " 09 \n",
              "<mark class=\"entity\" style=\"background: #ddd; padding: 0.45em 0.6em; margin: 0 0.25em; line-height: 1; border-radius: 0.35em;\">\n",
              "    District Counties\n",
              "    <span style=\"font-size: 0.8em; font-weight: bold; line-height: 1; border-radius: 0.35em; vertical-align: middle; margin-left: 0.5rem\">ADDRESS</span>\n",
              "</mark>\n",
              ": McDowell (part), Raleigh, Wyoming SPONSORED LEGISLATION, 2022 Senator Stover was the Lead Sponsor of 1 bills Bill \n",
              "<mark class=\"entity\" style=\"background: #ddd; padding: 0.45em 0.6em; margin: 0 0.25em; line-height: 1; border-radius: 0.35em;\">\n",
              "    Title Status Committee\n",
              "    <span style=\"font-size: 0.8em; font-weight: bold; line-height: 1; border-radius: 0.35em; vertical-align: middle; margin-left: 0.5rem\">ADDRESS</span>\n",
              "</mark>\n",
              " \n",
              "<mark class=\"entity\" style=\"background: #ddd; padding: 0.45em 0.6em; margin: 0 0.25em; line-height: 1; border-radius: 0.35em;\">\n",
              "    SB 191\n",
              "    <span style=\"font-size: 0.8em; font-weight: bold; line-height: 1; border-radius: 0.35em; vertical-align: middle; margin-left: 0.5rem\">ADDRESS</span>\n",
              "</mark>\n",
              " Allowing poll workers to work full and half days Signed Bill Status | Bill Tracking | WV Code Entire | Session Calendar | District Maps | Senate \n",
              "<mark class=\"entity\" style=\"background: #ddd; padding: 0.45em 0.6em; margin: 0 0.25em; line-height: 1; border-radius: 0.35em;\">\n",
              "    Roster | House\n",
              "    <span style=\"font-size: 0.8em; font-weight: bold; line-height: 1; border-radius: 0.35em; vertical-align: middle; margin-left: 0.5rem\">ADDRESS</span>\n",
              "</mark>\n",
              " Roster | Releases | Blog | Links | Home This Web site is maintained by the West Virginia Legislature's \n",
              "<mark class=\"entity\" style=\"background: #ddd; padding: 0.45em 0.6em; margin: 0 0.25em; line-height: 1; border-radius: 0.35em;\">\n",
              "    Office of Reference &amp;\n",
              "    <span style=\"font-size: 0.8em; font-weight: bold; line-height: 1; border-radius: 0.35em; vertical-align: middle; margin-left: 0.5rem\">ADDRESS</span>\n",
              "</mark>\n",
              " Information. | Terms of Use | Web Administrator |    © 2022 West \n",
              "<mark class=\"entity\" style=\"background: #ddd; padding: 0.45em 0.6em; margin: 0 0.25em; line-height: 1; border-radius: 0.35em;\">\n",
              "    Virginia Legislature  **\n",
              "    <span style=\"font-size: 0.8em; font-weight: bold; line-height: 1; border-radius: 0.35em; vertical-align: middle; margin-left: 0.5rem\">ADDRESS</span>\n",
              "</mark>\n",
              "</div></span>"
            ]
          },
          "metadata": {}
        }
      ]
    },
    {
      "cell_type": "markdown",
      "source": [
        "Model 4"
      ],
      "metadata": {
        "id": "1ktXlxrh8y5Q"
      }
    },
    {
      "cell_type": "markdown",
      "source": [
        "The model 4 is trained on the cusutomized dataset with different attributes inserted but only address attributes tagged. To improve model'ability of differentiating address information from other entities, the name entities extracted from [CoNLL-2003](https://paperswithcode.com/dataset/conll-2003) are also inserted into the dataset"
      ],
      "metadata": {
        "id": "FVPvsFIa9H0J"
      }
    },
    {
      "cell_type": "code",
      "source": [
        "train4 = spacy.load('/content/drive/MyDrive/workdata_10 09 2022/model2/model-best')"
      ],
      "metadata": {
        "id": "fpKqweTfBPFA"
      },
      "execution_count": 22,
      "outputs": []
    },
    {
      "cell_type": "code",
      "source": [
        "doc = train4(sample1)\n",
        "displacy.render(doc, style=\"ent\", jupyter=True)"
      ],
      "metadata": {
        "colab": {
          "base_uri": "https://localhost:8080/",
          "height": 737
        },
        "id": "pEIRUnKQ83qh",
        "outputId": "a4ebb9a1-6d28-4922-9f8d-5b2265ebeaf9"
      },
      "execution_count": 23,
      "outputs": [
        {
          "output_type": "display_data",
          "data": {
            "text/plain": [
              "<IPython.core.display.HTML object>"
            ],
            "text/html": [
              "<span class=\"tex2jax_ignore\"><div class=\"entities\" style=\"line-height: 2.5; direction: ltr\">West \n",
              "<mark class=\"entity\" style=\"background: #ddd; padding: 0.45em 0.6em; margin: 0 0.25em; line-height: 1; border-radius: 0.35em;\">\n",
              "    Virginia Senate\n",
              "    <span style=\"font-size: 0.8em; font-weight: bold; line-height: 1; border-radius: 0.35em; vertical-align: middle; margin-left: 0.5rem\">ADDRESS</span>\n",
              "</mark>\n",
              " skip navigation SENATE PRESIDENT SENATORS COMMITTEES DISTRICT MAPS VIDEO/AUDIO SENATE CLERK SENATE RULES HOUSE SPEAKER DELEGATES COMMITTEES DISTRICT MAPS VIDEO/AUDIO HOUSE CLERK HOUSE RULES JOINT INTERIM COMMITTEES ADMINISTRATION DIVISION JUDICIAL COMP. COMMISSION BUDGET DIVISION DIVISION OF REGULATORY AND FISCAL AFFAIRS CLAIMS COMMISSION CRIME VICTIMS LASD LEGISLATIVE SERVICES PERD POST AUDIT PUBLIC INFORMATION RULE-MAKING REVIEW SPECIAL INVESTIGATIONS JOINT RULES REDISTRICTING STAFF INFO BILL STATUS BILL STATUS BILL TRACKING STATE LAW WEST VIRGINIA CODE ACTS OF THE LEGISLATURE CODE OF 1931 WV CONSTITUTION US CONSTITUTION REPORTS AGENCY REPORTS AGENCY GRANT AWARDS PERFORMANCE EVALUATIONS POST AUDITS EDUCATIONAL CITIZEN’S GUIDE INTERNSHIP PROGRAM PAGE PROGRAM PUBLICATIONS PHOTO GALLERY CAPITOL HISTORY HOW A BILL BECOMES LAW CONTACT SENATE ROSTER HOUSE ROSTER PUBLIC INFO. WEBMASTER HELPFUL LINKS West Virginia \n",
              "<mark class=\"entity\" style=\"background: #ddd; padding: 0.45em 0.6em; margin: 0 0.25em; line-height: 1; border-radius: 0.35em;\">\n",
              "    State Senate House\n",
              "    <span style=\"font-size: 0.8em; font-weight: bold; line-height: 1; border-radius: 0.35em; vertical-align: middle; margin-left: 0.5rem\">ADDRESS</span>\n",
              "</mark>\n",
              " Roster \n",
              "<mark class=\"entity\" style=\"background: #ddd; padding: 0.45em 0.6em; margin: 0 0.25em; line-height: 1; border-radius: 0.35em;\">\n",
              "    | Senate\n",
              "    <span style=\"font-size: 0.8em; font-weight: bold; line-height: 1; border-radius: 0.35em; vertical-align: middle; margin-left: 0.5rem\">ADDRESS</span>\n",
              "</mark>\n",
              " Roster Find by Name Craig Blair Michael T. Azinger Stephen Baldwin Robert D. Beach Donna J. Boley Owens Brown Mike Caputo \n",
              "<mark class=\"entity\" style=\"background: #ddd; padding: 0.45em 0.6em; margin: 0 0.25em; line-height: 1; border-radius: 0.35em;\">\n",
              "    Charles H. Clements\n",
              "    <span style=\"font-size: 0.8em; font-weight: bold; line-height: 1; border-radius: 0.35em; vertical-align: middle; margin-left: 0.5rem\">ADDRESS</span>\n",
              "</mark>\n",
              " Hannah Geffert Amy N. Grady Bill Hamilton Glenn D. Jeffries Robert L. Karnes \n",
              "<mark class=\"entity\" style=\"background: #ddd; padding: 0.45em 0.6em; margin: 0 0.25em; line-height: 1; border-radius: 0.35em;\">\n",
              "    Richard D. Lindsay II\n",
              "    <span style=\"font-size: 0.8em; font-weight: bold; line-height: 1; border-radius: 0.35em; vertical-align: middle; margin-left: 0.5rem\">ADDRESS</span>\n",
              "</mark>\n",
              " Michael J. Maroney \n",
              "<mark class=\"entity\" style=\"background: #ddd; padding: 0.45em 0.6em; margin: 0 0.25em; line-height: 1; border-radius: 0.35em;\">\n",
              "    Patrick S. Martin Mark R. Maynard Eric Nelson Jr. Rupie\n",
              "    <span style=\"font-size: 0.8em; font-weight: bold; line-height: 1; border-radius: 0.35em; vertical-align: middle; margin-left: 0.5rem\">ADDRESS</span>\n",
              "</mark>\n",
              " Phillips Robert H. Plymale Rollan Roberts Michael J. Romano Patricia Puertas Rucker Randy E. Smith Ron D. Stollings David Stover Chandler Swope Dave Sypolt Tom Takubo Eric J. Tarr \n",
              "<mark class=\"entity\" style=\"background: #ddd; padding: 0.45em 0.6em; margin: 0 0.25em; line-height: 1; border-radius: 0.35em;\">\n",
              "    Charles S. Trump IV\n",
              "    <span style=\"font-size: 0.8em; font-weight: bold; line-height: 1; border-radius: 0.35em; vertical-align: middle; margin-left: 0.5rem\">ADDRESS</span>\n",
              "</mark>\n",
              " Ryan W. Weld Michael A. Woelfel Jack David Woodrum David Stover    (R - Wyoming, 09) CONTACT david.stover@wvsenate.gov \n",
              "<mark class=\"entity\" style=\"background: #ddd; padding: 0.45em 0.6em; margin: 0 0.25em; line-height: 1; border-radius: 0.35em;\">\n",
              "    Capitol Office\n",
              "    <span style=\"font-size: 0.8em; font-weight: bold; line-height: 1; border-radius: 0.35em; vertical-align: middle; margin-left: 0.5rem\">ADDRESS</span>\n",
              "</mark>\n",
              ": \n",
              "<mark class=\"entity\" style=\"background: #ddd; padding: 0.45em 0.6em; margin: 0 0.25em; line-height: 1; border-radius: 0.35em;\">\n",
              "    Room 213W, Building\n",
              "    <span style=\"font-size: 0.8em; font-weight: bold; line-height: 1; border-radius: 0.35em; vertical-align: middle; margin-left: 0.5rem\">ADDRESS</span>\n",
              "</mark>\n",
              " \n",
              "<mark class=\"entity\" style=\"background: #ddd; padding: 0.45em 0.6em; margin: 0 0.25em; line-height: 1; border-radius: 0.35em;\">\n",
              "    1 State Capitol Complex\n",
              "    <span style=\"font-size: 0.8em; font-weight: bold; line-height: 1; border-radius: 0.35em; vertical-align: middle; margin-left: 0.5rem\">ADDRESS</span>\n",
              "</mark>\n",
              " Charleston, WV 25305 \n",
              "<mark class=\"entity\" style=\"background: #ddd; padding: 0.45em 0.6em; margin: 0 0.25em; line-height: 1; border-radius: 0.35em;\">\n",
              "    Capitol\n",
              "    <span style=\"font-size: 0.8em; font-weight: bold; line-height: 1; border-radius: 0.35em; vertical-align: middle; margin-left: 0.5rem\">ADDRESS</span>\n",
              "</mark>\n",
              " Phone: (304) 357-7807 \n",
              "<mark class=\"entity\" style=\"background: #ddd; padding: 0.45em 0.6em; margin: 0 0.25em; line-height: 1; border-radius: 0.35em;\">\n",
              "    District:\n",
              "    <span style=\"font-size: 0.8em; font-weight: bold; line-height: 1; border-radius: 0.35em; vertical-align: middle; margin-left: 0.5rem\">ADDRESS</span>\n",
              "</mark>\n",
              " \n",
              "<mark class=\"entity\" style=\"background: #ddd; padding: 0.45em 0.6em; margin: 0 0.25em; line-height: 1; border-radius: 0.35em;\">\n",
              "    P.O. Box 682\n",
              "    <span style=\"font-size: 0.8em; font-weight: bold; line-height: 1; border-radius: 0.35em; vertical-align: middle; margin-left: 0.5rem\">ADDRESS</span>\n",
              "</mark>\n",
              " Mullens, WV 25882 Biography Circuit Clerk Born December \n",
              "<mark class=\"entity\" style=\"background: #ddd; padding: 0.45em 0.6em; margin: 0 0.25em; line-height: 1; border-radius: 0.35em;\">\n",
              "    16, 1954, in Mullens, West\n",
              "    <span style=\"font-size: 0.8em; font-weight: bold; line-height: 1; border-radius: 0.35em; vertical-align: middle; margin-left: 0.5rem\">ADDRESS</span>\n",
              "</mark>\n",
              " Virginia Parents David J. Stover and P. Ruth (McGrady) Stover Children Dr. Justin N. Stover Education Mullens High School, 1973; Glenville State College, 1977 \n",
              "<mark class=\"entity\" style=\"background: #ddd; padding: 0.45em 0.6em; margin: 0 0.25em; line-height: 1; border-radius: 0.35em;\">\n",
              "    Legislative\n",
              "    <span style=\"font-size: 0.8em; font-weight: bold; line-height: 1; border-radius: 0.35em; vertical-align: middle; margin-left: 0.5rem\">ADDRESS</span>\n",
              "</mark>\n",
              " \n",
              "<mark class=\"entity\" style=\"background: #ddd; padding: 0.45em 0.6em; margin: 0 0.25em; line-height: 1; border-radius: 0.35em;\">\n",
              "    Service Elected\n",
              "    <span style=\"font-size: 0.8em; font-weight: bold; line-height: 1; border-radius: 0.35em; vertical-align: middle; margin-left: 0.5rem\">ADDRESS</span>\n",
              "</mark>\n",
              " to \n",
              "<mark class=\"entity\" style=\"background: #ddd; padding: 0.45em 0.6em; margin: 0 0.25em; line-height: 1; border-radius: 0.35em;\">\n",
              "    Senate\n",
              "    <span style=\"font-size: 0.8em; font-weight: bold; line-height: 1; border-radius: 0.35em; vertical-align: middle; margin-left: 0.5rem\">ADDRESS</span>\n",
              "</mark>\n",
              " 2020 Other Public Service Naturalist WV Park System Religion Baptist COMMITTEE ASSIGNMENTS VICE CHAIR: Interstate Cooperation VICE CHAIR\n",
              "<mark class=\"entity\" style=\"background: #ddd; padding: 0.45em 0.6em; margin: 0 0.25em; line-height: 1; border-radius: 0.35em;\">\n",
              "    : Natural Resources Economic Development Government Organization Health and Human Resources Judiciary\n",
              "    <span style=\"font-size: 0.8em; font-weight: bold; line-height: 1; border-radius: 0.35em; vertical-align: middle; margin-left: 0.5rem\">ADDRESS</span>\n",
              "</mark>\n",
              " INTERIM COMMITTEES: Children and Families Government Organization Health Interstate Cooperation \n",
              "<mark class=\"entity\" style=\"background: #ddd; padding: 0.45em 0.6em; margin: 0 0.25em; line-height: 1; border-radius: 0.35em;\">\n",
              "    Judiciary Parks, Recreation and Natural Resources Subcommittee Volunteer Fire Departments and Emergency Medical Services DISTRICT 09 District Counties: McDowell\n",
              "    <span style=\"font-size: 0.8em; font-weight: bold; line-height: 1; border-radius: 0.35em; vertical-align: middle; margin-left: 0.5rem\">ADDRESS</span>\n",
              "</mark>\n",
              " (part), Raleigh, Wyoming SPONSORED LEGISLATION, \n",
              "<mark class=\"entity\" style=\"background: #ddd; padding: 0.45em 0.6em; margin: 0 0.25em; line-height: 1; border-radius: 0.35em;\">\n",
              "    2022 Senator\n",
              "    <span style=\"font-size: 0.8em; font-weight: bold; line-height: 1; border-radius: 0.35em; vertical-align: middle; margin-left: 0.5rem\">ADDRESS</span>\n",
              "</mark>\n",
              " Stover was the Lead Sponsor of 1 bills Bill Title Status Committee \n",
              "<mark class=\"entity\" style=\"background: #ddd; padding: 0.45em 0.6em; margin: 0 0.25em; line-height: 1; border-radius: 0.35em;\">\n",
              "    SB 191\n",
              "    <span style=\"font-size: 0.8em; font-weight: bold; line-height: 1; border-radius: 0.35em; vertical-align: middle; margin-left: 0.5rem\">ADDRESS</span>\n",
              "</mark>\n",
              " Allowing poll workers to work full and half days Signed Bill Status | Bill Tracking | WV Code Entire | Session Calendar | District Maps | \n",
              "<mark class=\"entity\" style=\"background: #ddd; padding: 0.45em 0.6em; margin: 0 0.25em; line-height: 1; border-radius: 0.35em;\">\n",
              "    Senate\n",
              "    <span style=\"font-size: 0.8em; font-weight: bold; line-height: 1; border-radius: 0.35em; vertical-align: middle; margin-left: 0.5rem\">ADDRESS</span>\n",
              "</mark>\n",
              " Roster | \n",
              "<mark class=\"entity\" style=\"background: #ddd; padding: 0.45em 0.6em; margin: 0 0.25em; line-height: 1; border-radius: 0.35em;\">\n",
              "    House\n",
              "    <span style=\"font-size: 0.8em; font-weight: bold; line-height: 1; border-radius: 0.35em; vertical-align: middle; margin-left: 0.5rem\">ADDRESS</span>\n",
              "</mark>\n",
              " Roster | Releases | Blog | Links | Home This Web site is maintained by the West \n",
              "<mark class=\"entity\" style=\"background: #ddd; padding: 0.45em 0.6em; margin: 0 0.25em; line-height: 1; border-radius: 0.35em;\">\n",
              "    Virginia Legislature's Office of Reference\n",
              "    <span style=\"font-size: 0.8em; font-weight: bold; line-height: 1; border-radius: 0.35em; vertical-align: middle; margin-left: 0.5rem\">ADDRESS</span>\n",
              "</mark>\n",
              " &amp; Information. | Terms of Use | Web Administrator |    © \n",
              "<mark class=\"entity\" style=\"background: #ddd; padding: 0.45em 0.6em; margin: 0 0.25em; line-height: 1; border-radius: 0.35em;\">\n",
              "    2022 West\n",
              "    <span style=\"font-size: 0.8em; font-weight: bold; line-height: 1; border-radius: 0.35em; vertical-align: middle; margin-left: 0.5rem\">ADDRESS</span>\n",
              "</mark>\n",
              " \n",
              "<mark class=\"entity\" style=\"background: #ddd; padding: 0.45em 0.6em; margin: 0 0.25em; line-height: 1; border-radius: 0.35em;\">\n",
              "    Virginia Legislature  *\n",
              "    <span style=\"font-size: 0.8em; font-weight: bold; line-height: 1; border-radius: 0.35em; vertical-align: middle; margin-left: 0.5rem\">ADDRESS</span>\n",
              "</mark>\n",
              "*</div></span>"
            ]
          },
          "metadata": {}
        }
      ]
    }
  ]
}