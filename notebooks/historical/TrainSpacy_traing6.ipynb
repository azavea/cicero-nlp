{
  "nbformat": 4,
  "nbformat_minor": 0,
  "metadata": {
    "colab": {
      "provenance": []
    },
    "kernelspec": {
      "name": "python3",
      "display_name": "Python 3"
    },
    "language_info": {
      "name": "python"
    }
  },
  "cells": [
    {
      "cell_type": "markdown",
      "source": [
        "# Summary"
      ],
      "metadata": {
        "id": "kO1iuzPI-Fd0"
      }
    },
    {
      "cell_type": "markdown",
      "source": [
        "noteobook to train the model 4"
      ],
      "metadata": {
        "id": "v6ILkBqB-KI1"
      }
    },
    {
      "cell_type": "markdown",
      "source": [
        "## Extract name entites from CoNLL-2003"
      ],
      "metadata": {
        "id": "nwNsZYZM-Txc"
      }
    },
    {
      "cell_type": "code",
      "source": [
        "!git clone https://github.com/practical-nlp/practical-nlp-code"
      ],
      "metadata": {
        "colab": {
          "base_uri": "https://localhost:8080/"
        },
        "id": "ENnQ-bdtV-3C",
        "outputId": "e109407f-0f7d-4a37-9e39-88f6db1b0af2"
      },
      "execution_count": null,
      "outputs": [
        {
          "output_type": "stream",
          "name": "stdout",
          "text": [
            "Cloning into 'practical-nlp-code'...\n",
            "remote: Enumerating objects: 1635, done.\u001b[K\n",
            "remote: Counting objects: 100% (348/348), done.\u001b[K\n",
            "remote: Compressing objects: 100% (203/203), done.\u001b[K\n",
            "remote: Total 1635 (delta 199), reused 273 (delta 145), pack-reused 1287\u001b[K\n",
            "Receiving objects: 100% (1635/1635), 90.66 MiB | 19.35 MiB/s, done.\n",
            "Resolving deltas: 100% (919/919), done.\n",
            "Checking out files: 100% (159/159), done.\n"
          ]
        }
      ]
    },
    {
      "cell_type": "code",
      "source": [
        "!python -m spacy convert \"train.txt\" spacyNER_data -c ner\n",
        "!python -m spacy convert \"test.txt\" spacyNER_data -c ner\n",
        "!python -m spacy convert \"valid.txt\" spacyNER_data -c ner"
      ],
      "metadata": {
        "id": "_DYf69ayWfLQ"
      },
      "execution_count": null,
      "outputs": []
    },
    {
      "cell_type": "code",
      "source": [
        "import spacy\n",
        "from spacy.tokens import DocBin"
      ],
      "metadata": {
        "id": "GVagig_pZXuZ"
      },
      "execution_count": null,
      "outputs": []
    },
    {
      "cell_type": "code",
      "source": [
        "nlp = spacy.load('en_core_web_sm')"
      ],
      "metadata": {
        "id": "injBSnUoajFX"
      },
      "execution_count": null,
      "outputs": []
    },
    {
      "cell_type": "code",
      "source": [
        "doc_bin = DocBin().from_disk(\"/content/conll2003/train.spacy\")"
      ],
      "metadata": {
        "id": "sVG8n_wbaQ60"
      },
      "execution_count": null,
      "outputs": []
    },
    {
      "cell_type": "code",
      "source": [
        "docs = list(doc_bin.get_docs(nlp.vocab))"
      ],
      "metadata": {
        "id": "j9sgeAIuaW10"
      },
      "execution_count": null,
      "outputs": []
    },
    {
      "cell_type": "code",
      "source": [
        "ents = [n.ents for n in docs if len(n.ents)>0 ]"
      ],
      "metadata": {
        "id": "8R9tUM0UaodA"
      },
      "execution_count": null,
      "outputs": []
    },
    {
      "cell_type": "markdown",
      "source": [
        "## Load dataset and attributes from the sample Cicero dataset"
      ],
      "metadata": {
        "id": "IiASx_0C-csr"
      }
    },
    {
      "cell_type": "code",
      "source": [
        "import re\n",
        "import pandas as pd\n",
        "from random import randrange"
      ],
      "metadata": {
        "id": "a1pKwCEbayQp"
      },
      "execution_count": null,
      "outputs": []
    },
    {
      "cell_type": "code",
      "source": [
        "sample = pd.read_csv('/content/drive/MyDrive/Cicero/cicero_officials_sample_2022-09-08.csv', \\\n",
        "                       error_bad_lines=False)"
      ],
      "metadata": {
        "colab": {
          "base_uri": "https://localhost:8080/"
        },
        "id": "pQBuxf25cdkb",
        "outputId": "2b9e6a1d-5834-438e-db81-ae03101d5f82"
      },
      "execution_count": null,
      "outputs": [
        {
          "output_type": "stream",
          "name": "stderr",
          "text": [
            "/usr/local/lib/python3.7/dist-packages/IPython/core/interactiveshell.py:3326: FutureWarning: The error_bad_lines argument has been deprecated and will be removed in a future version.\n",
            "\n",
            "\n",
            "  exec(code_obj, self.user_global_ns, self.user_ns)\n",
            "b'Skipping line 13: expected 55 fields, saw 60\\nSkipping line 34: expected 55 fields, saw 59\\nSkipping line 110: expected 55 fields, saw 60\\nSkipping line 125: expected 55 fields, saw 60\\nSkipping line 127: expected 55 fields, saw 60\\nSkipping line 171: expected 55 fields, saw 60\\nSkipping line 175: expected 55 fields, saw 65\\nSkipping line 181: expected 55 fields, saw 60\\nSkipping line 196: expected 55 fields, saw 60\\nSkipping line 197: expected 55 fields, saw 58\\nSkipping line 206: expected 55 fields, saw 60\\nSkipping line 220: expected 55 fields, saw 60\\nSkipping line 261: expected 55 fields, saw 60\\nSkipping line 272: expected 55 fields, saw 63\\nSkipping line 279: expected 55 fields, saw 60\\nSkipping line 353: expected 55 fields, saw 58\\nSkipping line 356: expected 55 fields, saw 59\\nSkipping line 407: expected 55 fields, saw 57\\nSkipping line 429: expected 55 fields, saw 60\\nSkipping line 446: expected 55 fields, saw 69\\nSkipping line 507: expected 55 fields, saw 60\\nSkipping line 528: expected 55 fields, saw 60\\nSkipping line 529: expected 55 fields, saw 56\\nSkipping line 541: expected 55 fields, saw 60\\nSkipping line 556: expected 55 fields, saw 56\\nSkipping line 570: expected 55 fields, saw 75\\nSkipping line 572: expected 55 fields, saw 60\\nSkipping line 582: expected 55 fields, saw 60\\nSkipping line 583: expected 55 fields, saw 60\\nSkipping line 588: expected 55 fields, saw 78\\nSkipping line 666: expected 55 fields, saw 62\\nSkipping line 737: expected 55 fields, saw 60\\nSkipping line 763: expected 55 fields, saw 79\\nSkipping line 771: expected 55 fields, saw 60\\nSkipping line 785: expected 55 fields, saw 65\\nSkipping line 790: expected 55 fields, saw 63\\nSkipping line 841: expected 55 fields, saw 63\\nSkipping line 931: expected 55 fields, saw 60\\nSkipping line 978: expected 55 fields, saw 69\\nSkipping line 1024: expected 55 fields, saw 60\\nSkipping line 1025: expected 55 fields, saw 63\\nSkipping line 1038: expected 55 fields, saw 60\\nSkipping line 1094: expected 55 fields, saw 58\\nSkipping line 1122: expected 55 fields, saw 60\\nSkipping line 1130: expected 55 fields, saw 56\\nSkipping line 1171: expected 55 fields, saw 58\\nSkipping line 1172: expected 55 fields, saw 60\\nSkipping line 1177: expected 55 fields, saw 56\\nSkipping line 1197: expected 55 fields, saw 60\\nSkipping line 1233: expected 55 fields, saw 60\\nSkipping line 1252: expected 55 fields, saw 60\\nSkipping line 1273: expected 55 fields, saw 60\\nSkipping line 1283: expected 55 fields, saw 60\\nSkipping line 1284: expected 55 fields, saw 60\\nSkipping line 1426: expected 55 fields, saw 60\\nSkipping line 1455: expected 55 fields, saw 56\\nSkipping line 1477: expected 55 fields, saw 60\\nSkipping line 1482: expected 55 fields, saw 60\\nSkipping line 1484: expected 55 fields, saw 61\\nSkipping line 1487: expected 55 fields, saw 60\\nSkipping line 1493: expected 55 fields, saw 57\\nSkipping line 1548: expected 55 fields, saw 58\\nSkipping line 1559: expected 55 fields, saw 60\\nSkipping line 1591: expected 55 fields, saw 60\\nSkipping line 1599: expected 55 fields, saw 91\\nSkipping line 1627: expected 55 fields, saw 60\\nSkipping line 1646: expected 55 fields, saw 60\\nSkipping line 1647: expected 55 fields, saw 60\\nSkipping line 1672: expected 55 fields, saw 60\\nSkipping line 1717: expected 55 fields, saw 69\\nSkipping line 1737: expected 55 fields, saw 78\\nSkipping line 1751: expected 55 fields, saw 60\\nSkipping line 1756: expected 55 fields, saw 60\\nSkipping line 1782: expected 55 fields, saw 60\\nSkipping line 1797: expected 55 fields, saw 60\\nSkipping line 1851: expected 55 fields, saw 60\\nSkipping line 1862: expected 55 fields, saw 60\\nSkipping line 1929: expected 55 fields, saw 60\\nSkipping line 1963: expected 55 fields, saw 60\\n'\n"
          ]
        }
      ]
    },
    {
      "cell_type": "code",
      "source": [
        "sample.columns"
      ],
      "metadata": {
        "colab": {
          "base_uri": "https://localhost:8080/"
        },
        "id": "bW9giw3Ecfah",
        "outputId": "86a2fcc2-61f4-4dfb-f95d-f81246ae6287"
      },
      "execution_count": null,
      "outputs": [
        {
          "output_type": "execute_result",
          "data": {
            "text/plain": [
              "Index(['id', 'party', 'initial_term_start_date',\n",
              "       'initial_term_start_date_precision', 'valid_from',\n",
              "       'valid_from_precision', 'valid_to', 'valid_to_precision', 'first_name',\n",
              "       'middle_initial', 'last_name', 'name_suffix', 'primary_address_1',\n",
              "       'primary_address_2', 'primary_address_3', 'primary_city',\n",
              "       'primary_county', 'primary_state', 'primary_postal_code',\n",
              "       'primary_phone_1', 'primary_phone_2', 'primary_fax_1', 'primary_fax_2',\n",
              "       'secondary_address_1', 'secondary_address_2', 'secondary_address_3',\n",
              "       'secondary_city', 'secondary_county', 'secondary_state',\n",
              "       'secondary_postal_code', 'secondary_phone_1', 'secondary_phone_2',\n",
              "       'secondary_fax_1', 'secondary_fax_2', 'email_1', 'email_2',\n",
              "       'photo_origin_url', 'description_1', 'description_2', 'notes', 'url_1',\n",
              "       'url_2', 'salutation', 'web_form_url', 'role', 'trans_from',\n",
              "       'last_update_user', 'trans_to', 'is_staging', 'sk', 'chamber_id',\n",
              "       'district_id', 'version', 'preferred_name', 'photo_cropping'],\n",
              "      dtype='object')"
            ]
          },
          "metadata": {},
          "execution_count": 54
        }
      ]
    },
    {
      "cell_type": "code",
      "source": [
        "address2 = pd.read_csv('/content/drive/MyDrive/Cicero/cicero_officials_sample_2022-09-08.csv', \\\n",
        "                       error_bad_lines=False)[['last_name', 'first_name', 'primary_phone_1',\\\n",
        "                                               'email_1',\\\n",
        "                                               'primary_address_1', 'primary_address_2', 'primary_address_3',\\\n",
        "                                               'primary_city','primary_state', 'primary_postal_code']]"
      ],
      "metadata": {
        "colab": {
          "base_uri": "https://localhost:8080/"
        },
        "id": "RTNQyFpgcglH",
        "outputId": "c022dae2-177f-42c6-de6a-14552500ebec"
      },
      "execution_count": null,
      "outputs": [
        {
          "output_type": "stream",
          "name": "stderr",
          "text": [
            "b'Skipping line 13: expected 55 fields, saw 60\\nSkipping line 34: expected 55 fields, saw 59\\nSkipping line 110: expected 55 fields, saw 60\\nSkipping line 125: expected 55 fields, saw 60\\nSkipping line 127: expected 55 fields, saw 60\\nSkipping line 171: expected 55 fields, saw 60\\nSkipping line 175: expected 55 fields, saw 65\\nSkipping line 181: expected 55 fields, saw 60\\nSkipping line 196: expected 55 fields, saw 60\\nSkipping line 197: expected 55 fields, saw 58\\nSkipping line 206: expected 55 fields, saw 60\\nSkipping line 220: expected 55 fields, saw 60\\nSkipping line 261: expected 55 fields, saw 60\\nSkipping line 272: expected 55 fields, saw 63\\nSkipping line 279: expected 55 fields, saw 60\\nSkipping line 353: expected 55 fields, saw 58\\nSkipping line 356: expected 55 fields, saw 59\\nSkipping line 407: expected 55 fields, saw 57\\nSkipping line 429: expected 55 fields, saw 60\\nSkipping line 446: expected 55 fields, saw 69\\nSkipping line 507: expected 55 fields, saw 60\\nSkipping line 528: expected 55 fields, saw 60\\nSkipping line 529: expected 55 fields, saw 56\\nSkipping line 541: expected 55 fields, saw 60\\nSkipping line 556: expected 55 fields, saw 56\\nSkipping line 570: expected 55 fields, saw 75\\nSkipping line 572: expected 55 fields, saw 60\\nSkipping line 582: expected 55 fields, saw 60\\nSkipping line 583: expected 55 fields, saw 60\\nSkipping line 588: expected 55 fields, saw 78\\nSkipping line 666: expected 55 fields, saw 62\\nSkipping line 737: expected 55 fields, saw 60\\nSkipping line 763: expected 55 fields, saw 79\\nSkipping line 771: expected 55 fields, saw 60\\nSkipping line 785: expected 55 fields, saw 65\\nSkipping line 790: expected 55 fields, saw 63\\nSkipping line 841: expected 55 fields, saw 63\\nSkipping line 931: expected 55 fields, saw 60\\nSkipping line 978: expected 55 fields, saw 69\\nSkipping line 1024: expected 55 fields, saw 60\\nSkipping line 1025: expected 55 fields, saw 63\\nSkipping line 1038: expected 55 fields, saw 60\\nSkipping line 1094: expected 55 fields, saw 58\\nSkipping line 1122: expected 55 fields, saw 60\\nSkipping line 1130: expected 55 fields, saw 56\\nSkipping line 1171: expected 55 fields, saw 58\\nSkipping line 1172: expected 55 fields, saw 60\\nSkipping line 1177: expected 55 fields, saw 56\\nSkipping line 1197: expected 55 fields, saw 60\\nSkipping line 1233: expected 55 fields, saw 60\\nSkipping line 1252: expected 55 fields, saw 60\\nSkipping line 1273: expected 55 fields, saw 60\\nSkipping line 1283: expected 55 fields, saw 60\\nSkipping line 1284: expected 55 fields, saw 60\\nSkipping line 1426: expected 55 fields, saw 60\\nSkipping line 1455: expected 55 fields, saw 56\\nSkipping line 1477: expected 55 fields, saw 60\\nSkipping line 1482: expected 55 fields, saw 60\\nSkipping line 1484: expected 55 fields, saw 61\\nSkipping line 1487: expected 55 fields, saw 60\\nSkipping line 1493: expected 55 fields, saw 57\\nSkipping line 1548: expected 55 fields, saw 58\\nSkipping line 1559: expected 55 fields, saw 60\\nSkipping line 1591: expected 55 fields, saw 60\\nSkipping line 1599: expected 55 fields, saw 91\\nSkipping line 1627: expected 55 fields, saw 60\\nSkipping line 1646: expected 55 fields, saw 60\\nSkipping line 1647: expected 55 fields, saw 60\\nSkipping line 1672: expected 55 fields, saw 60\\nSkipping line 1717: expected 55 fields, saw 69\\nSkipping line 1737: expected 55 fields, saw 78\\nSkipping line 1751: expected 55 fields, saw 60\\nSkipping line 1756: expected 55 fields, saw 60\\nSkipping line 1782: expected 55 fields, saw 60\\nSkipping line 1797: expected 55 fields, saw 60\\nSkipping line 1851: expected 55 fields, saw 60\\nSkipping line 1862: expected 55 fields, saw 60\\nSkipping line 1929: expected 55 fields, saw 60\\nSkipping line 1963: expected 55 fields, saw 60\\n'\n"
          ]
        }
      ]
    },
    {
      "cell_type": "markdown",
      "source": [
        "## Load the essay dataset that is used as the body content to be inserted"
      ],
      "metadata": {
        "id": "XvJKazDv-p0K"
      }
    },
    {
      "cell_type": "code",
      "source": [
        "essay = pd.read_table('/content/drive/MyDrive/spaCy Address Model/test_set.tsv', encoding='mac_roman')"
      ],
      "metadata": {
        "id": "NeAcsbTqciuQ"
      },
      "execution_count": null,
      "outputs": []
    },
    {
      "cell_type": "markdown",
      "source": [
        "## Insert"
      ],
      "metadata": {
        "id": "r4UKljM1-yKG"
      }
    },
    {
      "cell_type": "markdown",
      "source": [
        "Attributes including names, phone numbers, emails, cities, states, and post codes are inserted but not tagged in the customized dataset to increase the difficulty of finding correct address information in the content."
      ],
      "metadata": {
        "id": "0AniC0_f-6zs"
      }
    },
    {
      "cell_type": "code",
      "source": [
        "import collections\n",
        "from spacy.util import filter_spans\n",
        "from spacy.tokens import Doc, DocBin\n",
        "import random\n",
        "from tqdm import tqdm"
      ],
      "metadata": {
        "id": "wEWW1TZUcltv"
      },
      "execution_count": null,
      "outputs": []
    },
    {
      "cell_type": "code",
      "source": [
        "interted_data = []\n",
        "for n in tqdm(range(len(address2))):\n",
        "  address_list = list(address2.iloc[n].dropna())\n",
        "  random_ents = [list(n) for n in random.choices(ents, k=4)]\n",
        "  random_ents = [str(n) for n in sum(random_ents, [])]\n",
        "  address_list = address_list + random_ents\n",
        "  raw_essay = essay.iloc[n]['essay']\n",
        "  ## insert\n",
        "  essay_sentences = [str(s) for s in nlp(raw_essay).sents]\n",
        "\n",
        "  for m in range(len(address_list)):\n",
        "    random_index = randrange(len(essay_sentences))\n",
        "    essay_sentences = essay_sentences[:random_index] + [address_list[m]] + essay_sentences[random_index:]\n",
        "  ## BIO tagging\n",
        "  attribute_dict = dict(address2.iloc[n].dropna())\n",
        "  ruler = nlp.add_pipe(\"span_ruler\")\n",
        "  patterns = []\n",
        "  ## address\n",
        "  if 'primary_address_1' in attribute_dict:\n",
        "    patterns.append({\"label\":'ADDRESS', 'pattern':attribute_dict['primary_address_1']})\n",
        "  if 'primary_address_2' in attribute_dict:\n",
        "    patterns.append({\"label\":'ADDRESS', 'pattern':attribute_dict['primary_address_2']})\n",
        "  if 'primary_address_3' in attribute_dict:\n",
        "    patterns.append({\"label\":'ADDRESS', 'pattern':attribute_dict['primary_address_3']})\n",
        "  # ## pcode\n",
        "  # if 'primary_city' in attribute_dict:\n",
        "  #   patterns.append({\"label\":'CITY', 'pattern':attribute_dict['primary_city']})\n",
        "  # ## state\n",
        "  # if 'primary_state' in attribute_dict:\n",
        "  #   patterns.append({\"label\":'STATE', 'pattern':attribute_dict['primary_state']})\n",
        "  # ## post code \n",
        "  # if 'primary_postal_code' in attribute_dict:\n",
        "  #   patterns.append({\"label\":'STATE', 'pattern':attribute_dict['primary_postal_code']})\n",
        "  ruler.add_patterns(patterns)\n",
        "  text = ' '.join(essay_sentences)\n",
        "  doc = nlp(text)\n",
        "  doc.ents = filter_spans(doc.spans[\"ruler\"])\n",
        "  dataset = []\n",
        "  dataset.append(doc)\n",
        "  interted_data.append(doc)\n",
        "  nlp.remove_pipe(\"span_ruler\")"
      ],
      "metadata": {
        "colab": {
          "base_uri": "https://localhost:8080/"
        },
        "id": "E4bCU2DVcneC",
        "outputId": "fa2cf6e2-1533-4c0d-9e04-b83723e94946"
      },
      "execution_count": null,
      "outputs": [
        {
          "output_type": "stream",
          "name": "stderr",
          "text": [
            "  4%|▍         | 79/1919 [00:13<05:38,  5.44it/s]/usr/local/lib/python3.7/dist-packages/spacy/pipeline/span_ruler.py:507: UserWarning: [W036] The component 'span_ruler' does not have any patterns defined.\n",
            "  warnings.warn(Warnings.W036.format(name=self.name))\n",
            "  4%|▍         | 81/1919 [00:14<05:06,  6.00it/s]/usr/local/lib/python3.7/dist-packages/spacy/pipeline/span_ruler.py:507: UserWarning: [W036] The component 'span_ruler' does not have any patterns defined.\n",
            "  warnings.warn(Warnings.W036.format(name=self.name))\n",
            "  4%|▍         | 84/1919 [00:14<05:16,  5.80it/s]/usr/local/lib/python3.7/dist-packages/spacy/pipeline/span_ruler.py:507: UserWarning: [W036] The component 'span_ruler' does not have any patterns defined.\n",
            "  warnings.warn(Warnings.W036.format(name=self.name))\n",
            "  5%|▌         | 105/1919 [00:18<05:28,  5.52it/s]/usr/local/lib/python3.7/dist-packages/spacy/pipeline/span_ruler.py:507: UserWarning: [W036] The component 'span_ruler' does not have any patterns defined.\n",
            "  warnings.warn(Warnings.W036.format(name=self.name))\n",
            " 10%|▉         | 188/1919 [00:31<05:03,  5.70it/s]/usr/local/lib/python3.7/dist-packages/spacy/pipeline/span_ruler.py:507: UserWarning: [W036] The component 'span_ruler' does not have any patterns defined.\n",
            "  warnings.warn(Warnings.W036.format(name=self.name))\n",
            " 11%|█▏        | 219/1919 [00:36<04:34,  6.19it/s]/usr/local/lib/python3.7/dist-packages/spacy/pipeline/span_ruler.py:507: UserWarning: [W036] The component 'span_ruler' does not have any patterns defined.\n",
            "  warnings.warn(Warnings.W036.format(name=self.name))\n",
            " 12%|█▏        | 221/1919 [00:36<04:06,  6.88it/s]/usr/local/lib/python3.7/dist-packages/spacy/pipeline/span_ruler.py:507: UserWarning: [W036] The component 'span_ruler' does not have any patterns defined.\n",
            "  warnings.warn(Warnings.W036.format(name=self.name))\n",
            " 15%|█▌        | 294/1919 [00:47<03:56,  6.87it/s]/usr/local/lib/python3.7/dist-packages/spacy/pipeline/span_ruler.py:507: UserWarning: [W036] The component 'span_ruler' does not have any patterns defined.\n",
            "  warnings.warn(Warnings.W036.format(name=self.name))\n",
            " 17%|█▋        | 324/1919 [00:52<04:02,  6.58it/s]/usr/local/lib/python3.7/dist-packages/spacy/pipeline/span_ruler.py:507: UserWarning: [W036] The component 'span_ruler' does not have any patterns defined.\n",
            "  warnings.warn(Warnings.W036.format(name=self.name))\n",
            " 17%|█▋        | 326/1919 [00:52<04:08,  6.41it/s]/usr/local/lib/python3.7/dist-packages/spacy/pipeline/span_ruler.py:507: UserWarning: [W036] The component 'span_ruler' does not have any patterns defined.\n",
            "  warnings.warn(Warnings.W036.format(name=self.name))\n",
            " 18%|█▊        | 353/1919 [00:56<04:03,  6.43it/s]/usr/local/lib/python3.7/dist-packages/spacy/pipeline/span_ruler.py:507: UserWarning: [W036] The component 'span_ruler' does not have any patterns defined.\n",
            "  warnings.warn(Warnings.W036.format(name=self.name))\n",
            " 18%|█▊        | 354/1919 [00:57<03:48,  6.83it/s]/usr/local/lib/python3.7/dist-packages/spacy/pipeline/span_ruler.py:507: UserWarning: [W036] The component 'span_ruler' does not have any patterns defined.\n",
            "  warnings.warn(Warnings.W036.format(name=self.name))\n",
            " 19%|█▉        | 363/1919 [00:58<03:02,  8.54it/s]/usr/local/lib/python3.7/dist-packages/spacy/pipeline/span_ruler.py:507: UserWarning: [W036] The component 'span_ruler' does not have any patterns defined.\n",
            "  warnings.warn(Warnings.W036.format(name=self.name))\n",
            " 20%|█▉        | 376/1919 [01:00<03:36,  7.12it/s]/usr/local/lib/python3.7/dist-packages/spacy/pipeline/span_ruler.py:507: UserWarning: [W036] The component 'span_ruler' does not have any patterns defined.\n",
            "  warnings.warn(Warnings.W036.format(name=self.name))\n",
            " 24%|██▎       | 454/1919 [01:12<03:56,  6.20it/s]/usr/local/lib/python3.7/dist-packages/spacy/pipeline/span_ruler.py:507: UserWarning: [W036] The component 'span_ruler' does not have any patterns defined.\n",
            "  warnings.warn(Warnings.W036.format(name=self.name))\n",
            " 24%|██▍       | 469/1919 [01:14<03:17,  7.36it/s]/usr/local/lib/python3.7/dist-packages/spacy/pipeline/span_ruler.py:507: UserWarning: [W036] The component 'span_ruler' does not have any patterns defined.\n",
            "  warnings.warn(Warnings.W036.format(name=self.name))\n",
            " 24%|██▍       | 470/1919 [01:14<03:22,  7.16it/s]/usr/local/lib/python3.7/dist-packages/spacy/pipeline/span_ruler.py:507: UserWarning: [W036] The component 'span_ruler' does not have any patterns defined.\n",
            "  warnings.warn(Warnings.W036.format(name=self.name))\n",
            " 26%|██▌       | 499/1919 [01:19<03:13,  7.33it/s]/usr/local/lib/python3.7/dist-packages/spacy/pipeline/span_ruler.py:507: UserWarning: [W036] The component 'span_ruler' does not have any patterns defined.\n",
            "  warnings.warn(Warnings.W036.format(name=self.name))\n",
            " 26%|██▌       | 502/1919 [01:19<03:56,  5.99it/s]/usr/local/lib/python3.7/dist-packages/spacy/pipeline/span_ruler.py:507: UserWarning: [W036] The component 'span_ruler' does not have any patterns defined.\n",
            "  warnings.warn(Warnings.W036.format(name=self.name))\n",
            " 27%|██▋       | 511/1919 [01:21<03:57,  5.94it/s]/usr/local/lib/python3.7/dist-packages/spacy/pipeline/span_ruler.py:507: UserWarning: [W036] The component 'span_ruler' does not have any patterns defined.\n",
            "  warnings.warn(Warnings.W036.format(name=self.name))\n",
            " 27%|██▋       | 527/1919 [01:23<03:35,  6.46it/s]/usr/local/lib/python3.7/dist-packages/spacy/pipeline/span_ruler.py:507: UserWarning: [W036] The component 'span_ruler' does not have any patterns defined.\n",
            "  warnings.warn(Warnings.W036.format(name=self.name))\n",
            " 32%|███▏      | 615/1919 [01:36<02:35,  8.37it/s]/usr/local/lib/python3.7/dist-packages/spacy/pipeline/span_ruler.py:507: UserWarning: [W036] The component 'span_ruler' does not have any patterns defined.\n",
            "  warnings.warn(Warnings.W036.format(name=self.name))\n",
            " 34%|███▍      | 662/1919 [01:43<03:24,  6.15it/s]/usr/local/lib/python3.7/dist-packages/spacy/pipeline/span_ruler.py:507: UserWarning: [W036] The component 'span_ruler' does not have any patterns defined.\n",
            "  warnings.warn(Warnings.W036.format(name=self.name))\n",
            " 36%|███▋      | 700/1919 [01:48<03:00,  6.75it/s]/usr/local/lib/python3.7/dist-packages/spacy/pipeline/span_ruler.py:507: UserWarning: [W036] The component 'span_ruler' does not have any patterns defined.\n",
            "  warnings.warn(Warnings.W036.format(name=self.name))\n",
            " 37%|███▋      | 706/1919 [01:49<03:42,  5.46it/s]/usr/local/lib/python3.7/dist-packages/spacy/pipeline/span_ruler.py:507: UserWarning: [W036] The component 'span_ruler' does not have any patterns defined.\n",
            "  warnings.warn(Warnings.W036.format(name=self.name))\n",
            " 38%|███▊      | 729/1919 [01:53<02:46,  7.14it/s]/usr/local/lib/python3.7/dist-packages/spacy/pipeline/span_ruler.py:507: UserWarning: [W036] The component 'span_ruler' does not have any patterns defined.\n",
            "  warnings.warn(Warnings.W036.format(name=self.name))\n",
            " 41%|████▏     | 795/1919 [02:04<04:03,  4.62it/s]/usr/local/lib/python3.7/dist-packages/spacy/pipeline/span_ruler.py:507: UserWarning: [W036] The component 'span_ruler' does not have any patterns defined.\n",
            "  warnings.warn(Warnings.W036.format(name=self.name))\n",
            " 42%|████▏     | 807/1919 [02:05<02:40,  6.91it/s]/usr/local/lib/python3.7/dist-packages/spacy/pipeline/span_ruler.py:507: UserWarning: [W036] The component 'span_ruler' does not have any patterns defined.\n",
            "  warnings.warn(Warnings.W036.format(name=self.name))\n",
            " 44%|████▎     | 838/1919 [02:11<03:35,  5.02it/s]/usr/local/lib/python3.7/dist-packages/spacy/pipeline/span_ruler.py:507: UserWarning: [W036] The component 'span_ruler' does not have any patterns defined.\n",
            "  warnings.warn(Warnings.W036.format(name=self.name))\n",
            " 45%|████▍     | 861/1919 [02:15<03:02,  5.80it/s]/usr/local/lib/python3.7/dist-packages/spacy/pipeline/span_ruler.py:507: UserWarning: [W036] The component 'span_ruler' does not have any patterns defined.\n",
            "  warnings.warn(Warnings.W036.format(name=self.name))\n",
            " 45%|████▌     | 873/1919 [02:17<02:44,  6.35it/s]/usr/local/lib/python3.7/dist-packages/spacy/pipeline/span_ruler.py:507: UserWarning: [W036] The component 'span_ruler' does not have any patterns defined.\n",
            "  warnings.warn(Warnings.W036.format(name=self.name))\n",
            " 46%|████▌     | 876/1919 [02:18<02:52,  6.04it/s]/usr/local/lib/python3.7/dist-packages/spacy/pipeline/span_ruler.py:507: UserWarning: [W036] The component 'span_ruler' does not have any patterns defined.\n",
            "  warnings.warn(Warnings.W036.format(name=self.name))\n",
            " 49%|████▉     | 937/1919 [02:27<02:36,  6.26it/s]/usr/local/lib/python3.7/dist-packages/spacy/pipeline/span_ruler.py:507: UserWarning: [W036] The component 'span_ruler' does not have any patterns defined.\n",
            "  warnings.warn(Warnings.W036.format(name=self.name))\n",
            " 52%|█████▏    | 992/1919 [02:36<02:54,  5.32it/s]/usr/local/lib/python3.7/dist-packages/spacy/pipeline/span_ruler.py:507: UserWarning: [W036] The component 'span_ruler' does not have any patterns defined.\n",
            "  warnings.warn(Warnings.W036.format(name=self.name))\n",
            " 52%|█████▏    | 1004/1919 [02:38<02:29,  6.12it/s]/usr/local/lib/python3.7/dist-packages/spacy/pipeline/span_ruler.py:507: UserWarning: [W036] The component 'span_ruler' does not have any patterns defined.\n",
            "  warnings.warn(Warnings.W036.format(name=self.name))\n",
            " 68%|██████▊   | 1307/1919 [03:15<00:40, 14.96it/s]/usr/local/lib/python3.7/dist-packages/spacy/pipeline/span_ruler.py:507: UserWarning: [W036] The component 'span_ruler' does not have any patterns defined.\n",
            "  warnings.warn(Warnings.W036.format(name=self.name))\n",
            " 68%|██████▊   | 1313/1919 [03:16<00:41, 14.46it/s]/usr/local/lib/python3.7/dist-packages/spacy/pipeline/span_ruler.py:507: UserWarning: [W036] The component 'span_ruler' does not have any patterns defined.\n",
            "  warnings.warn(Warnings.W036.format(name=self.name))\n",
            " 73%|███████▎  | 1399/1919 [03:22<00:38, 13.57it/s]/usr/local/lib/python3.7/dist-packages/spacy/pipeline/span_ruler.py:507: UserWarning: [W036] The component 'span_ruler' does not have any patterns defined.\n",
            "  warnings.warn(Warnings.W036.format(name=self.name))\n",
            " 79%|███████▉  | 1524/1919 [03:31<00:28, 13.75it/s]/usr/local/lib/python3.7/dist-packages/spacy/pipeline/span_ruler.py:507: UserWarning: [W036] The component 'span_ruler' does not have any patterns defined.\n",
            "  warnings.warn(Warnings.W036.format(name=self.name))\n",
            " 81%|████████  | 1558/1919 [03:33<00:27, 12.99it/s]/usr/local/lib/python3.7/dist-packages/spacy/pipeline/span_ruler.py:507: UserWarning: [W036] The component 'span_ruler' does not have any patterns defined.\n",
            "  warnings.warn(Warnings.W036.format(name=self.name))\n",
            " 82%|████████▏ | 1568/1919 [03:34<00:21, 16.41it/s]/usr/local/lib/python3.7/dist-packages/spacy/pipeline/span_ruler.py:507: UserWarning: [W036] The component 'span_ruler' does not have any patterns defined.\n",
            "  warnings.warn(Warnings.W036.format(name=self.name))\n",
            " 84%|████████▍ | 1609/1919 [03:37<00:21, 14.52it/s]/usr/local/lib/python3.7/dist-packages/spacy/pipeline/span_ruler.py:507: UserWarning: [W036] The component 'span_ruler' does not have any patterns defined.\n",
            "  warnings.warn(Warnings.W036.format(name=self.name))\n",
            " 87%|████████▋ | 1664/1919 [03:40<00:18, 14.05it/s]/usr/local/lib/python3.7/dist-packages/spacy/pipeline/span_ruler.py:507: UserWarning: [W036] The component 'span_ruler' does not have any patterns defined.\n",
            "  warnings.warn(Warnings.W036.format(name=self.name))\n",
            " 90%|█████████ | 1729/1919 [03:45<00:11, 16.25it/s]/usr/local/lib/python3.7/dist-packages/spacy/pipeline/span_ruler.py:507: UserWarning: [W036] The component 'span_ruler' does not have any patterns defined.\n",
            "  warnings.warn(Warnings.W036.format(name=self.name))\n",
            " 92%|█████████▏| 1765/1919 [03:47<00:11, 13.43it/s]/usr/local/lib/python3.7/dist-packages/spacy/pipeline/span_ruler.py:507: UserWarning: [W036] The component 'span_ruler' does not have any patterns defined.\n",
            "  warnings.warn(Warnings.W036.format(name=self.name))\n",
            " 93%|█████████▎| 1777/1919 [03:48<00:09, 15.03it/s]/usr/local/lib/python3.7/dist-packages/spacy/pipeline/span_ruler.py:507: UserWarning: [W036] The component 'span_ruler' does not have any patterns defined.\n",
            "  warnings.warn(Warnings.W036.format(name=self.name))\n",
            " 96%|█████████▋| 1849/1919 [03:53<00:05, 13.58it/s]/usr/local/lib/python3.7/dist-packages/spacy/pipeline/span_ruler.py:507: UserWarning: [W036] The component 'span_ruler' does not have any patterns defined.\n",
            "  warnings.warn(Warnings.W036.format(name=self.name))\n",
            " 97%|█████████▋| 1867/1919 [03:54<00:03, 13.72it/s]/usr/local/lib/python3.7/dist-packages/spacy/pipeline/span_ruler.py:507: UserWarning: [W036] The component 'span_ruler' does not have any patterns defined.\n",
            "  warnings.warn(Warnings.W036.format(name=self.name))\n",
            "100%|██████████| 1919/1919 [03:58<00:00,  8.06it/s]\n"
          ]
        }
      ]
    },
    {
      "cell_type": "code",
      "source": [
        "from sklearn.model_selection import train_test_split"
      ],
      "metadata": {
        "id": "-DST6vcHfNND"
      },
      "execution_count": null,
      "outputs": []
    },
    {
      "cell_type": "code",
      "source": [
        "train, dev = train_test_split(interted_data, test_size=0.1, random_state=42)"
      ],
      "metadata": {
        "id": "p1BCA8FWgZi7"
      },
      "execution_count": null,
      "outputs": []
    },
    {
      "cell_type": "code",
      "source": [
        "train_db = DocBin()\n",
        "for n in train:\n",
        "  train_db.add(n)"
      ],
      "metadata": {
        "id": "gEKliMorgbBn"
      },
      "execution_count": null,
      "outputs": []
    },
    {
      "cell_type": "code",
      "source": [
        "train_db.to_disk('/content/train.spacy')"
      ],
      "metadata": {
        "id": "IrvIq-W3gcaq"
      },
      "execution_count": null,
      "outputs": []
    },
    {
      "cell_type": "code",
      "source": [
        "dev_db = DocBin()\n",
        "for n in dev:\n",
        "  dev_db.add(n)"
      ],
      "metadata": {
        "id": "TsKPLAPcgdpa"
      },
      "execution_count": null,
      "outputs": []
    },
    {
      "cell_type": "code",
      "source": [
        "dev_db.to_disk('/content/dev.spacy')"
      ],
      "metadata": {
        "id": "3NZ3tkrzgfJ7"
      },
      "execution_count": null,
      "outputs": []
    },
    {
      "cell_type": "markdown",
      "source": [
        "## Train the model"
      ],
      "metadata": {
        "id": "n19Cu3Ew_er5"
      }
    },
    {
      "cell_type": "code",
      "source": [
        "!python -m spacy download en_core_web_lg"
      ],
      "metadata": {
        "colab": {
          "base_uri": "https://localhost:8080/"
        },
        "id": "rjVyNXNXggcL",
        "outputId": "1561cdcf-15cf-4e94-e4ab-004491711512"
      },
      "execution_count": null,
      "outputs": [
        {
          "output_type": "stream",
          "name": "stdout",
          "text": [
            "2022-10-10 01:28:46.663199: E tensorflow/stream_executor/cuda/cuda_driver.cc:271] failed call to cuInit: CUDA_ERROR_NO_DEVICE: no CUDA-capable device is detected\n",
            "Looking in indexes: https://pypi.org/simple, https://us-python.pkg.dev/colab-wheels/public/simple/\n",
            "Collecting en-core-web-lg==3.4.0\n",
            "  Downloading https://github.com/explosion/spacy-models/releases/download/en_core_web_lg-3.4.0/en_core_web_lg-3.4.0-py3-none-any.whl (587.7 MB)\n",
            "\u001b[K     |████████████████████████████████| 587.7 MB 9.2 kB/s \n",
            "\u001b[?25hRequirement already satisfied: spacy<3.5.0,>=3.4.0 in /usr/local/lib/python3.7/dist-packages (from en-core-web-lg==3.4.0) (3.4.1)\n",
            "Requirement already satisfied: packaging>=20.0 in /usr/local/lib/python3.7/dist-packages (from spacy<3.5.0,>=3.4.0->en-core-web-lg==3.4.0) (21.3)\n",
            "Requirement already satisfied: tqdm<5.0.0,>=4.38.0 in /usr/local/lib/python3.7/dist-packages (from spacy<3.5.0,>=3.4.0->en-core-web-lg==3.4.0) (4.64.1)\n",
            "Requirement already satisfied: pydantic!=1.8,!=1.8.1,<1.10.0,>=1.7.4 in /usr/local/lib/python3.7/dist-packages (from spacy<3.5.0,>=3.4.0->en-core-web-lg==3.4.0) (1.9.2)\n",
            "Requirement already satisfied: typer<0.5.0,>=0.3.0 in /usr/local/lib/python3.7/dist-packages (from spacy<3.5.0,>=3.4.0->en-core-web-lg==3.4.0) (0.4.2)\n",
            "Requirement already satisfied: spacy-loggers<2.0.0,>=1.0.0 in /usr/local/lib/python3.7/dist-packages (from spacy<3.5.0,>=3.4.0->en-core-web-lg==3.4.0) (1.0.3)\n",
            "Requirement already satisfied: langcodes<4.0.0,>=3.2.0 in /usr/local/lib/python3.7/dist-packages (from spacy<3.5.0,>=3.4.0->en-core-web-lg==3.4.0) (3.3.0)\n",
            "Requirement already satisfied: spacy-legacy<3.1.0,>=3.0.9 in /usr/local/lib/python3.7/dist-packages (from spacy<3.5.0,>=3.4.0->en-core-web-lg==3.4.0) (3.0.10)\n",
            "Requirement already satisfied: setuptools in /usr/local/lib/python3.7/dist-packages (from spacy<3.5.0,>=3.4.0->en-core-web-lg==3.4.0) (57.4.0)\n",
            "Requirement already satisfied: typing-extensions<4.2.0,>=3.7.4 in /usr/local/lib/python3.7/dist-packages (from spacy<3.5.0,>=3.4.0->en-core-web-lg==3.4.0) (4.1.1)\n",
            "Requirement already satisfied: jinja2 in /usr/local/lib/python3.7/dist-packages (from spacy<3.5.0,>=3.4.0->en-core-web-lg==3.4.0) (2.11.3)\n",
            "Requirement already satisfied: cymem<2.1.0,>=2.0.2 in /usr/local/lib/python3.7/dist-packages (from spacy<3.5.0,>=3.4.0->en-core-web-lg==3.4.0) (2.0.6)\n",
            "Requirement already satisfied: srsly<3.0.0,>=2.4.3 in /usr/local/lib/python3.7/dist-packages (from spacy<3.5.0,>=3.4.0->en-core-web-lg==3.4.0) (2.4.4)\n",
            "Requirement already satisfied: requests<3.0.0,>=2.13.0 in /usr/local/lib/python3.7/dist-packages (from spacy<3.5.0,>=3.4.0->en-core-web-lg==3.4.0) (2.23.0)\n",
            "Requirement already satisfied: numpy>=1.15.0 in /usr/local/lib/python3.7/dist-packages (from spacy<3.5.0,>=3.4.0->en-core-web-lg==3.4.0) (1.21.6)\n",
            "Requirement already satisfied: pathy>=0.3.5 in /usr/local/lib/python3.7/dist-packages (from spacy<3.5.0,>=3.4.0->en-core-web-lg==3.4.0) (0.6.2)\n",
            "Requirement already satisfied: preshed<3.1.0,>=3.0.2 in /usr/local/lib/python3.7/dist-packages (from spacy<3.5.0,>=3.4.0->en-core-web-lg==3.4.0) (3.0.7)\n",
            "Requirement already satisfied: murmurhash<1.1.0,>=0.28.0 in /usr/local/lib/python3.7/dist-packages (from spacy<3.5.0,>=3.4.0->en-core-web-lg==3.4.0) (1.0.8)\n",
            "Requirement already satisfied: wasabi<1.1.0,>=0.9.1 in /usr/local/lib/python3.7/dist-packages (from spacy<3.5.0,>=3.4.0->en-core-web-lg==3.4.0) (0.10.1)\n",
            "Requirement already satisfied: thinc<8.2.0,>=8.1.0 in /usr/local/lib/python3.7/dist-packages (from spacy<3.5.0,>=3.4.0->en-core-web-lg==3.4.0) (8.1.2)\n",
            "Requirement already satisfied: catalogue<2.1.0,>=2.0.6 in /usr/local/lib/python3.7/dist-packages (from spacy<3.5.0,>=3.4.0->en-core-web-lg==3.4.0) (2.0.8)\n",
            "Requirement already satisfied: zipp>=0.5 in /usr/local/lib/python3.7/dist-packages (from catalogue<2.1.0,>=2.0.6->spacy<3.5.0,>=3.4.0->en-core-web-lg==3.4.0) (3.8.1)\n",
            "Requirement already satisfied: pyparsing!=3.0.5,>=2.0.2 in /usr/local/lib/python3.7/dist-packages (from packaging>=20.0->spacy<3.5.0,>=3.4.0->en-core-web-lg==3.4.0) (3.0.9)\n",
            "Requirement already satisfied: smart-open<6.0.0,>=5.2.1 in /usr/local/lib/python3.7/dist-packages (from pathy>=0.3.5->spacy<3.5.0,>=3.4.0->en-core-web-lg==3.4.0) (5.2.1)\n",
            "Requirement already satisfied: certifi>=2017.4.17 in /usr/local/lib/python3.7/dist-packages (from requests<3.0.0,>=2.13.0->spacy<3.5.0,>=3.4.0->en-core-web-lg==3.4.0) (2022.9.24)\n",
            "Requirement already satisfied: urllib3!=1.25.0,!=1.25.1,<1.26,>=1.21.1 in /usr/local/lib/python3.7/dist-packages (from requests<3.0.0,>=2.13.0->spacy<3.5.0,>=3.4.0->en-core-web-lg==3.4.0) (1.25.11)\n",
            "Requirement already satisfied: chardet<4,>=3.0.2 in /usr/local/lib/python3.7/dist-packages (from requests<3.0.0,>=2.13.0->spacy<3.5.0,>=3.4.0->en-core-web-lg==3.4.0) (3.0.4)\n",
            "Requirement already satisfied: idna<3,>=2.5 in /usr/local/lib/python3.7/dist-packages (from requests<3.0.0,>=2.13.0->spacy<3.5.0,>=3.4.0->en-core-web-lg==3.4.0) (2.10)\n",
            "Requirement already satisfied: confection<1.0.0,>=0.0.1 in /usr/local/lib/python3.7/dist-packages (from thinc<8.2.0,>=8.1.0->spacy<3.5.0,>=3.4.0->en-core-web-lg==3.4.0) (0.0.2)\n",
            "Requirement already satisfied: blis<0.8.0,>=0.7.8 in /usr/local/lib/python3.7/dist-packages (from thinc<8.2.0,>=8.1.0->spacy<3.5.0,>=3.4.0->en-core-web-lg==3.4.0) (0.7.8)\n",
            "Requirement already satisfied: click<9.0.0,>=7.1.1 in /usr/local/lib/python3.7/dist-packages (from typer<0.5.0,>=0.3.0->spacy<3.5.0,>=3.4.0->en-core-web-lg==3.4.0) (7.1.2)\n",
            "Requirement already satisfied: MarkupSafe>=0.23 in /usr/local/lib/python3.7/dist-packages (from jinja2->spacy<3.5.0,>=3.4.0->en-core-web-lg==3.4.0) (2.0.1)\n",
            "Installing collected packages: en-core-web-lg\n",
            "Successfully installed en-core-web-lg-3.4.0\n",
            "\u001b[38;5;2m✔ Download and installation successful\u001b[0m\n",
            "You can now load the package via spacy.load('en_core_web_lg')\n"
          ]
        }
      ]
    },
    {
      "cell_type": "code",
      "source": [
        "cp  '/content/drive/MyDrive/worddata_10 08 2022/base_config.cfg' /content/base_config.cfg"
      ],
      "metadata": {
        "id": "eu6t1QnDgiN-"
      },
      "execution_count": null,
      "outputs": []
    },
    {
      "cell_type": "code",
      "source": [
        "!python -m spacy init fill-config 'base_config.cfg' config.cfg"
      ],
      "metadata": {
        "colab": {
          "base_uri": "https://localhost:8080/"
        },
        "id": "MtMwkaOlhMlc",
        "outputId": "b46a6ec3-9143-4a4a-e778-a8d261f434bd"
      },
      "execution_count": null,
      "outputs": [
        {
          "output_type": "stream",
          "name": "stdout",
          "text": [
            "2022-10-10 01:31:52.469770: E tensorflow/stream_executor/cuda/cuda_driver.cc:271] failed call to cuInit: CUDA_ERROR_NO_DEVICE: no CUDA-capable device is detected\n",
            "\u001b[38;5;2m✔ Auto-filled config with all values\u001b[0m\n",
            "\u001b[38;5;2m✔ Saved config\u001b[0m\n",
            "config.cfg\n",
            "You can now add your data and train your pipeline:\n",
            "python -m spacy train config.cfg --paths.train ./train.spacy --paths.dev ./dev.spacy\n"
          ]
        }
      ]
    },
    {
      "cell_type": "code",
      "source": [
        "!python -m spacy train config.cfg --output ./ --paths.train /content/train.spacy --paths.dev /content/dev.spacy"
      ],
      "metadata": {
        "colab": {
          "base_uri": "https://localhost:8080/"
        },
        "id": "KhukRymSglu5",
        "outputId": "cf38093b-3c2b-4e6e-df5b-45abce11bd81"
      },
      "execution_count": null,
      "outputs": [
        {
          "output_type": "stream",
          "name": "stdout",
          "text": [
            "2022-10-10 01:33:02.151585: E tensorflow/stream_executor/cuda/cuda_driver.cc:271] failed call to cuInit: CUDA_ERROR_NO_DEVICE: no CUDA-capable device is detected\n",
            "\u001b[38;5;4mℹ Saving to output directory: .\u001b[0m\n",
            "\u001b[38;5;4mℹ Using CPU\u001b[0m\n",
            "\u001b[1m\n",
            "=========================== Initializing pipeline ===========================\u001b[0m\n",
            "[2022-10-10 01:33:02,925] [INFO] Set up nlp object from config\n",
            "INFO:spacy:Set up nlp object from config\n",
            "[2022-10-10 01:33:02,937] [INFO] Pipeline: ['tok2vec', 'ner']\n",
            "INFO:spacy:Pipeline: ['tok2vec', 'ner']\n",
            "[2022-10-10 01:33:02,942] [INFO] Created vocabulary\n",
            "INFO:spacy:Created vocabulary\n",
            "[2022-10-10 01:33:04,920] [INFO] Added vectors: en_core_web_lg\n",
            "INFO:spacy:Added vectors: en_core_web_lg\n",
            "tcmalloc: large alloc 1233977344 bytes == 0x3889e000 @  0x7ff84a9052a4 0x7ff83f1fca7d 0x7ff83f1fbc5d 0x7ff83f1f8435 0x7ff83f1f8bde 0x4d19df 0x51b31c 0x5b41c5 0x58f49e 0x51837f 0x7ff76051e218 0x7ff7605201de 0x7ff7605270d7 0x7ff76052a7df 0x590055 0x51b180 0x58f2a7 0x51740e 0x7ff76051e218 0x7ff7605201de 0x7ff760526db0 0x58ed05 0x51babb 0x5b4a3e 0x58f49e 0x51837f 0x5b4a3e 0x58f49e 0x51837f 0x5b4a3e 0x58f49e\n",
            "tcmalloc: large alloc 1248116736 bytes == 0xa6dd6000 @  0x7ff84a9052a4 0x7ff83f1fa193 0x7ff83f1fbc5d 0x7ff83f1f8435 0x7ff83f1f8bde 0x4d19df 0x51b31c 0x5b41c5 0x58f49e 0x51837f 0x58f2a7 0x51b221 0x7ff76051e218 0x7ff7605201de 0x7ff760526db0 0x58ed05 0x51babb 0x5b4a3e 0x58f49e 0x51837f 0x5b4a3e 0x58f49e 0x51837f 0x5b4a3e 0x58f49e 0x51837f 0x5b4a3e 0x58f49e 0x51837f 0x5b41c5 0x4ba80a\n",
            "[2022-10-10 01:33:06,975] [INFO] Finished initializing nlp object\n",
            "INFO:spacy:Finished initializing nlp object\n",
            "[2022-10-10 01:33:22,893] [INFO] Initialized pipeline components: ['tok2vec', 'ner']\n",
            "INFO:spacy:Initialized pipeline components: ['tok2vec', 'ner']\n",
            "\u001b[38;5;2m✔ Initialized pipeline\u001b[0m\n",
            "\u001b[1m\n",
            "============================= Training pipeline =============================\u001b[0m\n",
            "\u001b[38;5;4mℹ Pipeline: ['tok2vec', 'ner']\u001b[0m\n",
            "\u001b[38;5;4mℹ Initial learn rate: 0.001\u001b[0m\n",
            "E    #       LOSS TOK2VEC  LOSS NER  ENTS_F  ENTS_P  ENTS_R  SCORE \n",
            "---  ------  ------------  --------  ------  ------  ------  ------\n",
            "  0       0          0.00     67.00    0.12    0.07    0.71    0.00\n",
            "  0     200        739.78   2555.11   49.54   55.99   44.42    0.50\n",
            "  0     400         16.71    332.16   67.91   77.68   60.33    0.68\n",
            "  0     600         26.49    311.28   79.66   82.28   77.20    0.80\n",
            "  0     800         48.60    240.57   79.27   87.86   72.21    0.79\n",
            "  0    1000         57.03    228.97   85.08   88.46   81.95    0.85\n",
            "  0    1200         65.39    195.68   71.71   73.68   69.83    0.72\n",
            "  0    1400         71.26    201.79   86.84   90.05   83.85    0.87\n",
            "  0    1600         84.49    197.68   86.64   87.80   85.51    0.87\n",
            "  1    1800         70.01    144.89   85.78   87.81   83.85    0.86\n",
            "  1    2000         85.69    122.38   87.26   88.32   86.22    0.87\n",
            "  1    2200         94.97    159.15   86.49   89.57   83.61    0.86\n",
            "  1    2400        228.90    173.69   84.71   86.60   82.90    0.85\n",
            "  1    2600         94.75    109.98   88.08   90.27   85.99    0.88\n",
            "  1    2800        193.05    154.64   87.50   88.56   86.46    0.88\n",
            "  1    3000        147.70    145.20   89.50   89.93   89.07    0.89\n",
            "  1    3200        126.25    157.26   91.39   93.32   89.55    0.91\n",
            "  2    3400        564.83    141.96   90.35   90.67   90.02    0.90\n",
            "  2    3600         95.47     92.97   86.90   89.65   84.32    0.87\n",
            "  2    3800        189.37    133.09   92.58   93.25   91.92    0.93\n",
            "  2    4000        169.34    101.21   91.28   93.09   89.55    0.91\n",
            "  2    4200        145.27    107.71   89.80   88.66   90.97    0.90\n",
            "  2    4400        515.27    223.94   87.04   84.88   89.31    0.87\n",
            "  3    4600        200.35    154.61   92.46   93.24   91.69    0.92\n",
            "  3    4800        268.47    123.01   93.28   95.98   90.74    0.93\n",
            "  3    5000        229.24    116.99   91.29   90.44   92.16    0.91\n",
            "  3    5200        299.59     90.62   91.28   91.83   90.74    0.91\n",
            "  4    5400        148.25     58.78   93.36   93.14   93.59    0.93\n",
            "  4    5600        579.96     89.40   90.30   91.06   89.55    0.90\n",
            "  4    5800        507.22     70.98   92.12   92.57   91.69    0.92\n",
            "  5    6000        349.82    133.80   91.22   92.44   90.02    0.91\n",
            "  5    6200        482.55     84.48   91.70   92.93   90.50    0.92\n",
            "  5    6400        298.44     78.52   90.76   90.54   90.97    0.91\n",
            "  5    6600      23469.33    170.42   84.43   86.53   82.42    0.84\n",
            "  6    6800        274.37     94.12   92.40   93.87   90.97    0.92\n",
            "  6    7000        276.84     68.29   92.46   93.24   91.69    0.92\n",
            "\u001b[38;5;2m✔ Saved pipeline to output directory\u001b[0m\n",
            "model-last\n"
          ]
        }
      ]
    },
    {
      "cell_type": "markdown",
      "source": [
        "## Check the results"
      ],
      "metadata": {
        "id": "Gs3uTJDY_j5-"
      }
    },
    {
      "cell_type": "code",
      "source": [
        "from spacy import displacy"
      ],
      "metadata": {
        "id": "2GqK29Tg1hGN"
      },
      "execution_count": null,
      "outputs": []
    },
    {
      "cell_type": "code",
      "source": [
        "trained_nlp = spacy.load(\"/content/practical-nlp-code/Ch5/Data/conll2003/en/model-best\")"
      ],
      "metadata": {
        "id": "tp9eFk8X1esO"
      },
      "execution_count": null,
      "outputs": []
    },
    {
      "cell_type": "code",
      "source": [
        "texts = \"Lt. Governor Garlin Gilchrist II Skip to main content Whitmer Governor Gretchen Whitmer About About collapsed link News News collapsed link Issues & Accomplishments Issues & Accomplishments collapsed link Appointments Lt Governor Lt Governor collapsed link Contact the Governor About About the Governor About the Lt Governor About the Governor Governor Gretchen Whitmer is a lifelong Michigander.  She is a lawyer, an educator, former prosecutor, State Representative and Senator.  She was the first woman to lead a Senate caucus. But the most important title she boasts is MOM. Inspired by her family, she’s devoted her life to building a stronger Michigan for everyone. About the Lt Governor News Press Releases Budget State Orders and Directives Flag Honors State of the State Proclamations Press Releases Press Releases Budget Budget State Orders and Directives State Orders and Directives Flag Honors State of the State 2022 State of the State 2021 State of the State 2020 State of the State 2019 State of the State Proclamations Proclamations Issues & Accomplishments Accomplishments Michigan Infrastructure Office Sunshine Tribal Affairs Accomplishments Accomplishments Michigan Infrastructure Office Sunshine Sunshine Tribal Affairs Appointments Lt Governor Thriving Cities Thriving Cities Thriving Cities Tour Ann Arbor Battle Creek Bay City Benton Harbor Dearborn Detroit Flint Grand Rapids Inkster Jackson Kalamazoo Lansing Marquette Muskegon Pontiac Saginaw Southfield Warren Ypsilanti Contact the Governor collapsed link Governor Gretchen Whitmer About News Issues & Accomplishments Appointments Lt Governor Contact the Governor Back About About the Governor About the Lt Governor Back About the Governor Back About the Lt Governor Back News Press Releases Budget State Orders and Directives Flag Honors State of the State Proclamations Back Press Releases Back Budget Back State Orders and Directives Back Flag Honors Back State of the State 2022 State of the State 2021 State of the State 2020 State of the State 2019 State of the State Back Proclamations Back Issues & Accomplishments Accomplishments Michigan Infrastructure Office Sunshine Tribal Affairs Back Accomplishments Back Michigan Infrastructure Office Back Sunshine Back Tribal Affairs Back Appointments Back Lt Governor Thriving Cities Back Thriving Cities Ann Arbor Battle Creek Bay City Benton Harbor Dearborn Detroit Flint Grand Rapids Inkster Jackson Kalamazoo Lansing Marquette Muskegon Pontiac Saginaw Southfield Warren Ypsilanti Back Contact the Governor Header Search Box Label {D47FBCAD-4189-4E1B-B94C-362637BF389B} https://dev.michigan.local/som/json?sc_device=json WHITMER Popular on michigan.gov Agriculture and Rural Development Civil Rights Environment Health and Human Services Natural Resources Secretary of State How Do I... Register to Vote Renew My License Plate View assistance programs Unsupported Browser Detected The web Browser you are currently using is unsupported, and some features of this site may not work as intended. Please update to a modern browser such as Chrome, Firefox or Edge to experience all features Michigan.gov has to offer. Supported Browsers Google Chrome Safari Microsoft Edge Firefox Lt. Governor Garlin Gilchrist II Photo of the Lt Governor with his family. Lt. Governor Garlin Gilchrist II Whitmer Lt Governor Lt Governor Gilchrist High Resolution Headshot Lt. Governor Garlin Gilchrist II Thriving Cities Share Your Opinion Schedule Requests Download Official High-Resolution Headshot of Lt. Governor Gilchrist Lieutenant Governor Garlin Gilchrist has dedicated his career to solving problems. An engineer by training, he uses thoughtful innovation, progressive reform, and efficient modernization of policies and programs to make the work better for hardworking families. From spearheading campaigns for equality and justice to harnessing technology to solve real problems, his focus has consistently remained on serving the public and getting things done. He brings a lifetime of experience to the task, receiving his first computer at age five and setting up a computer lab in a Detroit community recreation center using computers that he built himself at age 16. Lt. Governor Gilchrist studied computer engineering and computer science at the University of Michigan, graduating with honors, and later had a successful career as a software engineer at Microsoft, helping to build SharePoint into the fastest growing product in the company’s history. Lt. Governor Gilchrist spent the next several years of his career as a social entrepreneur and community organizer who helped people in communities across America realize their full economic and political potential. Upon returning home to Detroit, Lt. Governor Gilchrist worked in local government to make sure build systems that made the government more responsive, transparent, and accountable to city residents. This experience prepared him for a key priority: to bring Michigan’s state government fully into the 21 st century on every level. As part of the Whitmer Administration, Lt. Governor Gilchrist has sought to address injustice and inequity across our state at every level. From co-chairing the Michigan Joint Task Force on Jail and Pretrial Incarceration to helming the Coronavirus Task Force on Racial Disparities, these task forces have taken actions that saved lives and protect our most vulnerable populations. Lt. Governor Gilchrist’s approach to addressing these disparities is deeply rooted in fact-based practices, science, and connecting with individuals across Michigan. Lt. Governor Garlin Gilchrist and his wife, Ellen, reside in Detroit where they are raising their twins, Emily and Garlin III, and daughter, Ruby. Social Media Powered by Curator.io Follow us Lt. Governor Garlin Gilchrist II Copyright  State of Michigan Careers Balancing a rewarding career with the ability to have a high-quality lifestyle is important. In Michigan, you can have both. If you’re interested in a career that allows you to make a difference, check out the state of Michigan career portal for a list of current openings in state government. Careers Contact the Governor Governor Whitmer’s office is available to assist Michiganders with matters pertaining to a state government department and agencies. To share an opinion with the Governor’s office or to request assistance with matters pertaining to state government, please follow the link below. Contact the Governor Sign-up for Email Alerts Submit Copyright 2022 State of Michigan Mi.gov Home Policies Accessibility Disability Resources Statewide FOIA Directory Departments\""
      ],
      "metadata": {
        "id": "yG5J6jcQ2FW6"
      },
      "execution_count": null,
      "outputs": []
    },
    {
      "cell_type": "code",
      "source": [
        "doc = trained_nlp(texts)\n",
        "displacy.render(doc, style=\"ent\", jupyter=True)"
      ],
      "metadata": {
        "colab": {
          "base_uri": "https://localhost:8080/",
          "height": 1000
        },
        "id": "75aEKl1F1vi_",
        "outputId": "bf749eb1-779c-45d8-a06e-9358406c77dc"
      },
      "execution_count": null,
      "outputs": [
        {
          "output_type": "display_data",
          "data": {
            "text/plain": [
              "<IPython.core.display.HTML object>"
            ],
            "text/html": [
              "<span class=\"tex2jax_ignore\"><div class=\"entities\" style=\"line-height: 2.5; direction: ltr\">Lt. \n",
              "<mark class=\"entity\" style=\"background: #ddd; padding: 0.45em 0.6em; margin: 0 0.25em; line-height: 1; border-radius: 0.35em;\">\n",
              "    Governor\n",
              "    <span style=\"font-size: 0.8em; font-weight: bold; line-height: 1; border-radius: 0.35em; vertical-align: middle; margin-left: 0.5rem\">ADDRESS</span>\n",
              "</mark>\n",
              " Garlin Gilchrist II Skip to main content Whitmer \n",
              "<mark class=\"entity\" style=\"background: #ddd; padding: 0.45em 0.6em; margin: 0 0.25em; line-height: 1; border-radius: 0.35em;\">\n",
              "    Governor\n",
              "    <span style=\"font-size: 0.8em; font-weight: bold; line-height: 1; border-radius: 0.35em; vertical-align: middle; margin-left: 0.5rem\">ADDRESS</span>\n",
              "</mark>\n",
              " Gretchen Whitmer About About collapsed link News News collapsed link Issues &amp; Accomplishments Issues &amp; Accomplishments collapsed link Appointments Lt \n",
              "<mark class=\"entity\" style=\"background: #ddd; padding: 0.45em 0.6em; margin: 0 0.25em; line-height: 1; border-radius: 0.35em;\">\n",
              "    Governor\n",
              "    <span style=\"font-size: 0.8em; font-weight: bold; line-height: 1; border-radius: 0.35em; vertical-align: middle; margin-left: 0.5rem\">ADDRESS</span>\n",
              "</mark>\n",
              " Lt \n",
              "<mark class=\"entity\" style=\"background: #ddd; padding: 0.45em 0.6em; margin: 0 0.25em; line-height: 1; border-radius: 0.35em;\">\n",
              "    Governor\n",
              "    <span style=\"font-size: 0.8em; font-weight: bold; line-height: 1; border-radius: 0.35em; vertical-align: middle; margin-left: 0.5rem\">ADDRESS</span>\n",
              "</mark>\n",
              " collapsed link Contact the Governor About About the Governor About the Lt \n",
              "<mark class=\"entity\" style=\"background: #ddd; padding: 0.45em 0.6em; margin: 0 0.25em; line-height: 1; border-radius: 0.35em;\">\n",
              "    Governor\n",
              "    <span style=\"font-size: 0.8em; font-weight: bold; line-height: 1; border-radius: 0.35em; vertical-align: middle; margin-left: 0.5rem\">ADDRESS</span>\n",
              "</mark>\n",
              " About the \n",
              "<mark class=\"entity\" style=\"background: #ddd; padding: 0.45em 0.6em; margin: 0 0.25em; line-height: 1; border-radius: 0.35em;\">\n",
              "    Governor Governor\n",
              "    <span style=\"font-size: 0.8em; font-weight: bold; line-height: 1; border-radius: 0.35em; vertical-align: middle; margin-left: 0.5rem\">ADDRESS</span>\n",
              "</mark>\n",
              " Gretchen Whitmer is a lifelong Michigander.  She is a lawyer, an educator, former prosecutor, \n",
              "<mark class=\"entity\" style=\"background: #ddd; padding: 0.45em 0.6em; margin: 0 0.25em; line-height: 1; border-radius: 0.35em;\">\n",
              "    State Representative and Senator.\n",
              "    <span style=\"font-size: 0.8em; font-weight: bold; line-height: 1; border-radius: 0.35em; vertical-align: middle; margin-left: 0.5rem\">ADDRESS</span>\n",
              "</mark>\n",
              "  She was the first woman to lead a Senate \n",
              "<mark class=\"entity\" style=\"background: #ddd; padding: 0.45em 0.6em; margin: 0 0.25em; line-height: 1; border-radius: 0.35em;\">\n",
              "    caucus.\n",
              "    <span style=\"font-size: 0.8em; font-weight: bold; line-height: 1; border-radius: 0.35em; vertical-align: middle; margin-left: 0.5rem\">ADDRESS</span>\n",
              "</mark>\n",
              " But the most important title she boasts is MOM. Inspired by her family, she’s devoted her life to building a stronger Michigan for everyone. About the Lt \n",
              "<mark class=\"entity\" style=\"background: #ddd; padding: 0.45em 0.6em; margin: 0 0.25em; line-height: 1; border-radius: 0.35em;\">\n",
              "    Governor\n",
              "    <span style=\"font-size: 0.8em; font-weight: bold; line-height: 1; border-radius: 0.35em; vertical-align: middle; margin-left: 0.5rem\">ADDRESS</span>\n",
              "</mark>\n",
              " News Press Releases Budget \n",
              "<mark class=\"entity\" style=\"background: #ddd; padding: 0.45em 0.6em; margin: 0 0.25em; line-height: 1; border-radius: 0.35em;\">\n",
              "    State Orders and\n",
              "    <span style=\"font-size: 0.8em; font-weight: bold; line-height: 1; border-radius: 0.35em; vertical-align: middle; margin-left: 0.5rem\">ADDRESS</span>\n",
              "</mark>\n",
              " Directives Flag Honors \n",
              "<mark class=\"entity\" style=\"background: #ddd; padding: 0.45em 0.6em; margin: 0 0.25em; line-height: 1; border-radius: 0.35em;\">\n",
              "    State of the State\n",
              "    <span style=\"font-size: 0.8em; font-weight: bold; line-height: 1; border-radius: 0.35em; vertical-align: middle; margin-left: 0.5rem\">ADDRESS</span>\n",
              "</mark>\n",
              " Proclamations Press Releases Press Releases \n",
              "<mark class=\"entity\" style=\"background: #ddd; padding: 0.45em 0.6em; margin: 0 0.25em; line-height: 1; border-radius: 0.35em;\">\n",
              "    Budget Budget\n",
              "    <span style=\"font-size: 0.8em; font-weight: bold; line-height: 1; border-radius: 0.35em; vertical-align: middle; margin-left: 0.5rem\">ADDRESS</span>\n",
              "</mark>\n",
              " \n",
              "<mark class=\"entity\" style=\"background: #ddd; padding: 0.45em 0.6em; margin: 0 0.25em; line-height: 1; border-radius: 0.35em;\">\n",
              "    State Orders and Directives\n",
              "    <span style=\"font-size: 0.8em; font-weight: bold; line-height: 1; border-radius: 0.35em; vertical-align: middle; margin-left: 0.5rem\">ADDRESS</span>\n",
              "</mark>\n",
              " \n",
              "<mark class=\"entity\" style=\"background: #ddd; padding: 0.45em 0.6em; margin: 0 0.25em; line-height: 1; border-radius: 0.35em;\">\n",
              "    State Orders and Directives\n",
              "    <span style=\"font-size: 0.8em; font-weight: bold; line-height: 1; border-radius: 0.35em; vertical-align: middle; margin-left: 0.5rem\">ADDRESS</span>\n",
              "</mark>\n",
              " Flag Honors \n",
              "<mark class=\"entity\" style=\"background: #ddd; padding: 0.45em 0.6em; margin: 0 0.25em; line-height: 1; border-radius: 0.35em;\">\n",
              "    State of the State\n",
              "    <span style=\"font-size: 0.8em; font-weight: bold; line-height: 1; border-radius: 0.35em; vertical-align: middle; margin-left: 0.5rem\">ADDRESS</span>\n",
              "</mark>\n",
              " 2022 \n",
              "<mark class=\"entity\" style=\"background: #ddd; padding: 0.45em 0.6em; margin: 0 0.25em; line-height: 1; border-radius: 0.35em;\">\n",
              "    State of the State\n",
              "    <span style=\"font-size: 0.8em; font-weight: bold; line-height: 1; border-radius: 0.35em; vertical-align: middle; margin-left: 0.5rem\">ADDRESS</span>\n",
              "</mark>\n",
              " 2021 \n",
              "<mark class=\"entity\" style=\"background: #ddd; padding: 0.45em 0.6em; margin: 0 0.25em; line-height: 1; border-radius: 0.35em;\">\n",
              "    State of the State\n",
              "    <span style=\"font-size: 0.8em; font-weight: bold; line-height: 1; border-radius: 0.35em; vertical-align: middle; margin-left: 0.5rem\">ADDRESS</span>\n",
              "</mark>\n",
              " 2020 \n",
              "<mark class=\"entity\" style=\"background: #ddd; padding: 0.45em 0.6em; margin: 0 0.25em; line-height: 1; border-radius: 0.35em;\">\n",
              "    State of the State\n",
              "    <span style=\"font-size: 0.8em; font-weight: bold; line-height: 1; border-radius: 0.35em; vertical-align: middle; margin-left: 0.5rem\">ADDRESS</span>\n",
              "</mark>\n",
              " 2019 \n",
              "<mark class=\"entity\" style=\"background: #ddd; padding: 0.45em 0.6em; margin: 0 0.25em; line-height: 1; border-radius: 0.35em;\">\n",
              "    State of the State Proclamations Proclamations\n",
              "    <span style=\"font-size: 0.8em; font-weight: bold; line-height: 1; border-radius: 0.35em; vertical-align: middle; margin-left: 0.5rem\">ADDRESS</span>\n",
              "</mark>\n",
              " Issues &amp; Accomplishments Accomplishments Michigan Infrastructure Office Sunshine Tribal Affairs Accomplishments Accomplishments Michigan Infrastructure Office Sunshine Sunshine Tribal Affairs Appointments Lt \n",
              "<mark class=\"entity\" style=\"background: #ddd; padding: 0.45em 0.6em; margin: 0 0.25em; line-height: 1; border-radius: 0.35em;\">\n",
              "    Governor\n",
              "    <span style=\"font-size: 0.8em; font-weight: bold; line-height: 1; border-radius: 0.35em; vertical-align: middle; margin-left: 0.5rem\">ADDRESS</span>\n",
              "</mark>\n",
              " Thriving Cities Thriving Cities Thriving Cities Tour Ann Arbor Battle Creek Bay \n",
              "<mark class=\"entity\" style=\"background: #ddd; padding: 0.45em 0.6em; margin: 0 0.25em; line-height: 1; border-radius: 0.35em;\">\n",
              "    City Benton Harbor\n",
              "    <span style=\"font-size: 0.8em; font-weight: bold; line-height: 1; border-radius: 0.35em; vertical-align: middle; margin-left: 0.5rem\">ADDRESS</span>\n",
              "</mark>\n",
              " Dearborn Detroit Flint Grand Rapids Inkster Jackson Kalamazoo Lansing Marquette Muskegon Pontiac Saginaw Southfield Warren Ypsilanti Contact the Governor collapsed link \n",
              "<mark class=\"entity\" style=\"background: #ddd; padding: 0.45em 0.6em; margin: 0 0.25em; line-height: 1; border-radius: 0.35em;\">\n",
              "    Governor\n",
              "    <span style=\"font-size: 0.8em; font-weight: bold; line-height: 1; border-radius: 0.35em; vertical-align: middle; margin-left: 0.5rem\">ADDRESS</span>\n",
              "</mark>\n",
              " Gretchen Whitmer About News Issues &amp; Accomplishments Appointments \n",
              "<mark class=\"entity\" style=\"background: #ddd; padding: 0.45em 0.6em; margin: 0 0.25em; line-height: 1; border-radius: 0.35em;\">\n",
              "    Lt Governor Contact the Governor\n",
              "    <span style=\"font-size: 0.8em; font-weight: bold; line-height: 1; border-radius: 0.35em; vertical-align: middle; margin-left: 0.5rem\">ADDRESS</span>\n",
              "</mark>\n",
              " Back About About the Governor About the Lt \n",
              "<mark class=\"entity\" style=\"background: #ddd; padding: 0.45em 0.6em; margin: 0 0.25em; line-height: 1; border-radius: 0.35em;\">\n",
              "    Governor\n",
              "    <span style=\"font-size: 0.8em; font-weight: bold; line-height: 1; border-radius: 0.35em; vertical-align: middle; margin-left: 0.5rem\">ADDRESS</span>\n",
              "</mark>\n",
              " Back About the Governor Back About the Lt \n",
              "<mark class=\"entity\" style=\"background: #ddd; padding: 0.45em 0.6em; margin: 0 0.25em; line-height: 1; border-radius: 0.35em;\">\n",
              "    Governor\n",
              "    <span style=\"font-size: 0.8em; font-weight: bold; line-height: 1; border-radius: 0.35em; vertical-align: middle; margin-left: 0.5rem\">ADDRESS</span>\n",
              "</mark>\n",
              " Back News Press Releases Budget \n",
              "<mark class=\"entity\" style=\"background: #ddd; padding: 0.45em 0.6em; margin: 0 0.25em; line-height: 1; border-radius: 0.35em;\">\n",
              "    State Orders and\n",
              "    <span style=\"font-size: 0.8em; font-weight: bold; line-height: 1; border-radius: 0.35em; vertical-align: middle; margin-left: 0.5rem\">ADDRESS</span>\n",
              "</mark>\n",
              " Directives Flag Honors \n",
              "<mark class=\"entity\" style=\"background: #ddd; padding: 0.45em 0.6em; margin: 0 0.25em; line-height: 1; border-radius: 0.35em;\">\n",
              "    State of the State\n",
              "    <span style=\"font-size: 0.8em; font-weight: bold; line-height: 1; border-radius: 0.35em; vertical-align: middle; margin-left: 0.5rem\">ADDRESS</span>\n",
              "</mark>\n",
              " Proclamations Back Press Releases Back Budget Back \n",
              "<mark class=\"entity\" style=\"background: #ddd; padding: 0.45em 0.6em; margin: 0 0.25em; line-height: 1; border-radius: 0.35em;\">\n",
              "    State Orders and\n",
              "    <span style=\"font-size: 0.8em; font-weight: bold; line-height: 1; border-radius: 0.35em; vertical-align: middle; margin-left: 0.5rem\">ADDRESS</span>\n",
              "</mark>\n",
              " Directives Back Flag Honors Back \n",
              "<mark class=\"entity\" style=\"background: #ddd; padding: 0.45em 0.6em; margin: 0 0.25em; line-height: 1; border-radius: 0.35em;\">\n",
              "    State of the State\n",
              "    <span style=\"font-size: 0.8em; font-weight: bold; line-height: 1; border-radius: 0.35em; vertical-align: middle; margin-left: 0.5rem\">ADDRESS</span>\n",
              "</mark>\n",
              " 2022 \n",
              "<mark class=\"entity\" style=\"background: #ddd; padding: 0.45em 0.6em; margin: 0 0.25em; line-height: 1; border-radius: 0.35em;\">\n",
              "    State of the State\n",
              "    <span style=\"font-size: 0.8em; font-weight: bold; line-height: 1; border-radius: 0.35em; vertical-align: middle; margin-left: 0.5rem\">ADDRESS</span>\n",
              "</mark>\n",
              " 2021 \n",
              "<mark class=\"entity\" style=\"background: #ddd; padding: 0.45em 0.6em; margin: 0 0.25em; line-height: 1; border-radius: 0.35em;\">\n",
              "    State of the State\n",
              "    <span style=\"font-size: 0.8em; font-weight: bold; line-height: 1; border-radius: 0.35em; vertical-align: middle; margin-left: 0.5rem\">ADDRESS</span>\n",
              "</mark>\n",
              " 2020 \n",
              "<mark class=\"entity\" style=\"background: #ddd; padding: 0.45em 0.6em; margin: 0 0.25em; line-height: 1; border-radius: 0.35em;\">\n",
              "    State of the State\n",
              "    <span style=\"font-size: 0.8em; font-weight: bold; line-height: 1; border-radius: 0.35em; vertical-align: middle; margin-left: 0.5rem\">ADDRESS</span>\n",
              "</mark>\n",
              " 2019 \n",
              "<mark class=\"entity\" style=\"background: #ddd; padding: 0.45em 0.6em; margin: 0 0.25em; line-height: 1; border-radius: 0.35em;\">\n",
              "    State of the State\n",
              "    <span style=\"font-size: 0.8em; font-weight: bold; line-height: 1; border-radius: 0.35em; vertical-align: middle; margin-left: 0.5rem\">ADDRESS</span>\n",
              "</mark>\n",
              " Back Proclamations Back Issues &amp; Accomplishments Accomplishments Michigan Infrastructure Office Sunshine Tribal Affairs Back Accomplishments Back \n",
              "<mark class=\"entity\" style=\"background: #ddd; padding: 0.45em 0.6em; margin: 0 0.25em; line-height: 1; border-radius: 0.35em;\">\n",
              "    Michigan Infrastructure Office\n",
              "    <span style=\"font-size: 0.8em; font-weight: bold; line-height: 1; border-radius: 0.35em; vertical-align: middle; margin-left: 0.5rem\">ADDRESS</span>\n",
              "</mark>\n",
              " Back Sunshine Back Tribal Affairs Back Appointments Back Lt \n",
              "<mark class=\"entity\" style=\"background: #ddd; padding: 0.45em 0.6em; margin: 0 0.25em; line-height: 1; border-radius: 0.35em;\">\n",
              "    Governor\n",
              "    <span style=\"font-size: 0.8em; font-weight: bold; line-height: 1; border-radius: 0.35em; vertical-align: middle; margin-left: 0.5rem\">ADDRESS</span>\n",
              "</mark>\n",
              " Thriving Cities Back Thriving Cities Ann Arbor Battle Creek Bay \n",
              "<mark class=\"entity\" style=\"background: #ddd; padding: 0.45em 0.6em; margin: 0 0.25em; line-height: 1; border-radius: 0.35em;\">\n",
              "    City Benton Harbor\n",
              "    <span style=\"font-size: 0.8em; font-weight: bold; line-height: 1; border-radius: 0.35em; vertical-align: middle; margin-left: 0.5rem\">ADDRESS</span>\n",
              "</mark>\n",
              " Dearborn Detroit Flint Grand Rapids Inkster Jackson Kalamazoo Lansing Marquette Muskegon Pontiac Saginaw Southfield Warren Ypsilanti Back Contact the Governor Header Search Box Label {D47FBCAD-4189-4E1B-B94C-362637BF389B} https://dev.michigan.local/som/json?sc_device=json WHITMER Popular on michigan.gov Agriculture and Rural Development Civil Rights Environment Health and Human Services Natural Resources \n",
              "<mark class=\"entity\" style=\"background: #ddd; padding: 0.45em 0.6em; margin: 0 0.25em; line-height: 1; border-radius: 0.35em;\">\n",
              "    Secretary of State\n",
              "    <span style=\"font-size: 0.8em; font-weight: bold; line-height: 1; border-radius: 0.35em; vertical-align: middle; margin-left: 0.5rem\">ADDRESS</span>\n",
              "</mark>\n",
              " How Do I... Register to Vote Renew My License Plate View assistance programs Unsupported Browser Detected The web Browser you are currently using is unsupported, and some features of this site may not work as intended. Please update to a modern browser such as Chrome, Firefox or Edge to experience all features Michigan.gov has to offer. Supported Browsers Google Chrome Safari Microsoft Edge Firefox Lt. \n",
              "<mark class=\"entity\" style=\"background: #ddd; padding: 0.45em 0.6em; margin: 0 0.25em; line-height: 1; border-radius: 0.35em;\">\n",
              "    Governor\n",
              "    <span style=\"font-size: 0.8em; font-weight: bold; line-height: 1; border-radius: 0.35em; vertical-align: middle; margin-left: 0.5rem\">ADDRESS</span>\n",
              "</mark>\n",
              " Garlin Gilchrist II Photo of the Lt \n",
              "<mark class=\"entity\" style=\"background: #ddd; padding: 0.45em 0.6em; margin: 0 0.25em; line-height: 1; border-radius: 0.35em;\">\n",
              "    Governor\n",
              "    <span style=\"font-size: 0.8em; font-weight: bold; line-height: 1; border-radius: 0.35em; vertical-align: middle; margin-left: 0.5rem\">ADDRESS</span>\n",
              "</mark>\n",
              " with his family. \n",
              "<mark class=\"entity\" style=\"background: #ddd; padding: 0.45em 0.6em; margin: 0 0.25em; line-height: 1; border-radius: 0.35em;\">\n",
              "    Lt. Governor\n",
              "    <span style=\"font-size: 0.8em; font-weight: bold; line-height: 1; border-radius: 0.35em; vertical-align: middle; margin-left: 0.5rem\">ADDRESS</span>\n",
              "</mark>\n",
              " Garlin Gilchrist II Whitmer Lt \n",
              "<mark class=\"entity\" style=\"background: #ddd; padding: 0.45em 0.6em; margin: 0 0.25em; line-height: 1; border-radius: 0.35em;\">\n",
              "    Governor\n",
              "    <span style=\"font-size: 0.8em; font-weight: bold; line-height: 1; border-radius: 0.35em; vertical-align: middle; margin-left: 0.5rem\">ADDRESS</span>\n",
              "</mark>\n",
              " \n",
              "<mark class=\"entity\" style=\"background: #ddd; padding: 0.45em 0.6em; margin: 0 0.25em; line-height: 1; border-radius: 0.35em;\">\n",
              "    Lt Governor Gilchrist High Resolution\n",
              "    <span style=\"font-size: 0.8em; font-weight: bold; line-height: 1; border-radius: 0.35em; vertical-align: middle; margin-left: 0.5rem\">ADDRESS</span>\n",
              "</mark>\n",
              " Headshot \n",
              "<mark class=\"entity\" style=\"background: #ddd; padding: 0.45em 0.6em; margin: 0 0.25em; line-height: 1; border-radius: 0.35em;\">\n",
              "    Lt. Governor\n",
              "    <span style=\"font-size: 0.8em; font-weight: bold; line-height: 1; border-radius: 0.35em; vertical-align: middle; margin-left: 0.5rem\">ADDRESS</span>\n",
              "</mark>\n",
              " Garlin Gilchrist II Thriving Cities Share Your Opinion Schedule Requests Download Official High-Resolution Headshot of Lt. \n",
              "<mark class=\"entity\" style=\"background: #ddd; padding: 0.45em 0.6em; margin: 0 0.25em; line-height: 1; border-radius: 0.35em;\">\n",
              "    Governor\n",
              "    <span style=\"font-size: 0.8em; font-weight: bold; line-height: 1; border-radius: 0.35em; vertical-align: middle; margin-left: 0.5rem\">ADDRESS</span>\n",
              "</mark>\n",
              " Gilchrist \n",
              "<mark class=\"entity\" style=\"background: #ddd; padding: 0.45em 0.6em; margin: 0 0.25em; line-height: 1; border-radius: 0.35em;\">\n",
              "    Lieutenant Governor\n",
              "    <span style=\"font-size: 0.8em; font-weight: bold; line-height: 1; border-radius: 0.35em; vertical-align: middle; margin-left: 0.5rem\">ADDRESS</span>\n",
              "</mark>\n",
              " Garlin Gilchrist has dedicated his career to solving problems. An engineer by training, he uses thoughtful innovation, progressive reform, and efficient modernization of policies and programs to make the work better for hardworking families. From spearheading campaigns for equality and justice to harnessing technology to solve real problems, his focus has consistently remained on serving the public and getting things done. He brings a lifetime of experience to the task, receiving his first computer at age five and setting up a computer lab in a Detroit community recreation center using computers that he built himself at age \n",
              "<mark class=\"entity\" style=\"background: #ddd; padding: 0.45em 0.6em; margin: 0 0.25em; line-height: 1; border-radius: 0.35em;\">\n",
              "    16. Lt. Governor\n",
              "    <span style=\"font-size: 0.8em; font-weight: bold; line-height: 1; border-radius: 0.35em; vertical-align: middle; margin-left: 0.5rem\">ADDRESS</span>\n",
              "</mark>\n",
              " Gilchrist studied computer engineering and computer science at the University of Michigan, graduating with honors, and later had a successful career as a software engineer at Microsoft, helping to build SharePoint into the fastest growing product in the company’s history. \n",
              "<mark class=\"entity\" style=\"background: #ddd; padding: 0.45em 0.6em; margin: 0 0.25em; line-height: 1; border-radius: 0.35em;\">\n",
              "    Lt. Governor\n",
              "    <span style=\"font-size: 0.8em; font-weight: bold; line-height: 1; border-radius: 0.35em; vertical-align: middle; margin-left: 0.5rem\">ADDRESS</span>\n",
              "</mark>\n",
              " Gilchrist spent the next several years of his career as a social entrepreneur and community organizer who helped people in communities across America realize their full economic and political potential. Upon returning home to Detroit, Lt. \n",
              "<mark class=\"entity\" style=\"background: #ddd; padding: 0.45em 0.6em; margin: 0 0.25em; line-height: 1; border-radius: 0.35em;\">\n",
              "    Governor\n",
              "    <span style=\"font-size: 0.8em; font-weight: bold; line-height: 1; border-radius: 0.35em; vertical-align: middle; margin-left: 0.5rem\">ADDRESS</span>\n",
              "</mark>\n",
              " Gilchrist worked in local government to make sure build systems that made the government more responsive, transparent, and accountable to city residents. This experience prepared him for a key priority: to bring Michigan’s state government fully into the 21 st century on every level. As part of the Whitmer Administration, Lt. \n",
              "<mark class=\"entity\" style=\"background: #ddd; padding: 0.45em 0.6em; margin: 0 0.25em; line-height: 1; border-radius: 0.35em;\">\n",
              "    Governor\n",
              "    <span style=\"font-size: 0.8em; font-weight: bold; line-height: 1; border-radius: 0.35em; vertical-align: middle; margin-left: 0.5rem\">ADDRESS</span>\n",
              "</mark>\n",
              " Gilchrist has sought to address injustice and inequity across our state at every level. From co-chairing the Michigan Joint Task Force on Jail and Pretrial Incarceration to helming the Coronavirus Task Force on Racial Disparities, these task forces have taken actions that saved lives and protect our most vulnerable populations. \n",
              "<mark class=\"entity\" style=\"background: #ddd; padding: 0.45em 0.6em; margin: 0 0.25em; line-height: 1; border-radius: 0.35em;\">\n",
              "    Lt. Governor\n",
              "    <span style=\"font-size: 0.8em; font-weight: bold; line-height: 1; border-radius: 0.35em; vertical-align: middle; margin-left: 0.5rem\">ADDRESS</span>\n",
              "</mark>\n",
              " Gilchrist’s approach to addressing these disparities is deeply rooted in fact-based practices, science, and connecting with individuals across Michigan. \n",
              "<mark class=\"entity\" style=\"background: #ddd; padding: 0.45em 0.6em; margin: 0 0.25em; line-height: 1; border-radius: 0.35em;\">\n",
              "    Lt. Governor\n",
              "    <span style=\"font-size: 0.8em; font-weight: bold; line-height: 1; border-radius: 0.35em; vertical-align: middle; margin-left: 0.5rem\">ADDRESS</span>\n",
              "</mark>\n",
              " Garlin Gilchrist and his wife, Ellen, reside in Detroit where they are raising their twins, Emily and Garlin III, and daughter, Ruby. Social Media Powered by Curator.io Follow us Lt. \n",
              "<mark class=\"entity\" style=\"background: #ddd; padding: 0.45em 0.6em; margin: 0 0.25em; line-height: 1; border-radius: 0.35em;\">\n",
              "    Governor\n",
              "    <span style=\"font-size: 0.8em; font-weight: bold; line-height: 1; border-radius: 0.35em; vertical-align: middle; margin-left: 0.5rem\">ADDRESS</span>\n",
              "</mark>\n",
              " Garlin Gilchrist II Copyright  State of Michigan Careers Balancing a rewarding career with the ability to have a high-quality lifestyle is important. In Michigan, you can have both. If you’re interested in a career that allows you to make a difference, check out the state of Michigan career portal for a list of current openings in state government. Careers Contact the \n",
              "<mark class=\"entity\" style=\"background: #ddd; padding: 0.45em 0.6em; margin: 0 0.25em; line-height: 1; border-radius: 0.35em;\">\n",
              "    Governor Governor\n",
              "    <span style=\"font-size: 0.8em; font-weight: bold; line-height: 1; border-radius: 0.35em; vertical-align: middle; margin-left: 0.5rem\">ADDRESS</span>\n",
              "</mark>\n",
              " Whitmer’s office is available to assist Michiganders with matters pertaining to a state government department and agencies. To share an opinion with the Governor’s office or to request assistance with matters pertaining to state government, please follow the link below. Contact the Governor Sign-up for Email Alerts Submit Copyright 2022 \n",
              "<mark class=\"entity\" style=\"background: #ddd; padding: 0.45em 0.6em; margin: 0 0.25em; line-height: 1; border-radius: 0.35em;\">\n",
              "    State of Michigan\n",
              "    <span style=\"font-size: 0.8em; font-weight: bold; line-height: 1; border-radius: 0.35em; vertical-align: middle; margin-left: 0.5rem\">ADDRESS</span>\n",
              "</mark>\n",
              " Mi.gov Home Policies Accessibility Disability Resources \n",
              "<mark class=\"entity\" style=\"background: #ddd; padding: 0.45em 0.6em; margin: 0 0.25em; line-height: 1; border-radius: 0.35em;\">\n",
              "    Statewide FOIA Directory Departments\n",
              "    <span style=\"font-size: 0.8em; font-weight: bold; line-height: 1; border-radius: 0.35em; vertical-align: middle; margin-left: 0.5rem\">ADDRESS</span>\n",
              "</mark>\n",
              "</div></span>"
            ]
          },
          "metadata": {}
        }
      ]
    },
    {
      "cell_type": "code",
      "source": [
        "texts =\"Jeff M. Witte Director/Secretary of Agriculture Skip to main content New Mexico Department of Agriculture Search our site: Assistance Programs Forms & Applications Licensing & Registration Inspections Statutes & Rules Divisions Divisions Public Records Request Agricultural & Environmental Services: Agricultural & Environmental Services Entomology & Nursery Industries NMDA Hemp Program Pesticide Compliance Agricultural Production Services: Biosecurity Dairy: General Information Feed, Seed, and Fertilizer: Commercial Feed: General Information Fertilizer and Soil Conditioners Seed: General Information FSMA - Produce Safety: Food Safety Modernization Act Food Safety Resources Agricultural Programs & Resources: Acequia and Community Ditch Fund Agricultural Workforce Development Program Healthy Soil Program Noxious Weed Information Rangeland and Grazing Issues SWCC Agendas and Approved Minutes Water and Natural Resource Policy Soil and Water Conservation Districts: Districts Open Act Meetings Resources References and Resources for SWCD Director's/Secretary's Office: Director's/Secretary's Office Laboratories: Petroleum Standards Laboratory Metrology Laboratory State Chemist Laboratory State Seed Laboratory Veterinary Diagnostic Services Marketing & Development: Competitive Grant Programs International Marketing New Mexico-Taste The Tradition® NMDA Organic Program Standards & Consumer Services: Standards & Consumer Services Veterinary Diagnostic Services: Veterinary Diagnostic Services Apiaries Commercial Feed Inspections Dairy Inspections Egg Inspections Fertilizer and Soil Conditioners Fruit and Vegetable Inspections Livestock Scale Inspections New Mexico Pesticide Inspections Petroleum Standards Program Plant Inspections, Certifications and Quarantines Seed: General Information Standards & Consumer Services Apiaries New Mexico Chile Labeling Commercial Feed Registration Dairy Permits Egg Licensing Fertilizer/Soil Conditioner Registration Hemp Registration Nursery Licensing Pecan Buyer's Licenses & Registration Pesticide Compliance Weighmaster Licensing Weights & Measures Licensing & Registration News: Vineyard funding available to wine industry Enroll to be a listeria control specialist Cheeseburgers and salsas battle it out at fair Products of enchantment at state fair NM Food Protection Alliance Conference held Aug. 23 Pecan weevil quarantine hearings set for Aug. and Sept. Post-fire ag workshop in Mora Aug. 16 More NMDA News Resources Events: AG Day AgriFuture Educational Institute Rounders Award Ceremony Jeff M. Witte, Director/Secretary of Agriculture Jeff grew up on his family’s ranch on the Rowe Mesa between Moriarty and Las Vegas, New Mexico. He graduated from New Mexico State University (NMSU) with a bachelor’s degree in agricultural business management and a master’s degree in agricultural economics and economics. After college, Jeff worked for New Mexico Farm & Livestock Bureau as the field representative for the counties in northern New Mexico. He also represented the state’s farmers and ranchers in legislative discussions in Santa Fe. During this time, Jeff worked to bring farmer groups and rancher groups together. The Ag Group, as it’s loosely known, still gathers every year before the legislative session to set policy priorities that will benefit all of agriculture. When the session gets going, the group hosts Ag Fest to showcase to legislators and their staff the diversity of New Mexico agriculture. Jeff was instrumental in making this an annual event. Jeff first came to the New Mexico Department of Agriculture (NMDA), located in Las Cruces, in 1994. He spent the next nine years as the assistant director alongside Director/Secretary Frank DuBois. During that time, Jeff helped create the New Mexico Agricultural Leadership Program, a two-year program that aims to develop effective leaders within the state’s food, agriculture and natural resource sectors. Jeff then went to work as the director for the Office of Agricultural Biosecurity for NMDA and NMSU. He later started up the Southwest Border Food Safety and Defense Center at NMSU. In both capacities, he worked with private industry and officials at all levels of government to develop plans that will protect New Mexico agriculture as part of a homeland security strategy. Jeff still heads up trainings on the subject from time to time. Jeff was named New Mexico’s fifth permanent Director/Secretary of Agriculture in May 2011. He is past president of the National Association of State Departments of Agriculture (NASDA), past president of the Western Association of State Departments of Agriculture, past president of the Western United States Agriculture Trade Association, and past chair of Natural Resources, Pesticide Management & Environment Committee for NASDA. Jeff was appointed to the Local Government Advisory Committee (LGAC) by the U.S. Environmental Protection Agency Administrator in 2015, served as vice chairman from May 2018 to May 2021 and currently chairs the Healthy Communities work group. As a member of the LGAC, Jeff represents state-appointed officials. The committee provides advice and recommendation to the EPA Administrator to assist in developing a stronger partnership with local governments. The committee also provides direction regarding building state and local capacity to deliver environmental services and programs. In 2020, Jeff was appointed by the U.S. Environmental Protection Agency as a new member of the Farm, Ranch, and Rural Communities Committee (FRRCC). The FRRCC provides independent policy advice, information and recommendations to the EPA regarding environmental issues and policies that are of importance to agriculture and rural communities. His term ends June 2023. Jeff was also appointed by the U.S. Department of Agriculture as a new member of the Advisory Committee on Agriculture Statistics (ACAS) in 2020. The purpose of ACAS is to advise the U.S. Secretary of Agriculture and the National Agricultural Statics Service on the conduct of agricultural censuses and surveys. ACAS members represent a variety of agricultural sectors across several U.S. states and districts allowing for a broad representation of perspectives on various agricultural disciplines. He will serve as an ACAS member through June of 2022. In 2021, Jeff became a member of the NMSU Agriculture Modernization Advisory Committee (AMAC). NMSU’s College of Agricultural Consumer, and Environmental Sciences (ACES) launched a comprehensive initiative to update its buildings and programs and received funding under the 2018 and 2020 General Obligation Bonds. NMSU has ambitious plans to improve value-added agriculture, the health of New Mexicans and digitalization of agriculture in order to benefit farmers, ranchers and agricultural processors in the state. The main purpose of AMAC members is to advise, contribute expertise, make connections and serve as ambassadors for the overall mission and vision of updated agriculture facilities and programs. As a member of AMAC, Jeff will help contribute to the success of the overall project, make a positive impact on the agriculture community and higher education, and impact student learning as well as industry growth. NASDA President and New York Agriculture Commissioner Richard Ball appointed Jeff as vice chair of the association’s Natural Resources and Environment Committee in September 2021. The bulk of Jeff’s time as New Mexico’s secretary of agriculture is spent on the road, meeting with groups that represent farmers and ranchers across the state. He also works to educate legislators about New Mexico agriculture. Jeff and his wife Janet live in the southern New Mexico’s Mesilla Valley. Their son, Jeremy, received a degree in ag economics and ag business from NMSU, as well as a master’s degree in economics from George Mason University. He currently works for the U.S. Senate Committee on Agriculture as a senior staff member. Their daughter, Jennifer, received a bachelor’s degree in nursing from NMSU and currently works as a registered nurse in Albuquerque. Our website is not supported by any version of Internet Explorer. You can download a browser that is supported below. We apologize for any inconvenience. Download Chrome here Download Firefox here Main Office 3190 S. Espina Las Cruces, NM 88003 Phone: (575) 646-3007 Monday - Friday 8:00 a.m. - 5:00 p.m. Closed for lunch 12:00 p.m. - 1:00 p.m. Albuquerque District Office (ADO) 2604 Aztec NE Albuquerque, NM 87107 Phone: (505) 361-2840 Monday - Friday 8:00 a.m. - 5:00 p.m. Closed for lunch 12:00 p.m. - 1:00 p.m. NMDA Peanut Grading Station (PGS) 721 East Lime Street Portales, NM 88130 Phone: (575) 356-8393 Monday - Friday 8:00 a.m. - 5:00 p.m. Closed for lunch 12:00 p.m. - 1:00 p.m. Veterinary Diagnostic Services (VDS) 1101 Camino de Salud NE Albuquerque, NM 87102 (505) 383-9299 Phone (800) 432-9110 In State Only (505) 383-9294 Fax (505) 220-4489 After Hours Monday - Friday 7:30 a.m. - 4:30 p.m. Follow us Additional Information Directory Latest NM AG Stats Strategic Plan AG Reporting Hotline Employment Opportunities Wildlife Programs NMDA History Helpful Links Customer Concerns Accessibility © 2022 New Mexico Department of Agriculture. All Rights Reserved.\""
      ],
      "metadata": {
        "id": "2gbQ-xoJ1zGN"
      },
      "execution_count": null,
      "outputs": []
    },
    {
      "cell_type": "code",
      "source": [
        "doc = trained_nlp(texts)\n",
        "displacy.render(doc, style=\"ent\", jupyter=True)"
      ],
      "metadata": {
        "colab": {
          "base_uri": "https://localhost:8080/",
          "height": 1000
        },
        "id": "7Ex8n9HE2veh",
        "outputId": "7c5af4c3-1d9e-40fb-eb96-b38b7e53be01"
      },
      "execution_count": null,
      "outputs": [
        {
          "output_type": "display_data",
          "data": {
            "text/plain": [
              "<IPython.core.display.HTML object>"
            ],
            "text/html": [
              "<span class=\"tex2jax_ignore\"><div class=\"entities\" style=\"line-height: 2.5; direction: ltr\">\n",
              "<mark class=\"entity\" style=\"background: #ddd; padding: 0.45em 0.6em; margin: 0 0.25em; line-height: 1; border-radius: 0.35em;\">\n",
              "    Jeff M. Witte Director/Secretary of Agriculture\n",
              "    <span style=\"font-size: 0.8em; font-weight: bold; line-height: 1; border-radius: 0.35em; vertical-align: middle; margin-left: 0.5rem\">ADDRESS</span>\n",
              "</mark>\n",
              " Skip to main content \n",
              "<mark class=\"entity\" style=\"background: #ddd; padding: 0.45em 0.6em; margin: 0 0.25em; line-height: 1; border-radius: 0.35em;\">\n",
              "    New Mexico Department of Agriculture\n",
              "    <span style=\"font-size: 0.8em; font-weight: bold; line-height: 1; border-radius: 0.35em; vertical-align: middle; margin-left: 0.5rem\">ADDRESS</span>\n",
              "</mark>\n",
              " Search our site: Assistance Programs Forms &amp; Applications Licensing &amp; Registration Inspections \n",
              "<mark class=\"entity\" style=\"background: #ddd; padding: 0.45em 0.6em; margin: 0 0.25em; line-height: 1; border-radius: 0.35em;\">\n",
              "    Statutes &amp; Rules Divisions Divisions Public Records Request Agricultural &amp; Environmental Services: Agricultural &amp; Environmental Services Entomology &amp; Nursery Industries NMDA Hemp Program Pesticide Compliance Agricultural Production Services: Biosecurity Dairy: General\n",
              "    <span style=\"font-size: 0.8em; font-weight: bold; line-height: 1; border-radius: 0.35em; vertical-align: middle; margin-left: 0.5rem\">ADDRESS</span>\n",
              "</mark>\n",
              " Information Feed, Seed, and Fertilizer: Commercial Feed: General Information Fertilizer and Soil Conditioners Seed: General Information FSMA - Produce Safety: Food Safety Modernization Act Food Safety Resources Agricultural Programs &amp; Resources: Acequia and Community Ditch Fund Agricultural Workforce Development Program Healthy Soil Program Noxious Weed Information Rangeland and Grazing Issues SWCC Agendas and Approved Minutes Water and Natural Resource Policy Soil and Water Conservation Districts: Districts Open Act Meetings Resources References and Resources for SWCD Director's/\n",
              "<mark class=\"entity\" style=\"background: #ddd; padding: 0.45em 0.6em; margin: 0 0.25em; line-height: 1; border-radius: 0.35em;\">\n",
              "    Secretary's Office\n",
              "    <span style=\"font-size: 0.8em; font-weight: bold; line-height: 1; border-radius: 0.35em; vertical-align: middle; margin-left: 0.5rem\">ADDRESS</span>\n",
              "</mark>\n",
              ": Director's/\n",
              "<mark class=\"entity\" style=\"background: #ddd; padding: 0.45em 0.6em; margin: 0 0.25em; line-height: 1; border-radius: 0.35em;\">\n",
              "    Secretary's Office\n",
              "    <span style=\"font-size: 0.8em; font-weight: bold; line-height: 1; border-radius: 0.35em; vertical-align: middle; margin-left: 0.5rem\">ADDRESS</span>\n",
              "</mark>\n",
              " Laboratories: Petroleum Standards Laboratory Metrology Laboratory State Chemist Laboratory State Seed Laboratory Veterinary Diagnostic Services Marketing &amp; Development: Competitive Grant Programs International Marketing New Mexico-Taste The Tradition® NMDA Organic Program Standards &amp; Consumer Services: Standards &amp; Consumer Services Veterinary Diagnostic Services: Veterinary Diagnostic Services Apiaries Commercial Feed Inspections Dairy Inspections Egg Inspections Fertilizer and Soil Conditioners Fruit and Vegetable Inspections Livestock Scale Inspections New Mexico Pesticide Inspections Petroleum Standards Program Plant Inspections, Certifications and Quarantines Seed: General Information Standards &amp; Consumer Services Apiaries New Mexico Chile Labeling Commercial Feed Registration Dairy Permits Egg Licensing Fertilizer/Soil Conditioner Registration Hemp Registration Nursery Licensing Pecan Buyer's Licenses &amp; Registration Pesticide Compliance Weighmaster Licensing Weights &amp; Measures Licensing &amp; Registration News: Vineyard funding available to wine industry Enroll to be a listeria control specialist Cheeseburgers and salsas battle it out at fair Products of enchantment at state fair NM Food Protection Alliance Conference held Aug. 23 Pecan weevil quarantine hearings set for Aug. and Sept. Post-fire ag workshop in Mora Aug. 16 More NMDA News Resources Events: AG Day AgriFuture Educational Institute Rounders Award Ceremony Jeff M. Witte, Director/Secretary of Agriculture Jeff grew up on his family’s ranch on the Rowe Mesa between Moriarty and Las Vegas, New Mexico. He graduated from New Mexico State University (NMSU) with a bachelor’s degree in agricultural business management and a master’s degree in agricultural economics and economics. After college, Jeff worked for \n",
              "<mark class=\"entity\" style=\"background: #ddd; padding: 0.45em 0.6em; margin: 0 0.25em; line-height: 1; border-radius: 0.35em;\">\n",
              "    New Mexico Farm &amp; Livestock Bureau\n",
              "    <span style=\"font-size: 0.8em; font-weight: bold; line-height: 1; border-radius: 0.35em; vertical-align: middle; margin-left: 0.5rem\">ADDRESS</span>\n",
              "</mark>\n",
              " as the field representative for the counties in northern New Mexico. He also represented the state’s farmers and ranchers in legislative discussions in Santa Fe. During this time, Jeff worked to bring farmer groups and rancher groups together. The Ag Group, as it’s loosely known, still gathers every year before the legislative session to set policy priorities that will benefit all of agriculture. When the session gets going, the group hosts Ag Fest to showcase to legislators and their staff the diversity of New Mexico agriculture. Jeff was instrumental in making this an annual event. Jeff first came to the New Mexico Department of Agriculture (NMDA), located in Las Cruces, in 1994. He spent the next nine years as the assistant director alongside Director/\n",
              "<mark class=\"entity\" style=\"background: #ddd; padding: 0.45em 0.6em; margin: 0 0.25em; line-height: 1; border-radius: 0.35em;\">\n",
              "    Secretary Frank DuBois.\n",
              "    <span style=\"font-size: 0.8em; font-weight: bold; line-height: 1; border-radius: 0.35em; vertical-align: middle; margin-left: 0.5rem\">ADDRESS</span>\n",
              "</mark>\n",
              " During that time, Jeff helped create the New Mexico Agricultural Leadership Program, a two-year program that aims to develop effective leaders within the state’s food, agriculture and natural resource sectors. Jeff then went to work as the director for the Office of Agricultural Biosecurity for NMDA and NMSU. He later started up the Southwest Border Food Safety and Defense Center at NMSU. In both capacities, he worked with private industry and officials at all levels of government to develop plans that will protect New Mexico agriculture as part of a homeland security strategy. Jeff still heads up trainings on the subject from time to time. Jeff was named New Mexico’s fifth permanent Director/Secretary of Agriculture in May 2011. He is past president of the National Association of \n",
              "<mark class=\"entity\" style=\"background: #ddd; padding: 0.45em 0.6em; margin: 0 0.25em; line-height: 1; border-radius: 0.35em;\">\n",
              "    State Departments of Agriculture\n",
              "    <span style=\"font-size: 0.8em; font-weight: bold; line-height: 1; border-radius: 0.35em; vertical-align: middle; margin-left: 0.5rem\">ADDRESS</span>\n",
              "</mark>\n",
              " (NASDA), past president of the Western Association of \n",
              "<mark class=\"entity\" style=\"background: #ddd; padding: 0.45em 0.6em; margin: 0 0.25em; line-height: 1; border-radius: 0.35em;\">\n",
              "    State Departments of Agriculture, past president of the Western\n",
              "    <span style=\"font-size: 0.8em; font-weight: bold; line-height: 1; border-radius: 0.35em; vertical-align: middle; margin-left: 0.5rem\">ADDRESS</span>\n",
              "</mark>\n",
              " United States Agriculture Trade Association, and past chair of Natural Resources, Pesticide Management &amp; \n",
              "<mark class=\"entity\" style=\"background: #ddd; padding: 0.45em 0.6em; margin: 0 0.25em; line-height: 1; border-radius: 0.35em;\">\n",
              "    Environment Committee\n",
              "    <span style=\"font-size: 0.8em; font-weight: bold; line-height: 1; border-radius: 0.35em; vertical-align: middle; margin-left: 0.5rem\">ADDRESS</span>\n",
              "</mark>\n",
              " for NASDA. Jeff was appointed to the Local Government Advisory Committee (LGAC) by the U.S. Environmental Protection Agency Administrator in 2015, served as vice chairman from May 2018 to May 2021 and currently chairs the Healthy Communities work group. As a member of the LGAC, Jeff represents state-appointed officials. The committee provides advice and recommendation to the EPA Administrator to assist in developing a stronger partnership with local governments. The committee also provides direction regarding building state and local capacity to deliver environmental services and programs. In 2020, Jeff was appointed by the U.S. Environmental Protection Agency as a new member of the Farm, Ranch, and Rural \n",
              "<mark class=\"entity\" style=\"background: #ddd; padding: 0.45em 0.6em; margin: 0 0.25em; line-height: 1; border-radius: 0.35em;\">\n",
              "    Communities Committee (FRRCC). The FRRCC provides independent policy advice, information and recommendations to the EPA regarding environmental issues and policies that are of importance to agriculture and rural communities.\n",
              "    <span style=\"font-size: 0.8em; font-weight: bold; line-height: 1; border-radius: 0.35em; vertical-align: middle; margin-left: 0.5rem\">ADDRESS</span>\n",
              "</mark>\n",
              " His term ends June 2023. Jeff was also appointed by the U.S. Department of Agriculture as a new member of the Advisory Committee on Agriculture Statistics (ACAS) in 2020. The purpose of ACAS is to advise the U.S. \n",
              "<mark class=\"entity\" style=\"background: #ddd; padding: 0.45em 0.6em; margin: 0 0.25em; line-height: 1; border-radius: 0.35em;\">\n",
              "    Secretary of Agriculture\n",
              "    <span style=\"font-size: 0.8em; font-weight: bold; line-height: 1; border-radius: 0.35em; vertical-align: middle; margin-left: 0.5rem\">ADDRESS</span>\n",
              "</mark>\n",
              " and the National Agricultural Statics Service on the conduct of agricultural censuses and surveys. ACAS members represent a variety of agricultural sectors across several U.S. states and districts allowing for a broad representation of perspectives on various agricultural disciplines. He will serve as an ACAS member through June of 2022. In 2021, Jeff became a member of the NMSU Agriculture Modernization Advisory Committee (AMAC). NMSU’s College of Agricultural Consumer, and Environmental Sciences (ACES) launched a comprehensive initiative to update its buildings and programs and received funding under the 2018 and 2020 General Obligation Bonds. NMSU has ambitious plans to improve value-added agriculture, the health of New Mexicans and digitalization of agriculture in order to benefit farmers, ranchers and agricultural processors in the state. The main purpose of AMAC members is to advise, contribute expertise, make connections and serve as ambassadors for the overall mission and vision of updated agriculture facilities and programs. As a member of AMAC, Jeff will help contribute to the success of the overall project, make a positive impact on the agriculture community and higher education, and impact student learning as well as industry growth. NASDA \n",
              "<mark class=\"entity\" style=\"background: #ddd; padding: 0.45em 0.6em; margin: 0 0.25em; line-height: 1; border-radius: 0.35em;\">\n",
              "    President and New York Agriculture Commissioner Richard Ball appointed\n",
              "    <span style=\"font-size: 0.8em; font-weight: bold; line-height: 1; border-radius: 0.35em; vertical-align: middle; margin-left: 0.5rem\">ADDRESS</span>\n",
              "</mark>\n",
              " Jeff as vice chair of the association’s Natural Resources and Environment Committee in September 2021. The bulk of Jeff’s time as New Mexico’s secretary of agriculture is spent on the road, meeting with groups that represent farmers and ranchers across the state. He also works to educate legislators about New Mexico agriculture. Jeff and his wife Janet live in the southern New Mexico’s Mesilla Valley. Their son, Jeremy, received a degree in ag economics and ag business from NMSU, as well as a master’s degree in economics from George Mason University. He currently works for the U.S. \n",
              "<mark class=\"entity\" style=\"background: #ddd; padding: 0.45em 0.6em; margin: 0 0.25em; line-height: 1; border-radius: 0.35em;\">\n",
              "    Senate\n",
              "    <span style=\"font-size: 0.8em; font-weight: bold; line-height: 1; border-radius: 0.35em; vertical-align: middle; margin-left: 0.5rem\">ADDRESS</span>\n",
              "</mark>\n",
              " \n",
              "<mark class=\"entity\" style=\"background: #ddd; padding: 0.45em 0.6em; margin: 0 0.25em; line-height: 1; border-radius: 0.35em;\">\n",
              "    Committee\n",
              "    <span style=\"font-size: 0.8em; font-weight: bold; line-height: 1; border-radius: 0.35em; vertical-align: middle; margin-left: 0.5rem\">ADDRESS</span>\n",
              "</mark>\n",
              " on Agriculture as a senior staff member. Their daughter, Jennifer, received a bachelor’s degree in nursing from NMSU and currently works as a registered nurse in Albuquerque. Our website is not supported by any version of Internet Explorer. You can download a browser that is supported below. We apologize for any inconvenience. Download Chrome here Download Firefox here \n",
              "<mark class=\"entity\" style=\"background: #ddd; padding: 0.45em 0.6em; margin: 0 0.25em; line-height: 1; border-radius: 0.35em;\">\n",
              "    Main Office\n",
              "    <span style=\"font-size: 0.8em; font-weight: bold; line-height: 1; border-radius: 0.35em; vertical-align: middle; margin-left: 0.5rem\">ADDRESS</span>\n",
              "</mark>\n",
              " \n",
              "<mark class=\"entity\" style=\"background: #ddd; padding: 0.45em 0.6em; margin: 0 0.25em; line-height: 1; border-radius: 0.35em;\">\n",
              "    3190 S. Espina\n",
              "    <span style=\"font-size: 0.8em; font-weight: bold; line-height: 1; border-radius: 0.35em; vertical-align: middle; margin-left: 0.5rem\">ADDRESS</span>\n",
              "</mark>\n",
              " Las Cruces, NM 88003 Phone: (575) 646-3007 Monday - Friday \n",
              "<mark class=\"entity\" style=\"background: #ddd; padding: 0.45em 0.6em; margin: 0 0.25em; line-height: 1; border-radius: 0.35em;\">\n",
              "    8:00 a.m. - 5:00 p.m. Closed\n",
              "    <span style=\"font-size: 0.8em; font-weight: bold; line-height: 1; border-radius: 0.35em; vertical-align: middle; margin-left: 0.5rem\">ADDRESS</span>\n",
              "</mark>\n",
              " for lunch 12:00 p.m. - 1:00 \n",
              "<mark class=\"entity\" style=\"background: #ddd; padding: 0.45em 0.6em; margin: 0 0.25em; line-height: 1; border-radius: 0.35em;\">\n",
              "    p.m. Albuquerque District Office\n",
              "    <span style=\"font-size: 0.8em; font-weight: bold; line-height: 1; border-radius: 0.35em; vertical-align: middle; margin-left: 0.5rem\">ADDRESS</span>\n",
              "</mark>\n",
              " (ADO) 2604 Aztec NE Albuquerque, NM 87107 Phone: (505) 361-2840 Monday - Friday \n",
              "<mark class=\"entity\" style=\"background: #ddd; padding: 0.45em 0.6em; margin: 0 0.25em; line-height: 1; border-radius: 0.35em;\">\n",
              "    8:00 a.m. - 5:00 p.m. Closed\n",
              "    <span style=\"font-size: 0.8em; font-weight: bold; line-height: 1; border-radius: 0.35em; vertical-align: middle; margin-left: 0.5rem\">ADDRESS</span>\n",
              "</mark>\n",
              " for lunch 12:00 p.m. - 1:00 p.m. NMDA Peanut Grading Station (PGS) \n",
              "<mark class=\"entity\" style=\"background: #ddd; padding: 0.45em 0.6em; margin: 0 0.25em; line-height: 1; border-radius: 0.35em;\">\n",
              "    721 East Lime Street\n",
              "    <span style=\"font-size: 0.8em; font-weight: bold; line-height: 1; border-radius: 0.35em; vertical-align: middle; margin-left: 0.5rem\">ADDRESS</span>\n",
              "</mark>\n",
              " Portales, NM 88130 Phone: (575) 356-8393 Monday - Friday \n",
              "<mark class=\"entity\" style=\"background: #ddd; padding: 0.45em 0.6em; margin: 0 0.25em; line-height: 1; border-radius: 0.35em;\">\n",
              "    8:00 a.m. - 5:00 p.m. Closed\n",
              "    <span style=\"font-size: 0.8em; font-weight: bold; line-height: 1; border-radius: 0.35em; vertical-align: middle; margin-left: 0.5rem\">ADDRESS</span>\n",
              "</mark>\n",
              " for lunch 12:00 p.m. - 1:00 p.m. Veterinary Diagnostic Services (VDS) 1101 Camino de Salud NE Albuquerque, NM 87102 (505) 383-9299 Phone (800) 432-9110 In State Only (505) 383-9294 Fax (505) 220-4489 After Hours Monday - Friday \n",
              "<mark class=\"entity\" style=\"background: #ddd; padding: 0.45em 0.6em; margin: 0 0.25em; line-height: 1; border-radius: 0.35em;\">\n",
              "    7:30 a.m. - 4:30 p.m.\n",
              "    <span style=\"font-size: 0.8em; font-weight: bold; line-height: 1; border-radius: 0.35em; vertical-align: middle; margin-left: 0.5rem\">ADDRESS</span>\n",
              "</mark>\n",
              " Follow us Additional Information Directory Latest NM AG Stats Strategic Plan AG Reporting Hotline Employment Opportunities Wildlife Programs NMDA History Helpful Links Customer Concerns Accessibility © 2022 \n",
              "<mark class=\"entity\" style=\"background: #ddd; padding: 0.45em 0.6em; margin: 0 0.25em; line-height: 1; border-radius: 0.35em;\">\n",
              "    New Mexico Department of Agriculture.\n",
              "    <span style=\"font-size: 0.8em; font-weight: bold; line-height: 1; border-radius: 0.35em; vertical-align: middle; margin-left: 0.5rem\">ADDRESS</span>\n",
              "</mark>\n",
              " All Rights Reserved.</div></span>"
            ]
          },
          "metadata": {}
        }
      ]
    }
  ]
}