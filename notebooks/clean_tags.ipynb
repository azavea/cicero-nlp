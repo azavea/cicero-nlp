{
  "nbformat": 4,
  "nbformat_minor": 0,
  "metadata": {
    "colab": {
      "provenance": []
    },
    "kernelspec": {
      "name": "python3",
      "display_name": "Python 3"
    },
    "language_info": {
      "name": "python"
    }
  },
  "cells": [
    {
      "cell_type": "markdown",
      "source": [
        "## Summary"
      ],
      "metadata": {
        "id": "kRq07Bz5L04b"
      }
    },
    {
      "cell_type": "markdown",
      "source": [
        "This code is the runnable python notebook version of `clean_tags.py`"
      ],
      "metadata": {
        "id": "UkUZVk6-L2j1"
      }
    },
    {
      "cell_type": "markdown",
      "source": [
        "This file is used to clean the tags in the webpages stored in the target directory,\n",
        "and save the cleaned webpages into a json file."
      ],
      "metadata": {
        "id": "mP8ayl6gL2mi"
      }
    },
    {
      "cell_type": "markdown",
      "source": [
        "The extracted emails will be saved into a json file and will be used for creating the reformatted email dataset."
      ],
      "metadata": {
        "id": "UkGyZ6VDLhUw"
      }
    },
    {
      "cell_type": "markdown",
      "source": [
        "## Import"
      ],
      "metadata": {
        "id": "zvgpugmoLuT7"
      }
    },
    {
      "cell_type": "code",
      "source": [
        "import os\n",
        "import re\n",
        "import json\n",
        "import collections\n",
        "import glob\n",
        "from tqdm import tqdm\n",
        "from bs4 import BeautifulSoup\n",
        "from pathlib import Path"
      ],
      "metadata": {
        "id": "K2p2KsSzLt9c"
      },
      "execution_count": 8,
      "outputs": []
    },
    {
      "cell_type": "markdown",
      "source": [
        "## Clean tags"
      ],
      "metadata": {
        "id": "rpal_qqrMRjb"
      }
    },
    {
      "cell_type": "code",
      "source": [
        "input = \"/content/drive/MyDrive/test_results_12062022/scraped_pages/\""
      ],
      "metadata": {
        "id": "CyUxXvRdMQob"
      },
      "execution_count": 10,
      "outputs": []
    },
    {
      "cell_type": "code",
      "source": [
        "output = Path(\"./\")"
      ],
      "metadata": {
        "id": "c0FYJTMHNBcF"
      },
      "execution_count": 9,
      "outputs": []
    },
    {
      "cell_type": "code",
      "execution_count": 5,
      "metadata": {
        "id": "4VCLAGXOLrIF"
      },
      "outputs": [],
      "source": [
        "def remove_tags_and_extract_emails(html):\n",
        "    # parse html content\n",
        "    soup = BeautifulSoup(html, \"html.parser\")\n",
        "\n",
        "    # extract emails\n",
        "    pattern = re.compile(\"[a-zA-Z0-9_.+-]+@[a-zA-Z0-9-]+\\.[a-zA-Z0-9-.]+\")\n",
        "    emails = re.findall(pattern, str(soup))\n",
        "  \n",
        "    for data in soup(['style', 'script']):\n",
        "        # Remove style and script part\n",
        "        data.decompose()\n",
        "  \n",
        "    # return data by retrieving the tag content\n",
        "    return ' '.join(soup.stripped_strings), emails"
      ]
    },
    {
      "cell_type": "code",
      "source": [
        "# create the cleaned webpages\n",
        "cleaned_webpages = collections.defaultdict()\n",
        "# create the extracted email\n",
        "extracted_emails = collections.defaultdict()\n",
        "\n",
        "# clean the webpages\n",
        "for file in tqdm(glob.glob(f\"{input}/*.html\")):\n",
        "    politician_id = file.split(\"/\")[-1].split(\".\")[0]\n",
        "    with open(file, \"r\") as f:\n",
        "        html = f.read()\n",
        "        content, emails = remove_tags_and_extract_emails(html)\n",
        "        cleaned_webpages[politician_id] = content\n",
        "        extracted_emails[politician_id] = emails"
      ],
      "metadata": {
        "colab": {
          "base_uri": "https://localhost:8080/"
        },
        "id": "sIf3eEIHMlsz",
        "outputId": "e7a5b4fb-3760-4101-f54c-668563cd7702"
      },
      "execution_count": 7,
      "outputs": [
        {
          "output_type": "stream",
          "name": "stderr",
          "text": [
            "100%|██████████| 1181/1181 [03:24<00:00,  5.78it/s]\n"
          ]
        }
      ]
    },
    {
      "cell_type": "code",
      "source": [
        "# save the cleaned webpages\n",
        "with open(output/\"pure_text.json\", \"w\") as f:\n",
        "    json.dump(cleaned_webpages, f)"
      ],
      "metadata": {
        "id": "58I0MrqcNGgj"
      },
      "execution_count": 11,
      "outputs": []
    },
    {
      "cell_type": "code",
      "source": [
        "# save the cleaned webpages\n",
        "with open(output/'extracted_emails.json', \"w\") as f:\n",
        "    json.dump(extracted_emails, f)"
      ],
      "metadata": {
        "id": "gJzpKaL7EFE_"
      },
      "execution_count": 13,
      "outputs": []
    },
    {
      "cell_type": "code",
      "source": [
        "list(cleaned_webpages.items())[0]"
      ],
      "metadata": {
        "colab": {
          "base_uri": "https://localhost:8080/"
        },
        "id": "RebZ8cmKNlMJ",
        "outputId": "05d98339-2488-4f15-d904-a8c2370740c6"
      },
      "execution_count": 14,
      "outputs": [
        {
          "output_type": "execute_result",
          "data": {
            "text/plain": [
              "('359968',\n",
              " \"Ward 1 Members You may be trying to access this site from a secured browser on the server. Please enable scripts and reload this page. Menu Business Business in Thornton Economic development, retail operations, and commercial and residential building all work as a single entity here in Thornton. Businesses in Thornton There is a tremendous amount of opportunity within the City of Thornton for existing businesses to thrive and grow. Our elected officials and City staff dedicate a substantial amount of our efforts to creating an atmosphere that provides businesses located in Thornton with every possible advantage. Business Licenses Starting a business? Licensing is an important step toward doing business in the city. This page presents licensing information and all of the forms needed to get started in one place. All persons engaged in business in the City are required to have a City Sales and Use Tax Business License. Contracts & Purchasing Information on the city's Contracting and Purchasing processes, how to obtain solicitation documents, and more. Construction Use Tax Contractors working in the City are subject to use tax on the materials and equipment used to complete the work. Economic Development The City of Thornton maintains an economic development website, including business listings, development news, business resources, Thornton Development Authority information, etc. File Tax Return/Forms Save time and file and pay your sales and use tax return online. Taxes The City of Thornton Revenue Division collects sales tax, use tax, lodging tax, telephone tax, E-911 fees, franchise fees, PEG fees, and pawnbroker surcharge fees. These funds are essential to providing services that make the city a vital, business and family-friendly place to live. Business Businesses in Thornton Business Licenses Contracts & Purchasing Construction Use Tax Visit Economic Development's website (opens in a new tab) File Tax Return/Forms Taxes City Services City of Thornton Services It's the behind-the-scenes services that keep our lives running smoothly. So whether it's making sure clean water flows out of your tap, collecting your curbside trash and recyclables, issuing a building permit, or any number of other city services, you'll find the information you need here. Americans with Disabilities Act Americans with Disabilities Act contact information, ADA grievance information and ADA notice. Animal Control The Thornton Animal Control unit currently consists of four full-time officers who are available between the hours of 8 a.m. and 5 p.m., seven days a week, including all holidays. Building Permits/Inspections The Building Inspection Division is responsible for the Plan Review, Permit Issuance and Inspection of new construction projects and remodel of existing structures in the City of Thornton. Code Compliance The city has adopted codes (or standards) that govern the use and maintenance of private property in order to ensure that property across the community is maintained to the same standard. Construction/General Permits The City of Thornton requires licensing for all contractors involved in the construction, alteration, remodeling, repairing and equipping of buildings and structures; installation of underground utilities; construction of roads and streets and construction of all City-owned water, sewer, and storm drainage facilities. Electric & Gas Utility Depending on your location, electric and gas services are provided to residents of Thornton by Xcel Energy or United Power. This information should be on your electric or gas utility bill. Maps & Open Data Mapping information and data analysis involving the City’s Geographic Information Systems (GIS) used to assist City staff in making informed decisions about our community. Snow Removal In the event of any snowstorm, the city’s first commitment is to clear the primary routes, then secondary routes – and keep them clear. In the case of a Class III storm (and only in this case) the city will plow all residential streets. The Cone Zone The Cone Zone provides information regarding lane closures and detours impacting the City of Thornton. Traffic & Transportation The city is committed to providing a safe and efficient transportation system for all road users. Trash & Recycling The Environmental Services Team provides curbside trash and recycling collection services to over 29,000 homes in the City, as well as a number of other collection services for our citizens. U.S. Passports The City Clerk’s Office is a U.S. Department of State designated Passport Application Acceptance Facility. U.S. citizens planning international travel may apply for passports at the office, located at City Hall, 9500 Civic Center Drive, Second Floor.  Passport applications are accepted by appointment only. Utility Billing The City of Thornton provides water, sewer, and trash services to its citizens. One or more of these services are reflected in your bill each month. Water Thornton is committed to providing dependable and sustainable water resources for our customers to enjoy…now and into the future. Thornton is proud to provide quality water services, from the protection of source water, delivery of safe drinking water, wastewater collection and stormwater management and protection. Services Americans with Disabilities Act Animal Control Building Permits/Inspections Code Compliance Construction/General Permits Electric & Gas Utility Maps & Open Data Snow Removal The Cone Zone Traffic & Transportation Trash & Recycling U.S. Passports Utility Billing Water Community City News City Voice Newspaper Communications/Media Inquiries Community Promotions Thornton 8 Thornton News Releases T-Alert Email Notifications T-mail Weekly News Brief Things To Do Arts & Culture Bike to Work Day Festivals & Special Events Volunteer Thornton Residents Airplane Noise Code Compliance Community Connections New Residents Perfect Holiday Gift Photo Gallery Thornton Cares Shop Thornton Thornton Sustainability Government City Hall About Thornton City Attorney City Clerk City Code/Charter City Council City Manager Municipal Court Public Notices Voting & Elections City Departments City Development Communications Finance Human Resources Infrastructure Department Contacts City Organization Chart I WANT TO Apply for a Permit Apply for a Building Inspection File a Complaint Contact Department Report a Concern Call Non-Emergency: 720-977-5150 Public Safety Thornton's Public Safety The City of Thornton has a commitment to keep our community a safe, secure, and healthy place to live, work, and raise a family. The Police and Fire Departments and City Court system are key components of that commitment. Animal Control The Thornton Animal Control unit currently consists of four full-time officers who are available between the hours of 8 a.m. and 5 p.m., seven days a week, including all holidays. CodeRED Emergency Notifications Sign up to be notified via phone or email by your local emergency response team in the event of emergency situations or critical community alerts. Emergency Management The Thornton Office of Emergency Management plans, coordinates and supports activities to reduce community vulnerability by preparing for, responding to, recovering from, and mitigating impacts to natural and man-made disasters and large-scale emergencies. Fire Department The City of Thornton maintains a full-service Fire Department with six 24-hour fire stations. Each fire response crew consists of a station officer, firefighter/engineer, and firefighter/paramedic. Home & Business Security Cam Registry The Thornton Police Department, in an on-going partnership with residents and businesses, now has a voluntary security camera sharing program. Police Department The Thornton Police Department is led by Chief of Police Terrence Gordon and operates under the three divisions: Patrol, Administration, and Detectives, each of which is led by a Deputy Chief. Police Recruitment By joining the Thornton Police Department, you are choosing to be part of an exciting profession that delivers unparalleled job satisfaction. Public Safety The City of Thornton has a commitment to keep our community a safe, secure, and healthy place to live, work, and raise a family. Report A Crime Through the TPD Online Reporting System, you can report non-violent crimes such as damaged property, lost property, theft, forgery, identity theft or theft from a vehicle and should only be reported if the crime is not an emergency, is not traffic related, occurred within Thornton city limits, there are no known suspects, is not a violent crime and no physical evidence was left by the suspect. Call Non-Emergency Call the non-emergency number when police, fire, and animal control services are needed, but there is no urgency or emergency in the situation. Fitting circumstances could be non-violent crimes, deceased animals in the road, or vandalism with no suspect information. Public Safety Animal Control CodeRED Emergency Notifications Emergency Management Fire Department Home & Business Security Cam Registry Police Department Police Recruitment Public Safety Report A Crime Call Non-Emergency: 720-977-5150 Recreation Recreation Activity Registration All Recreation Facilities Block Party Trailer Festivals & Special Events Recreation & Parks Recreation Facilities Active Adult Center Carpenter Recreation Center Teen Center Thornton Community Center Trail Winds Recreation Center Recreation Pools City Pool Park Village Pool Parks Carpenter Park Forestry Parks Park & Recreation Finder Park Pavilion Rentals Riverwalk Ballfields Projects & Planning Activity Registration Park & Recreation Finder Park Pavilion Rentals Ward 1 Members City of Thornton Official Site Government City Council Ward 1 Members Boards & Commissions City Attorney City Council Currently selected Council Meetings Other Elected Officials Running For Council Planning Sessions and Council Updates Media City Council 9500 Civic Center Drive Thornton, CO 80229 Map to City Hall Hours: M-F, 8a-5p Closed Holidays Eric Garcia Email council member Office: 303-538-7537 Kathy Henson Email council member Office: 303-538-7534 Page Image Image Caption Page Content Eric Garcia Contact Eric Garcia Email: eric.garcia@thorntonco.gov Office: 303-538-7537 Council member, Ward 1 Voting Record Eric Garcia is a Colorado native born and raised in the city of Denver. Eric established his home in the city of Thornton in 2008 along with his wife of 21 years and 3 daughters. For more than 15 years Eric has passionately served to impact his community both nationally and internationally in countries such as Asia, and Central and South America uniting and empowering local businesses, schools and faith organizations. He served in Denver, CO as a local Pastor focusing on marginalized communities with a heartfelt approach to engage and unite community. He accomplished this through various community service efforts, including: 2017 Denver GO Bond Public Safety Chairman GRID (Gang Reduction Initiative Denver) Initiative to suppress and prevent gang violence. Denver Safe Haven Project – Provides a safe place for the community following a tragic event. Mayor Michael Hancock Faith Council Eric is an avid Colorado outdoorsman who enjoys fly fishing, camping, hunting and all things that involve Colorado’s beautiful Rocky Mountains. Eric is excited to bring his experience to Thornton City Council and the great people of Thornton. Kathy Henson Contact Kathy Henson Email: kathy.henson@thorntonco.gov Office: 303-538-7534 Council member, Ward 1 Voting Record I have lived most of my life in Colorado, having grown up in Lakewood and returning to Colorado in the 1998 with my husband, Dennis. We moved to the Ward 1 area of Thornton in 2003 and are raising our two sons here. My professional background is in the performing arts. I have a degree in voice and have worked for decades in theater as a performer, director, choreographer and producer. I have been an education advocate for years, working to ensure that students of all abilities receive the support and fair treatment guaranteed them in our public schools. I am an alum of the Adams 12 Five Star Leadership Academy and currently serve on the Finance and Audit Committee for the district. Before being elected to council, I served on the Thornton Active Adult Board, working in support of updating the master plan for services and recreation opportunities for residents aged 55+. Throughout my life I have volunteered my time and talents at church, serving for years on multiple leadership councils and search committees. I have advocated for the redevelopment of Thornton Shopping Center for several years, working together with Ward 1 residents to bring this need to light.  Revitalization of all south Thornton is a top priority for me. City planning and development throughout Thornton will be key as our city continues to grow. It is a privilege for me to serve our community and it is my goal to work together with my fellow councilors, city staff, community leaders and residents across Thornton to shape a city where all our residents can thrive. City Resources Americans with Disabilities Act About City Code Jobs News Public Records Translate Webpages Stay Connected City Council Contact My Thornton T-Alert Email Notifications TextMyGov Thornton TV Website Feedback City of Thornton | 9500 Civic Center Drive | Thornton, CO 80229 Copyright © 2022 by City of Thornton. All Rights Reserved. Privacy Policy | Sitemap | Employee Access\")"
            ]
          },
          "metadata": {},
          "execution_count": 14
        }
      ]
    },
    {
      "cell_type": "code",
      "source": [
        "list(extracted_emails.items())[0]"
      ],
      "metadata": {
        "colab": {
          "base_uri": "https://localhost:8080/"
        },
        "id": "kMUvpVoIE-k2",
        "outputId": "9d60402d-bba8-4ce9-9451-5c6a32647d7b"
      },
      "execution_count": 14,
      "outputs": [
        {
          "output_type": "execute_result",
          "data": {
            "text/plain": [
              "('359968',\n",
              " ['eric.garcia@thorntonco.gov',\n",
              "  'kathy.henson@thorntonco.gov',\n",
              "  'eric.garcia@thorntonco.gov',\n",
              "  'eric.garcia@thorntonco.gov',\n",
              "  'kathy.henson@thorntonco.gov',\n",
              "  'kathy.henson@thorntonco.gov',\n",
              "  'lozad@1.9.0'])"
            ]
          },
          "metadata": {},
          "execution_count": 14
        }
      ]
    }
  ]
}