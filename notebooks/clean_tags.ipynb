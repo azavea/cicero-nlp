{
  "cells": [
    {
      "cell_type": "markdown",
      "metadata": {
        "id": "kRq07Bz5L04b"
      },
      "source": [
        "## Summary"
      ]
    },
    {
      "cell_type": "markdown",
      "metadata": {
        "id": "UkUZVk6-L2j1"
      },
      "source": [
        "This code is the runnable python notebook version of `clean_tags.py`"
      ]
    },
    {
      "cell_type": "markdown",
      "metadata": {
        "id": "mP8ayl6gL2mi"
      },
      "source": [
        "This file is used to clean the tags in the webpages stored in the target directory,\n",
        "and save the cleaned webpages into a json file."
      ]
    },
    {
      "cell_type": "markdown",
      "metadata": {
        "id": "UkGyZ6VDLhUw"
      },
      "source": [
        "The extracted emails will also be saved into a json file and will be used for creating the synthetic email dataset."
      ]
    },
    {
      "cell_type": "markdown",
      "metadata": {
        "id": "zvgpugmoLuT7"
      },
      "source": [
        "## Import"
      ]
    },
    {
      "cell_type": "code",
      "execution_count": null,
      "metadata": {
        "id": "K2p2KsSzLt9c"
      },
      "outputs": [],
      "source": [
        "import collections\n",
        "import glob\n",
        "import json\n",
        "import os\n",
        "import re\n",
        "from pathlib import Path\n",
        "\n",
        "from bs4 import BeautifulSoup\n",
        "from tqdm import tqdm"
      ]
    },
    {
      "cell_type": "markdown",
      "metadata": {
        "id": "rpal_qqrMRjb"
      },
      "source": [
        "## Clean tags"
      ]
    },
    {
      "cell_type": "code",
      "execution_count": null,
      "metadata": {
        "id": "CyUxXvRdMQob"
      },
      "outputs": [],
      "source": [
        "input = \"<scraped_webpages_path>\""
      ]
    },
    {
      "cell_type": "code",
      "execution_count": null,
      "metadata": {
        "id": "c0FYJTMHNBcF"
      },
      "outputs": [],
      "source": [
        "output = Path(\"cleaned_texts\")"
      ]
    },
    {
      "cell_type": "code",
      "execution_count": null,
      "metadata": {
        "id": "UP7VJX8luFmT"
      },
      "outputs": [],
      "source": [
        "# detect if the output directory exists\n",
        "if not os.path.exists(output):\n",
        "    os.makedirs(output)"
      ]
    },
    {
      "cell_type": "code",
      "execution_count": null,
      "metadata": {
        "id": "4VCLAGXOLrIF"
      },
      "outputs": [],
      "source": [
        "def remove_tags_and_extract_emails(html):\n",
        "    # parse html content\n",
        "    soup = BeautifulSoup(html, \"html.parser\")\n",
        "\n",
        "    # extract emails\n",
        "    pattern = re.compile(\"[a-zA-Z0-9_.+-]+@[a-zA-Z0-9-]+\\.[a-zA-Z0-9-.]+\")\n",
        "    emails = re.findall(pattern, str(soup))\n",
        "\n",
        "    for data in soup(['style', 'script']):\n",
        "        # Remove style and script part\n",
        "        data.decompose()\n",
        "\n",
        "    # return data by retrieving the tag content\n",
        "    return ' '.join(soup.stripped_strings), emails"
      ]
    },
    {
      "cell_type": "code",
      "execution_count": null,
      "metadata": {
        "colab": {
          "base_uri": "https://localhost:8080/"
        },
        "id": "sIf3eEIHMlsz",
        "outputId": "c5dd6f5c-4d1b-4f12-d3b6-3b626e9a5304"
      },
      "outputs": [
        {
          "name": "stderr",
          "output_type": "stream",
          "text": [
            "100%|██████████| 1469/1469 [03:38<00:00,  6.71it/s]\n"
          ]
        }
      ],
      "source": [
        "# create the dictionary for pure_texts\n",
        "pure_texts = collections.defaultdict()\n",
        "# create the dictionary for extracted_emails\n",
        "extracted_emails = collections.defaultdict()\n",
        "\n",
        "# iterating\n",
        "for file in tqdm(glob.glob(f\"{input}/*.html\")):\n",
        "    politician_id = file.split(\"/\")[-1].split(\".\")[0]\n",
        "    with open(file, \"r\") as f:\n",
        "        html = f.read()\n",
        "        texts, emails = remove_tags_and_extract_emails(html)\n",
        "        pure_texts[politician_id] = texts\n",
        "        extracted_emails[politician_id] = emails"
      ]
    },
    {
      "cell_type": "code",
      "execution_count": null,
      "metadata": {
        "id": "58I0MrqcNGgj"
      },
      "outputs": [],
      "source": [
        "# save the cleaned webpages\n",
        "with open(output / \"pure_texts.json\", \"w\") as f:\n",
        "    json.dump(pure_texts, f)"
      ]
    },
    {
      "cell_type": "code",
      "execution_count": null,
      "metadata": {
        "id": "gJzpKaL7EFE_"
      },
      "outputs": [],
      "source": [
        "# save the cleaned webpages\n",
        "with open(output / 'extracted_emails.json', \"w\") as f:\n",
        "    json.dump(extracted_emails, f)"
      ]
    },
    {
      "cell_type": "code",
      "execution_count": null,
      "metadata": {
        "colab": {
          "base_uri": "https://localhost:8080/"
        },
        "id": "RebZ8cmKNlMJ",
        "outputId": "fd1b776d-fcf6-412c-c369-3c20b6f771ec"
      },
      "outputs": [
        {
          "data": {
            "text/plain": [
              "('339820',\n",
              " \"Senator Percy Mockler Opens in a new window Parliament of Canada Visit Parliament Visit Français Fr Search Contact Us Facebook Twitter Instragram YouTube Linked in Search About the Senate About the Senate - Home Senate of Canada Building Publications Photo Gallery Art & Architecture Transparency & Accountability Careers Procedural References Administration & Support Accessibility at the Senate Parliamentary Diplomacy Visit the Senate Everything you need to know to plan your trip. eNewsletter Learn how the Senate represents you by subscribing to our eNewsletter. Page Program Learn about the important role these young people play in the Senate. SENgage Senators engaging youth. Senators In the Chamber In the Chamber - Home Order Paper and Notice Paper Journals of the Senate Debates of the Senate (Hansard) Votes Procedural References LEGISinfo Watch & Listen Bills Before Parliament See what bills are being debated on Parliament Hill. Speaker of the Senate Learn about the Speaker's role in the Senate and beyond. Committees Committees - Home About Committees Schedule of All Meetings Studies & Bills Reports News For Media For Witnesses Subscribe to Committee Alerts Watch & Listen LEGISinfo Calendar Newsroom SenCAplus SenCAplus - Home Welcome to SenCAplus The Online Magazine of the Senate People News Opinion Social Media How & Why Senator Percy Mockler Province: New Brunswick (New Brunswick) Affiliation: Conservative Party of Canada Telephone: 613-947-4225 Fax: 613-947-4227 Email: percy.mockler@sen.parl.gc.ca Electronic card Staff: Thériault-Michaud, Diane; Long, Yvon; Soucy, Jean-Paul Personal Website: http://percymockler.sencanada.ca/ Follow: Facebook Twitter Back to top House of Commons Library of Parliament Parliamentary Protective Service Employment at Parliament Contact Us Facebook Twitter Instragram YouTube Linked in Click to see the latest tweets. © Senate of Canada Important Notices Intellectual Property Accessibility For Media eNewsletter Contact Us s:191:B1\")"
            ]
          },
          "execution_count": 22,
          "metadata": {},
          "output_type": "execute_result"
        }
      ],
      "source": [
        "list(pure_texts.items())[0]"
      ]
    },
    {
      "cell_type": "code",
      "execution_count": null,
      "metadata": {
        "colab": {
          "base_uri": "https://localhost:8080/"
        },
        "id": "kMUvpVoIE-k2",
        "outputId": "8757bfdd-c909-41c2-c4ac-3d747e1acc74"
      },
      "outputs": [
        {
          "data": {
            "text/plain": [
              "('339820',\n",
              " ['percy.mockler@sen.parl.gc.ca',\n",
              "  'percy.mockler@sen.parl.gc.ca',\n",
              "  'popper.js@1.16.1',\n",
              "  'bootstrap@4.6.0'])"
            ]
          },
          "execution_count": 23,
          "metadata": {},
          "output_type": "execute_result"
        }
      ],
      "source": [
        "list(extracted_emails.items())[0]"
      ]
    }
  ],
  "metadata": {
    "colab": {
      "provenance": []
    },
    "kernelspec": {
      "display_name": "Python 3.9.6 64-bit",
      "language": "python",
      "name": "python3"
    },
    "language_info": {
      "name": "python",
      "version": "3.9.6"
    },
    "vscode": {
      "interpreter": {
        "hash": "31f2aee4e71d21fbe5cf8b01ff0e069b9275f58929596ceb00d14d90e3e16cd6"
      }
    }
  },
  "nbformat": 4,
  "nbformat_minor": 0
}
